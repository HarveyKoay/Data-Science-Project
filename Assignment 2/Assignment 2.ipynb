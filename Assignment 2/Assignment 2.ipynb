{
 "cells": [
  {
   "cell_type": "markdown",
   "id": "370a2b63",
   "metadata": {},
   "source": [
    "# FIT 1043 Introduction to Data Science\n",
    "\n",
    "## Assignment 2\n",
    "\n",
    "### Harvey Koay Wern Shern\n",
    "\n",
    "### 34046917\n",
    "\n"
   ]
  },
  {
   "cell_type": "markdown",
   "id": "4e61078f",
   "metadata": {},
   "source": [
    "The main objective of this Assignment is to conduct predictive analytics by building predictive models on a dataset using Python in Jupyter Notebook. Thus, we will explore the following Data sets:\n",
    "\n",
    "1. FIT1043-Essay-Features.csv\n",
    "2. FIT1043-Essay-Features-Submission.csv"
   ]
  },
  {
   "cell_type": "markdown",
   "id": "df771719",
   "metadata": {},
   "source": [
    "# Part A: Classification"
   ]
  },
  {
   "cell_type": "markdown",
   "id": "33a1c1c7",
   "metadata": {},
   "source": [
    "# A1. Supervised learning"
   ]
  },
  {
   "cell_type": "markdown",
   "id": "f31e0370",
   "metadata": {},
   "source": [
    "### Question 1"
   ]
  },
  {
   "cell_type": "markdown",
   "id": "3f15d862",
   "metadata": {},
   "source": [
    "Supervised machine learning is where the algorithms learn to predict the output from the input data and all data is labelled where the goal is to estimate the mapping function to a point where you can predict the output variable when new input data is given for that data.\n",
    "\n",
    "The notion of labelled data are data tagged by one or more categories to train and test models which are vital for supervised learning, and aiding in quality model training\n",
    "\n",
    "Training Set: In data science, the training set is the chunk of data specifically reserved for teaching a machine learning model how to recognize patterns, relationships, or trends in the data. It is like a driving instructor teaching a new student how to drive.\n",
    "\n",
    "Testing Set: The testing set, on the other hand, is another portion of data used to evaluate the model's performance. It's like testing the skills of a student after he learn to drive. "
   ]
  },
  {
   "cell_type": "markdown",
   "id": "4357502e",
   "metadata": {},
   "source": [
    "### Question 2"
   ]
  },
  {
   "cell_type": "code",
   "execution_count": 1,
   "id": "4a85c6fc",
   "metadata": {},
   "outputs": [
    {
     "data": {
      "text/html": [
       "<div>\n",
       "<style scoped>\n",
       "    .dataframe tbody tr th:only-of-type {\n",
       "        vertical-align: middle;\n",
       "    }\n",
       "\n",
       "    .dataframe tbody tr th {\n",
       "        vertical-align: top;\n",
       "    }\n",
       "\n",
       "    .dataframe thead th {\n",
       "        text-align: right;\n",
       "    }\n",
       "</style>\n",
       "<table border=\"1\" class=\"dataframe\">\n",
       "  <thead>\n",
       "    <tr style=\"text-align: right;\">\n",
       "      <th></th>\n",
       "      <th>essayid</th>\n",
       "      <th>chars</th>\n",
       "      <th>words</th>\n",
       "      <th>commas</th>\n",
       "      <th>apostrophes</th>\n",
       "      <th>punctuations</th>\n",
       "      <th>avg_word_length</th>\n",
       "      <th>sentences</th>\n",
       "      <th>questions</th>\n",
       "      <th>avg_word_sentence</th>\n",
       "      <th>POS</th>\n",
       "      <th>POS/total_words</th>\n",
       "      <th>prompt_words</th>\n",
       "      <th>prompt_words/total_words</th>\n",
       "      <th>synonym_words</th>\n",
       "      <th>synonym_words/total_words</th>\n",
       "      <th>unstemmed</th>\n",
       "      <th>stemmed</th>\n",
       "      <th>score</th>\n",
       "    </tr>\n",
       "  </thead>\n",
       "  <tbody>\n",
       "    <tr>\n",
       "      <th>0</th>\n",
       "      <td>1457</td>\n",
       "      <td>2153</td>\n",
       "      <td>426</td>\n",
       "      <td>14</td>\n",
       "      <td>6</td>\n",
       "      <td>0</td>\n",
       "      <td>5.053991</td>\n",
       "      <td>16</td>\n",
       "      <td>0</td>\n",
       "      <td>26.625000</td>\n",
       "      <td>423.995272</td>\n",
       "      <td>0.995294</td>\n",
       "      <td>207</td>\n",
       "      <td>0.485915</td>\n",
       "      <td>105</td>\n",
       "      <td>0.246479</td>\n",
       "      <td>424</td>\n",
       "      <td>412</td>\n",
       "      <td>4</td>\n",
       "    </tr>\n",
       "    <tr>\n",
       "      <th>1</th>\n",
       "      <td>503</td>\n",
       "      <td>1480</td>\n",
       "      <td>292</td>\n",
       "      <td>9</td>\n",
       "      <td>7</td>\n",
       "      <td>0</td>\n",
       "      <td>5.068493</td>\n",
       "      <td>11</td>\n",
       "      <td>0</td>\n",
       "      <td>26.545455</td>\n",
       "      <td>290.993103</td>\n",
       "      <td>0.996552</td>\n",
       "      <td>148</td>\n",
       "      <td>0.506849</td>\n",
       "      <td>77</td>\n",
       "      <td>0.263699</td>\n",
       "      <td>356</td>\n",
       "      <td>345</td>\n",
       "      <td>4</td>\n",
       "    </tr>\n",
       "    <tr>\n",
       "      <th>2</th>\n",
       "      <td>253</td>\n",
       "      <td>3964</td>\n",
       "      <td>849</td>\n",
       "      <td>19</td>\n",
       "      <td>26</td>\n",
       "      <td>1</td>\n",
       "      <td>4.669022</td>\n",
       "      <td>49</td>\n",
       "      <td>2</td>\n",
       "      <td>17.326531</td>\n",
       "      <td>843.990544</td>\n",
       "      <td>0.994100</td>\n",
       "      <td>285</td>\n",
       "      <td>0.335689</td>\n",
       "      <td>130</td>\n",
       "      <td>0.153121</td>\n",
       "      <td>750</td>\n",
       "      <td>750</td>\n",
       "      <td>4</td>\n",
       "    </tr>\n",
       "    <tr>\n",
       "      <th>3</th>\n",
       "      <td>107</td>\n",
       "      <td>988</td>\n",
       "      <td>210</td>\n",
       "      <td>8</td>\n",
       "      <td>7</td>\n",
       "      <td>0</td>\n",
       "      <td>4.704762</td>\n",
       "      <td>12</td>\n",
       "      <td>0</td>\n",
       "      <td>17.500000</td>\n",
       "      <td>207.653784</td>\n",
       "      <td>0.988828</td>\n",
       "      <td>112</td>\n",
       "      <td>0.533333</td>\n",
       "      <td>62</td>\n",
       "      <td>0.295238</td>\n",
       "      <td>217</td>\n",
       "      <td>209</td>\n",
       "      <td>3</td>\n",
       "    </tr>\n",
       "    <tr>\n",
       "      <th>4</th>\n",
       "      <td>1450</td>\n",
       "      <td>3139</td>\n",
       "      <td>600</td>\n",
       "      <td>13</td>\n",
       "      <td>8</td>\n",
       "      <td>0</td>\n",
       "      <td>5.231667</td>\n",
       "      <td>24</td>\n",
       "      <td>1</td>\n",
       "      <td>25.000000</td>\n",
       "      <td>594.652150</td>\n",
       "      <td>0.991087</td>\n",
       "      <td>255</td>\n",
       "      <td>0.425000</td>\n",
       "      <td>165</td>\n",
       "      <td>0.275000</td>\n",
       "      <td>702</td>\n",
       "      <td>677</td>\n",
       "      <td>4</td>\n",
       "    </tr>\n",
       "    <tr>\n",
       "      <th>...</th>\n",
       "      <td>...</td>\n",
       "      <td>...</td>\n",
       "      <td>...</td>\n",
       "      <td>...</td>\n",
       "      <td>...</td>\n",
       "      <td>...</td>\n",
       "      <td>...</td>\n",
       "      <td>...</td>\n",
       "      <td>...</td>\n",
       "      <td>...</td>\n",
       "      <td>...</td>\n",
       "      <td>...</td>\n",
       "      <td>...</td>\n",
       "      <td>...</td>\n",
       "      <td>...</td>\n",
       "      <td>...</td>\n",
       "      <td>...</td>\n",
       "      <td>...</td>\n",
       "      <td>...</td>\n",
       "    </tr>\n",
       "    <tr>\n",
       "      <th>1327</th>\n",
       "      <td>1151</td>\n",
       "      <td>2404</td>\n",
       "      <td>467</td>\n",
       "      <td>16</td>\n",
       "      <td>10</td>\n",
       "      <td>0</td>\n",
       "      <td>5.147752</td>\n",
       "      <td>22</td>\n",
       "      <td>0</td>\n",
       "      <td>21.227273</td>\n",
       "      <td>462.987069</td>\n",
       "      <td>0.991407</td>\n",
       "      <td>200</td>\n",
       "      <td>0.428266</td>\n",
       "      <td>113</td>\n",
       "      <td>0.241970</td>\n",
       "      <td>529</td>\n",
       "      <td>519</td>\n",
       "      <td>4</td>\n",
       "    </tr>\n",
       "    <tr>\n",
       "      <th>1328</th>\n",
       "      <td>1015</td>\n",
       "      <td>1182</td>\n",
       "      <td>241</td>\n",
       "      <td>0</td>\n",
       "      <td>14</td>\n",
       "      <td>0</td>\n",
       "      <td>4.904564</td>\n",
       "      <td>16</td>\n",
       "      <td>0</td>\n",
       "      <td>15.062500</td>\n",
       "      <td>238.655462</td>\n",
       "      <td>0.990272</td>\n",
       "      <td>94</td>\n",
       "      <td>0.390041</td>\n",
       "      <td>67</td>\n",
       "      <td>0.278008</td>\n",
       "      <td>293</td>\n",
       "      <td>283</td>\n",
       "      <td>3</td>\n",
       "    </tr>\n",
       "    <tr>\n",
       "      <th>1329</th>\n",
       "      <td>1345</td>\n",
       "      <td>1814</td>\n",
       "      <td>363</td>\n",
       "      <td>5</td>\n",
       "      <td>11</td>\n",
       "      <td>0</td>\n",
       "      <td>4.997245</td>\n",
       "      <td>13</td>\n",
       "      <td>3</td>\n",
       "      <td>27.923077</td>\n",
       "      <td>362.329640</td>\n",
       "      <td>0.998153</td>\n",
       "      <td>170</td>\n",
       "      <td>0.468320</td>\n",
       "      <td>107</td>\n",
       "      <td>0.294766</td>\n",
       "      <td>427</td>\n",
       "      <td>415</td>\n",
       "      <td>3</td>\n",
       "    </tr>\n",
       "    <tr>\n",
       "      <th>1330</th>\n",
       "      <td>344</td>\n",
       "      <td>1427</td>\n",
       "      <td>287</td>\n",
       "      <td>5</td>\n",
       "      <td>8</td>\n",
       "      <td>0</td>\n",
       "      <td>4.972125</td>\n",
       "      <td>13</td>\n",
       "      <td>1</td>\n",
       "      <td>22.076923</td>\n",
       "      <td>284.657277</td>\n",
       "      <td>0.991837</td>\n",
       "      <td>144</td>\n",
       "      <td>0.501742</td>\n",
       "      <td>83</td>\n",
       "      <td>0.289199</td>\n",
       "      <td>323</td>\n",
       "      <td>312</td>\n",
       "      <td>3</td>\n",
       "    </tr>\n",
       "    <tr>\n",
       "      <th>1331</th>\n",
       "      <td>1077</td>\n",
       "      <td>2806</td>\n",
       "      <td>542</td>\n",
       "      <td>24</td>\n",
       "      <td>6</td>\n",
       "      <td>0</td>\n",
       "      <td>5.177122</td>\n",
       "      <td>22</td>\n",
       "      <td>3</td>\n",
       "      <td>24.636364</td>\n",
       "      <td>538.988889</td>\n",
       "      <td>0.994444</td>\n",
       "      <td>284</td>\n",
       "      <td>0.523985</td>\n",
       "      <td>155</td>\n",
       "      <td>0.285978</td>\n",
       "      <td>596</td>\n",
       "      <td>575</td>\n",
       "      <td>4</td>\n",
       "    </tr>\n",
       "  </tbody>\n",
       "</table>\n",
       "<p>1332 rows × 19 columns</p>\n",
       "</div>"
      ],
      "text/plain": [
       "      essayid  chars  words  commas  apostrophes  punctuations  \\\n",
       "0        1457   2153    426      14            6             0   \n",
       "1         503   1480    292       9            7             0   \n",
       "2         253   3964    849      19           26             1   \n",
       "3         107    988    210       8            7             0   \n",
       "4        1450   3139    600      13            8             0   \n",
       "...       ...    ...    ...     ...          ...           ...   \n",
       "1327     1151   2404    467      16           10             0   \n",
       "1328     1015   1182    241       0           14             0   \n",
       "1329     1345   1814    363       5           11             0   \n",
       "1330      344   1427    287       5            8             0   \n",
       "1331     1077   2806    542      24            6             0   \n",
       "\n",
       "      avg_word_length  sentences  questions  avg_word_sentence         POS  \\\n",
       "0            5.053991         16          0          26.625000  423.995272   \n",
       "1            5.068493         11          0          26.545455  290.993103   \n",
       "2            4.669022         49          2          17.326531  843.990544   \n",
       "3            4.704762         12          0          17.500000  207.653784   \n",
       "4            5.231667         24          1          25.000000  594.652150   \n",
       "...               ...        ...        ...                ...         ...   \n",
       "1327         5.147752         22          0          21.227273  462.987069   \n",
       "1328         4.904564         16          0          15.062500  238.655462   \n",
       "1329         4.997245         13          3          27.923077  362.329640   \n",
       "1330         4.972125         13          1          22.076923  284.657277   \n",
       "1331         5.177122         22          3          24.636364  538.988889   \n",
       "\n",
       "      POS/total_words  prompt_words  prompt_words/total_words  synonym_words  \\\n",
       "0            0.995294           207                  0.485915            105   \n",
       "1            0.996552           148                  0.506849             77   \n",
       "2            0.994100           285                  0.335689            130   \n",
       "3            0.988828           112                  0.533333             62   \n",
       "4            0.991087           255                  0.425000            165   \n",
       "...               ...           ...                       ...            ...   \n",
       "1327         0.991407           200                  0.428266            113   \n",
       "1328         0.990272            94                  0.390041             67   \n",
       "1329         0.998153           170                  0.468320            107   \n",
       "1330         0.991837           144                  0.501742             83   \n",
       "1331         0.994444           284                  0.523985            155   \n",
       "\n",
       "      synonym_words/total_words  unstemmed  stemmed  score  \n",
       "0                      0.246479        424      412      4  \n",
       "1                      0.263699        356      345      4  \n",
       "2                      0.153121        750      750      4  \n",
       "3                      0.295238        217      209      3  \n",
       "4                      0.275000        702      677      4  \n",
       "...                         ...        ...      ...    ...  \n",
       "1327                   0.241970        529      519      4  \n",
       "1328                   0.278008        293      283      3  \n",
       "1329                   0.294766        427      415      3  \n",
       "1330                   0.289199        323      312      3  \n",
       "1331                   0.285978        596      575      4  \n",
       "\n",
       "[1332 rows x 19 columns]"
      ]
     },
     "execution_count": 1,
     "metadata": {},
     "output_type": "execute_result"
    }
   ],
   "source": [
    "import numpy as np\n",
    "import pandas as pd\n",
    "import matplotlib.pyplot as plt\n",
    "dataset = pd.read_csv('FIT1043-Essay-Features.csv')\n",
    "dataset"
   ]
  },
  {
   "cell_type": "markdown",
   "id": "e5b2c3c1",
   "metadata": {},
   "source": [
    "From this dataset i chose words, sentences, question, POS/total_words, and prompt_words/total_words as information that may affect may classification and model"
   ]
  },
  {
   "cell_type": "code",
   "execution_count": 2,
   "id": "d508356b",
   "metadata": {},
   "outputs": [
    {
     "data": {
      "text/plain": [
       "array([[4.26000000e+02, 1.60000000e+01, 0.00000000e+00, 9.95294065e-01,\n",
       "        4.85915493e-01],\n",
       "       [2.92000000e+02, 1.10000000e+01, 0.00000000e+00, 9.96551724e-01,\n",
       "        5.06849315e-01],\n",
       "       [8.49000000e+02, 4.90000000e+01, 2.00000000e+00, 9.94099580e-01,\n",
       "        3.35689046e-01],\n",
       "       ...,\n",
       "       [3.63000000e+02, 1.30000000e+01, 3.00000000e+00, 9.98153278e-01,\n",
       "        4.68319559e-01],\n",
       "       [2.87000000e+02, 1.30000000e+01, 1.00000000e+00, 9.91837202e-01,\n",
       "        5.01742160e-01],\n",
       "       [5.42000000e+02, 2.20000000e+01, 3.00000000e+00, 9.94444444e-01,\n",
       "        5.23985240e-01]])"
      ]
     },
     "execution_count": 2,
     "metadata": {},
     "output_type": "execute_result"
    }
   ],
   "source": [
    "x = dataset.iloc[:, [2, 7, 8, 11, 13]].values\n",
    "y = dataset.iloc[:, -1].values\n",
    "x"
   ]
  },
  {
   "cell_type": "code",
   "execution_count": 3,
   "id": "ed9f9085",
   "metadata": {},
   "outputs": [
    {
     "data": {
      "text/plain": [
       "array([4, 4, 4, ..., 3, 3, 4])"
      ]
     },
     "execution_count": 3,
     "metadata": {},
     "output_type": "execute_result"
    }
   ],
   "source": [
    "y"
   ]
  },
  {
   "cell_type": "markdown",
   "id": "15d652a7",
   "metadata": {},
   "source": [
    "### Question 3"
   ]
  },
  {
   "cell_type": "code",
   "execution_count": 4,
   "id": "4b52e58d",
   "metadata": {},
   "outputs": [],
   "source": [
    "from sklearn.model_selection import train_test_split \n",
    "X_train, X_test, y_train, y_test = train_test_split(x, y, test_size = 0.25, random_state = 0)"
   ]
  },
  {
   "cell_type": "markdown",
   "id": "81aa0be5",
   "metadata": {},
   "source": [
    "# A2. Classification(training)"
   ]
  },
  {
   "cell_type": "markdown",
   "id": "91a25da2",
   "metadata": {},
   "source": [
    "### Question 1"
   ]
  },
  {
   "cell_type": "markdown",
   "id": "dcfd144b",
   "metadata": {},
   "source": [
    "Binary classification is a type of supervised machine learning task where the objective is to sort data into two distinct and exclusive categories. These categories can be denoted as 0 and 1, positive and negative, or true and false. In binary classification, models are trained using a labeled dataset, which means the data is already categorized into the desired outcomes.\n",
    "\n",
    "Multiclass classification is also a type of supervised machine learning and involves categorizing data into three or more distinct groups or categories. Unlike binary classification, where the model makes a choice between just two classes for each data point, a multiclass classifier is trained to make predictions among three or more classes for each data point.\n",
    "\n"
   ]
  },
  {
   "cell_type": "markdown",
   "id": "ee723cfe",
   "metadata": {},
   "source": [
    "### Question 2a"
   ]
  },
  {
   "cell_type": "markdown",
   "id": "bb7bf2f0",
   "metadata": {},
   "source": [
    "Objective functions may not work properly in some machine learning algorithms without feature scaling as the range of values of raw data varies widely. The range of all the features should be normalised or scaled in order for each of them to contribute to the final distance uniformly."
   ]
  },
  {
   "cell_type": "markdown",
   "id": "7167ccf7",
   "metadata": {},
   "source": [
    "### Question 2b"
   ]
  },
  {
   "cell_type": "markdown",
   "id": "daffea9d",
   "metadata": {},
   "source": [
    "We fit_transform the training set but not the test set to scale to have a mean of 0 and a certain standard deviation which will be stored in the StandardScaler() and applied to the testing dataset using transform() function"
   ]
  },
  {
   "cell_type": "code",
   "execution_count": 5,
   "id": "7c4f083a",
   "metadata": {},
   "outputs": [],
   "source": [
    "from sklearn.preprocessing import StandardScaler\n",
    "sc = StandardScaler()\n",
    "X_train = sc.fit_transform(X_train)\n",
    "X_test = sc.transform(X_test)"
   ]
  },
  {
   "cell_type": "markdown",
   "id": "1bbb6228",
   "metadata": {},
   "source": [
    "### Question 3a"
   ]
  },
  {
   "cell_type": "markdown",
   "id": "4071573c",
   "metadata": {},
   "source": [
    "Support Vector Machines (SVMs) represent a versatile set of supervised learning techniques. They find applications in tasks like classification, regression, and identifying outliers. SVMs excel at drawing decision boundaries in data, making them valuable in various data analysis scenarios."
   ]
  },
  {
   "cell_type": "markdown",
   "id": "d71e3666",
   "metadata": {},
   "source": [
    "### Question 3b"
   ]
  },
  {
   "cell_type": "markdown",
   "id": "03596024",
   "metadata": {},
   "source": [
    "In SVMs, kernels are mathematical tools that transform data into a higher-dimensional space to find more complex decision boundaries, making it useful for nonlinear classification problems. Common kernels include linear, polynomial, Gaussian (RBF), and sigmoid. The choice of kernel depends on the data and problem."
   ]
  },
  {
   "cell_type": "markdown",
   "id": "7a166288",
   "metadata": {},
   "source": [
    "### Question 3c"
   ]
  },
  {
   "cell_type": "markdown",
   "id": "43ec9790",
   "metadata": {},
   "source": [
    "#### Support Vector Machine algorithm"
   ]
  },
  {
   "cell_type": "code",
   "execution_count": 6,
   "id": "4e41250c",
   "metadata": {},
   "outputs": [
    {
     "data": {
      "text/html": [
       "<style>#sk-container-id-1 {color: black;}#sk-container-id-1 pre{padding: 0;}#sk-container-id-1 div.sk-toggleable {background-color: white;}#sk-container-id-1 label.sk-toggleable__label {cursor: pointer;display: block;width: 100%;margin-bottom: 0;padding: 0.3em;box-sizing: border-box;text-align: center;}#sk-container-id-1 label.sk-toggleable__label-arrow:before {content: \"▸\";float: left;margin-right: 0.25em;color: #696969;}#sk-container-id-1 label.sk-toggleable__label-arrow:hover:before {color: black;}#sk-container-id-1 div.sk-estimator:hover label.sk-toggleable__label-arrow:before {color: black;}#sk-container-id-1 div.sk-toggleable__content {max-height: 0;max-width: 0;overflow: hidden;text-align: left;background-color: #f0f8ff;}#sk-container-id-1 div.sk-toggleable__content pre {margin: 0.2em;color: black;border-radius: 0.25em;background-color: #f0f8ff;}#sk-container-id-1 input.sk-toggleable__control:checked~div.sk-toggleable__content {max-height: 200px;max-width: 100%;overflow: auto;}#sk-container-id-1 input.sk-toggleable__control:checked~label.sk-toggleable__label-arrow:before {content: \"▾\";}#sk-container-id-1 div.sk-estimator input.sk-toggleable__control:checked~label.sk-toggleable__label {background-color: #d4ebff;}#sk-container-id-1 div.sk-label input.sk-toggleable__control:checked~label.sk-toggleable__label {background-color: #d4ebff;}#sk-container-id-1 input.sk-hidden--visually {border: 0;clip: rect(1px 1px 1px 1px);clip: rect(1px, 1px, 1px, 1px);height: 1px;margin: -1px;overflow: hidden;padding: 0;position: absolute;width: 1px;}#sk-container-id-1 div.sk-estimator {font-family: monospace;background-color: #f0f8ff;border: 1px dotted black;border-radius: 0.25em;box-sizing: border-box;margin-bottom: 0.5em;}#sk-container-id-1 div.sk-estimator:hover {background-color: #d4ebff;}#sk-container-id-1 div.sk-parallel-item::after {content: \"\";width: 100%;border-bottom: 1px solid gray;flex-grow: 1;}#sk-container-id-1 div.sk-label:hover label.sk-toggleable__label {background-color: #d4ebff;}#sk-container-id-1 div.sk-serial::before {content: \"\";position: absolute;border-left: 1px solid gray;box-sizing: border-box;top: 0;bottom: 0;left: 50%;z-index: 0;}#sk-container-id-1 div.sk-serial {display: flex;flex-direction: column;align-items: center;background-color: white;padding-right: 0.2em;padding-left: 0.2em;position: relative;}#sk-container-id-1 div.sk-item {position: relative;z-index: 1;}#sk-container-id-1 div.sk-parallel {display: flex;align-items: stretch;justify-content: center;background-color: white;position: relative;}#sk-container-id-1 div.sk-item::before, #sk-container-id-1 div.sk-parallel-item::before {content: \"\";position: absolute;border-left: 1px solid gray;box-sizing: border-box;top: 0;bottom: 0;left: 50%;z-index: -1;}#sk-container-id-1 div.sk-parallel-item {display: flex;flex-direction: column;z-index: 1;position: relative;background-color: white;}#sk-container-id-1 div.sk-parallel-item:first-child::after {align-self: flex-end;width: 50%;}#sk-container-id-1 div.sk-parallel-item:last-child::after {align-self: flex-start;width: 50%;}#sk-container-id-1 div.sk-parallel-item:only-child::after {width: 0;}#sk-container-id-1 div.sk-dashed-wrapped {border: 1px dashed gray;margin: 0 0.4em 0.5em 0.4em;box-sizing: border-box;padding-bottom: 0.4em;background-color: white;}#sk-container-id-1 div.sk-label label {font-family: monospace;font-weight: bold;display: inline-block;line-height: 1.2em;}#sk-container-id-1 div.sk-label-container {text-align: center;}#sk-container-id-1 div.sk-container {/* jupyter's `normalize.less` sets `[hidden] { display: none; }` but bootstrap.min.css set `[hidden] { display: none !important; }` so we also need the `!important` here to be able to override the default hidden behavior on the sphinx rendered scikit-learn.org. See: https://github.com/scikit-learn/scikit-learn/issues/21755 */display: inline-block !important;position: relative;}#sk-container-id-1 div.sk-text-repr-fallback {display: none;}</style><div id=\"sk-container-id-1\" class=\"sk-top-container\"><div class=\"sk-text-repr-fallback\"><pre>SVC()</pre><b>In a Jupyter environment, please rerun this cell to show the HTML representation or trust the notebook. <br />On GitHub, the HTML representation is unable to render, please try loading this page with nbviewer.org.</b></div><div class=\"sk-container\" hidden><div class=\"sk-item\"><div class=\"sk-estimator sk-toggleable\"><input class=\"sk-toggleable__control sk-hidden--visually\" id=\"sk-estimator-id-1\" type=\"checkbox\" checked><label for=\"sk-estimator-id-1\" class=\"sk-toggleable__label sk-toggleable__label-arrow\">SVC</label><div class=\"sk-toggleable__content\"><pre>SVC()</pre></div></div></div></div></div>"
      ],
      "text/plain": [
       "SVC()"
      ]
     },
     "execution_count": 6,
     "metadata": {},
     "output_type": "execute_result"
    }
   ],
   "source": [
    "from sklearn import svm\n",
    "clf = svm.SVC()\n",
    "clf.fit(X_train, y_train)"
   ]
  },
  {
   "cell_type": "markdown",
   "id": "63c5791c",
   "metadata": {},
   "source": [
    "### Question 4"
   ]
  },
  {
   "cell_type": "markdown",
   "id": "17601f20",
   "metadata": {},
   "source": [
    "#### Decision Tree Classification "
   ]
  },
  {
   "cell_type": "code",
   "execution_count": 7,
   "id": "2e9d4ed0",
   "metadata": {
    "scrolled": true
   },
   "outputs": [
    {
     "data": {
      "text/html": [
       "<style>#sk-container-id-2 {color: black;}#sk-container-id-2 pre{padding: 0;}#sk-container-id-2 div.sk-toggleable {background-color: white;}#sk-container-id-2 label.sk-toggleable__label {cursor: pointer;display: block;width: 100%;margin-bottom: 0;padding: 0.3em;box-sizing: border-box;text-align: center;}#sk-container-id-2 label.sk-toggleable__label-arrow:before {content: \"▸\";float: left;margin-right: 0.25em;color: #696969;}#sk-container-id-2 label.sk-toggleable__label-arrow:hover:before {color: black;}#sk-container-id-2 div.sk-estimator:hover label.sk-toggleable__label-arrow:before {color: black;}#sk-container-id-2 div.sk-toggleable__content {max-height: 0;max-width: 0;overflow: hidden;text-align: left;background-color: #f0f8ff;}#sk-container-id-2 div.sk-toggleable__content pre {margin: 0.2em;color: black;border-radius: 0.25em;background-color: #f0f8ff;}#sk-container-id-2 input.sk-toggleable__control:checked~div.sk-toggleable__content {max-height: 200px;max-width: 100%;overflow: auto;}#sk-container-id-2 input.sk-toggleable__control:checked~label.sk-toggleable__label-arrow:before {content: \"▾\";}#sk-container-id-2 div.sk-estimator input.sk-toggleable__control:checked~label.sk-toggleable__label {background-color: #d4ebff;}#sk-container-id-2 div.sk-label input.sk-toggleable__control:checked~label.sk-toggleable__label {background-color: #d4ebff;}#sk-container-id-2 input.sk-hidden--visually {border: 0;clip: rect(1px 1px 1px 1px);clip: rect(1px, 1px, 1px, 1px);height: 1px;margin: -1px;overflow: hidden;padding: 0;position: absolute;width: 1px;}#sk-container-id-2 div.sk-estimator {font-family: monospace;background-color: #f0f8ff;border: 1px dotted black;border-radius: 0.25em;box-sizing: border-box;margin-bottom: 0.5em;}#sk-container-id-2 div.sk-estimator:hover {background-color: #d4ebff;}#sk-container-id-2 div.sk-parallel-item::after {content: \"\";width: 100%;border-bottom: 1px solid gray;flex-grow: 1;}#sk-container-id-2 div.sk-label:hover label.sk-toggleable__label {background-color: #d4ebff;}#sk-container-id-2 div.sk-serial::before {content: \"\";position: absolute;border-left: 1px solid gray;box-sizing: border-box;top: 0;bottom: 0;left: 50%;z-index: 0;}#sk-container-id-2 div.sk-serial {display: flex;flex-direction: column;align-items: center;background-color: white;padding-right: 0.2em;padding-left: 0.2em;position: relative;}#sk-container-id-2 div.sk-item {position: relative;z-index: 1;}#sk-container-id-2 div.sk-parallel {display: flex;align-items: stretch;justify-content: center;background-color: white;position: relative;}#sk-container-id-2 div.sk-item::before, #sk-container-id-2 div.sk-parallel-item::before {content: \"\";position: absolute;border-left: 1px solid gray;box-sizing: border-box;top: 0;bottom: 0;left: 50%;z-index: -1;}#sk-container-id-2 div.sk-parallel-item {display: flex;flex-direction: column;z-index: 1;position: relative;background-color: white;}#sk-container-id-2 div.sk-parallel-item:first-child::after {align-self: flex-end;width: 50%;}#sk-container-id-2 div.sk-parallel-item:last-child::after {align-self: flex-start;width: 50%;}#sk-container-id-2 div.sk-parallel-item:only-child::after {width: 0;}#sk-container-id-2 div.sk-dashed-wrapped {border: 1px dashed gray;margin: 0 0.4em 0.5em 0.4em;box-sizing: border-box;padding-bottom: 0.4em;background-color: white;}#sk-container-id-2 div.sk-label label {font-family: monospace;font-weight: bold;display: inline-block;line-height: 1.2em;}#sk-container-id-2 div.sk-label-container {text-align: center;}#sk-container-id-2 div.sk-container {/* jupyter's `normalize.less` sets `[hidden] { display: none; }` but bootstrap.min.css set `[hidden] { display: none !important; }` so we also need the `!important` here to be able to override the default hidden behavior on the sphinx rendered scikit-learn.org. See: https://github.com/scikit-learn/scikit-learn/issues/21755 */display: inline-block !important;position: relative;}#sk-container-id-2 div.sk-text-repr-fallback {display: none;}</style><div id=\"sk-container-id-2\" class=\"sk-top-container\"><div class=\"sk-text-repr-fallback\"><pre>DecisionTreeClassifier(criterion=&#x27;entropy&#x27;, random_state=0)</pre><b>In a Jupyter environment, please rerun this cell to show the HTML representation or trust the notebook. <br />On GitHub, the HTML representation is unable to render, please try loading this page with nbviewer.org.</b></div><div class=\"sk-container\" hidden><div class=\"sk-item\"><div class=\"sk-estimator sk-toggleable\"><input class=\"sk-toggleable__control sk-hidden--visually\" id=\"sk-estimator-id-2\" type=\"checkbox\" checked><label for=\"sk-estimator-id-2\" class=\"sk-toggleable__label sk-toggleable__label-arrow\">DecisionTreeClassifier</label><div class=\"sk-toggleable__content\"><pre>DecisionTreeClassifier(criterion=&#x27;entropy&#x27;, random_state=0)</pre></div></div></div></div></div>"
      ],
      "text/plain": [
       "DecisionTreeClassifier(criterion='entropy', random_state=0)"
      ]
     },
     "execution_count": 7,
     "metadata": {},
     "output_type": "execute_result"
    }
   ],
   "source": [
    "from sklearn.tree import DecisionTreeClassifier\n",
    "classifier = DecisionTreeClassifier(\n",
    "    criterion = 'entropy', random_state = 0\n",
    ")\n",
    "classifier.fit(X_train, y_train)"
   ]
  },
  {
   "cell_type": "markdown",
   "id": "6bca4e70",
   "metadata": {},
   "source": [
    "# A3. Classification (prediction)"
   ]
  },
  {
   "cell_type": "markdown",
   "id": "e8f0c70c",
   "metadata": {},
   "source": [
    "### Question 1"
   ]
  },
  {
   "cell_type": "markdown",
   "id": "03ff0200",
   "metadata": {},
   "source": [
    "#### Support Vector Machine algorithm"
   ]
  },
  {
   "cell_type": "code",
   "execution_count": 8,
   "id": "3908d71d",
   "metadata": {},
   "outputs": [
    {
     "data": {
      "text/plain": [
       "array([4, 3, 3, 2, 3, 4, 4, 4, 2, 4, 4, 3, 4, 3, 3, 4, 3, 4, 3, 4, 2, 4,\n",
       "       3, 3, 3, 4, 4, 4, 3, 4, 4, 3, 3, 4, 4, 3, 4, 4, 3, 3, 4, 2, 4, 3,\n",
       "       3, 3, 4, 3, 2, 3, 4, 3, 4, 4, 4, 4, 4, 3, 3, 4, 4, 4, 3, 3, 4, 4,\n",
       "       4, 4, 4, 4, 3, 3, 4, 4, 4, 3, 3, 4, 4, 3, 4, 3, 4, 3, 3, 4, 4, 3,\n",
       "       4, 4, 3, 4, 3, 3, 3, 4, 3, 4, 3, 2, 4, 4, 3, 4, 4, 3, 4, 4, 4, 4,\n",
       "       3, 3, 3, 4, 4, 4, 3, 4, 3, 3, 3, 3, 4, 4, 3, 4, 3, 4, 4, 4, 4, 4,\n",
       "       4, 4, 4, 3, 3, 4, 4, 2, 4, 4, 4, 4, 4, 3, 3, 3, 4, 4, 4, 3, 4, 4,\n",
       "       4, 3, 3, 4, 4, 4, 4, 4, 3, 3, 3, 4, 3, 4, 3, 3, 3, 3, 3, 2, 4, 3,\n",
       "       3, 4, 4, 2, 3, 4, 4, 3, 3, 4, 3, 3, 3, 3, 3, 4, 3, 3, 3, 3, 4, 4,\n",
       "       3, 4, 4, 4, 3, 3, 4, 4, 3, 3, 3, 3, 4, 4, 4, 3, 3, 3, 4, 4, 3, 3,\n",
       "       4, 4, 4, 4, 4, 4, 3, 4, 3, 3, 4, 3, 4, 4, 3, 4, 4, 4, 4, 3, 4, 4,\n",
       "       3, 3, 3, 4, 4, 4, 4, 4, 3, 4, 3, 4, 4, 4, 2, 2, 2, 3, 4, 3, 4, 3,\n",
       "       4, 3, 4, 3, 4, 3, 3, 4, 3, 4, 4, 3, 4, 4, 4, 3, 4, 4, 3, 3, 4, 3,\n",
       "       3, 3, 4, 4, 4, 3, 3, 4, 3, 3, 4, 4, 4, 3, 3, 3, 3, 4, 4, 4, 3, 4,\n",
       "       4, 4, 3, 4, 4, 3, 4, 4, 3, 4, 4, 3, 4, 4, 4, 3, 3, 4, 4, 4, 4, 3,\n",
       "       4, 4, 4])"
      ]
     },
     "execution_count": 8,
     "metadata": {},
     "output_type": "execute_result"
    }
   ],
   "source": [
    "y_pred1 = clf.predict(X_test)\n",
    "y_pred1"
   ]
  },
  {
   "cell_type": "markdown",
   "id": "0c481057",
   "metadata": {},
   "source": [
    "#### Decision Tree Classification "
   ]
  },
  {
   "cell_type": "code",
   "execution_count": 9,
   "id": "43a1ef1e",
   "metadata": {},
   "outputs": [
    {
     "data": {
      "text/plain": [
       "array([4, 3, 3, 3, 4, 3, 4, 5, 2, 5, 4, 3, 4, 3, 3, 4, 4, 2, 4, 5, 3, 3,\n",
       "       4, 3, 2, 4, 4, 4, 3, 4, 3, 3, 4, 4, 3, 3, 4, 4, 3, 3, 5, 2, 3, 3,\n",
       "       2, 3, 3, 3, 2, 4, 3, 2, 4, 4, 3, 4, 5, 3, 3, 4, 4, 3, 3, 3, 5, 4,\n",
       "       3, 4, 4, 4, 4, 4, 4, 5, 5, 4, 3, 4, 4, 3, 4, 4, 4, 3, 3, 5, 4, 2,\n",
       "       4, 3, 3, 4, 4, 3, 3, 4, 4, 4, 4, 2, 3, 4, 4, 4, 4, 3, 4, 5, 3, 4,\n",
       "       3, 2, 3, 4, 3, 4, 2, 5, 3, 4, 3, 3, 4, 4, 4, 4, 3, 3, 3, 3, 3, 4,\n",
       "       4, 4, 4, 3, 3, 4, 4, 3, 4, 4, 4, 4, 3, 4, 4, 2, 4, 4, 4, 3, 4, 4,\n",
       "       4, 4, 3, 4, 3, 4, 4, 4, 4, 3, 3, 3, 3, 4, 3, 4, 3, 3, 4, 2, 4, 4,\n",
       "       3, 4, 4, 2, 3, 5, 4, 3, 3, 3, 3, 3, 3, 3, 4, 4, 3, 3, 1, 3, 4, 4,\n",
       "       4, 4, 3, 4, 3, 2, 3, 3, 3, 3, 3, 4, 4, 4, 5, 4, 4, 5, 4, 4, 3, 4,\n",
       "       4, 4, 4, 3, 4, 4, 3, 3, 3, 4, 3, 3, 4, 4, 4, 3, 4, 4, 4, 4, 4, 3,\n",
       "       3, 3, 4, 4, 4, 4, 4, 4, 3, 4, 3, 3, 4, 3, 2, 3, 2, 3, 3, 4, 4, 3,\n",
       "       4, 3, 3, 4, 3, 3, 2, 4, 3, 4, 3, 3, 4, 3, 4, 4, 4, 4, 2, 5, 3, 3,\n",
       "       3, 3, 4, 4, 4, 4, 2, 4, 3, 3, 4, 3, 4, 4, 4, 3, 4, 3, 4, 4, 4, 5,\n",
       "       5, 4, 3, 4, 4, 3, 4, 3, 3, 3, 3, 3, 4, 5, 3, 4, 3, 4, 4, 3, 5, 3,\n",
       "       4, 2, 4])"
      ]
     },
     "execution_count": 9,
     "metadata": {},
     "output_type": "execute_result"
    }
   ],
   "source": [
    "y_pred2 = classifier.predict(X_test)\n",
    "y_pred2"
   ]
  },
  {
   "cell_type": "markdown",
   "id": "c98c3bf7",
   "metadata": {},
   "source": [
    "### Question 2"
   ]
  },
  {
   "cell_type": "markdown",
   "id": "b309b740",
   "metadata": {},
   "source": [
    "#### Support Vector Machine algorithm"
   ]
  },
  {
   "cell_type": "code",
   "execution_count": 10,
   "id": "1c35274a",
   "metadata": {},
   "outputs": [
    {
     "data": {
      "text/plain": [
       "array([[  0,   1,   1,   0,   0,   0],\n",
       "       [  0,   9,  13,   1,   0,   0],\n",
       "       [  0,   2,  96,  49,   0,   0],\n",
       "       [  0,   0,  29, 115,   0,   0],\n",
       "       [  0,   0,   0,  16,   0,   0],\n",
       "       [  0,   0,   0,   1,   0,   0]])"
      ]
     },
     "execution_count": 10,
     "metadata": {},
     "output_type": "execute_result"
    }
   ],
   "source": [
    "from sklearn.metrics import confusion_matrix\n",
    "cm = confusion_matrix(y_test, y_pred1)\n",
    "cm"
   ]
  },
  {
   "cell_type": "code",
   "execution_count": 11,
   "id": "5fe1a94b",
   "metadata": {},
   "outputs": [
    {
     "data": {
      "text/plain": [
       "<sklearn.metrics._plot.confusion_matrix.ConfusionMatrixDisplay at 0x16784d2a0>"
      ]
     },
     "execution_count": 11,
     "metadata": {},
     "output_type": "execute_result"
    },
    {
     "data": {
      "image/png": "[encoded data removed]",
      "text/plain": [
       "<Figure size 640x480 with 2 Axes>"
      ]
     },
     "metadata": {},
     "output_type": "display_data"
    }
   ],
   "source": [
    "from sklearn.metrics import ConfusionMatrixDisplay\n",
    "disp = ConfusionMatrixDisplay(confusion_matrix=cm, display_labels = [0,1,2,3,4,5])\n",
    "disp.plot()"
   ]
  },
  {
   "cell_type": "markdown",
   "id": "3d6109e6",
   "metadata": {},
   "source": [
    "#### Decision Tree Classification "
   ]
  },
  {
   "cell_type": "code",
   "execution_count": 12,
   "id": "c8f833ad",
   "metadata": {},
   "outputs": [
    {
     "data": {
      "text/plain": [
       "array([[ 1,  0,  1,  0,  0,  0],\n",
       "       [ 0,  8, 12,  3,  0,  0],\n",
       "       [ 0, 12, 70, 56,  9,  0],\n",
       "       [ 0,  1, 44, 90,  9,  0],\n",
       "       [ 0,  0,  5, 10,  1,  0],\n",
       "       [ 0,  0,  0,  1,  0,  0]])"
      ]
     },
     "execution_count": 12,
     "metadata": {},
     "output_type": "execute_result"
    }
   ],
   "source": [
    "cm = confusion_matrix(y_test, y_pred2)\n",
    "cm"
   ]
  },
  {
   "cell_type": "code",
   "execution_count": 13,
   "id": "82bcaf4f",
   "metadata": {
    "scrolled": true
   },
   "outputs": [
    {
     "data": {
      "text/plain": [
       "<sklearn.metrics._plot.confusion_matrix.ConfusionMatrixDisplay at 0x1679db490>"
      ]
     },
     "execution_count": 13,
     "metadata": {},
     "output_type": "execute_result"
    },
    {
     "data": {
      "image/png": "[encoded data removed]",
      "text/plain": [
       "<Figure size 640x480 with 2 Axes>"
      ]
     },
     "metadata": {},
     "output_type": "display_data"
    }
   ],
   "source": [
    "from sklearn.metrics import ConfusionMatrixDisplay\n",
    "disp = ConfusionMatrixDisplay(confusion_matrix=cm, display_labels = [0,1,2,3,4,5])\n",
    "disp.plot()"
   ]
  },
  {
   "cell_type": "markdown",
   "id": "aface7bb",
   "metadata": {},
   "source": [
    "### Question 3"
   ]
  },
  {
   "cell_type": "markdown",
   "id": "68afc000",
   "metadata": {},
   "source": [
    "#### Support Vector Machine algorithm"
   ]
  },
  {
   "cell_type": "markdown",
   "id": "c06f093a",
   "metadata": {},
   "source": [
    "Micro F1-Score\n",
    "\n",
    "Net TP = 9+96+115 = 220\n",
    "\n",
    "Net FP = (1+1) + (13+1) + (2+49) + 29 + 16 + 1 = 113\n",
    "Net FN = FP\n",
    "\n",
    "Micro Precision = Net TP/(Net TP + Net FP) = 220/(220+113) = 66.07%\n",
    "\n",
    "Macro F1-Score\n",
    "Precision = TP/ (TP + FP)\n",
    "- For class 0: Precision = 0 / (0+1+1) = 0% \n",
    "- For class 1: Precision = 9 / (9+13+1) = 39.13% \n",
    "- For class 2: Precision = 96 / (2+96+49) = 65.31% \n",
    "- For class 3: Precision = 115 / (29+115) = 79.86% \n",
    "- For class 4: Precision = 0/ (0+16) = 0% \n",
    "- For class 5: Precision = 0/ (0+1) = 0% \n",
    "\n",
    "Macro Precision: (0 + 39.13 + 65.31 + 79.86 + 0 + 0) / 6 = 30.72% (approximately)\n"
   ]
  },
  {
   "cell_type": "markdown",
   "id": "92601a8b",
   "metadata": {},
   "source": [
    "#### Decision Tree Classification "
   ]
  },
  {
   "cell_type": "markdown",
   "id": "7bc1d57f",
   "metadata": {},
   "source": [
    "Micro F1-Score\n",
    "\n",
    "Net TP = 1+8+70+90+1 = 170\n",
    "\n",
    "Net FP = 1 + (12+3) + (12+56+9) + (1+44+9) + (5+10) + 1 = 163\n",
    "\n",
    "Net FN = FP\n",
    "\n",
    "Micro precision = Net TP/(Net TP + Net FP) = 170/(170+163) = 51.05%\n",
    "\n",
    "Macro F1-Score\n",
    "Precision = TP/ (TP + FP)\n",
    "- For class 0: Precision = 1 / (1+1) = 50% \n",
    "- For class 1: Precision = 8 / (8+12+3) = 34.78% \n",
    "- For class 2: Precision = 70 / (12+70+56+9) = 47.62% \n",
    "- For class 3: Precision = 90 / (1+44+90+9) = 62.5% \n",
    "- For class 4: Precision = 1/ (5+10+1) = 6.25% \n",
    "- For class 5: Precision = 0/ (0+1) = 0% \n",
    "\n",
    "Macro Precision: (50 + 34.78 + 47.62 + 62.5 + 6.25) / 6 = 33.525% (approximately)\n"
   ]
  },
  {
   "cell_type": "markdown",
   "id": "0714dd94",
   "metadata": {},
   "source": [
    "Based on my above calculation of micro precision, i have concluded that the precision of the Support Vector machine is better in both scenarios and thus it performed better overall. This is also due to the higher TP to FP ratio as we can see from the above calculation. The macro precision may not be as accurate because the 50% may affect the results quite significantly.\n"
   ]
  },
  {
   "cell_type": "markdown",
   "id": "c61e0400",
   "metadata": {},
   "source": [
    "## A4. Independent Evaluation (Competition)"
   ]
  },
  {
   "cell_type": "markdown",
   "id": "719893fe",
   "metadata": {},
   "source": [
    "### Question 1"
   ]
  },
  {
   "cell_type": "markdown",
   "id": "dbe8159a",
   "metadata": {},
   "source": [
    "Next, We read the data set submission without the score and use our svm model before to test the new 200 lines and guess the score"
   ]
  },
  {
   "cell_type": "code",
   "execution_count": 14,
   "id": "ae957dd9",
   "metadata": {},
   "outputs": [],
   "source": [
    "dataset = pd.read_csv('FIT1043-Essay-Features-Submission.csv')\n",
    "X_value = dataset.iloc[:, [2,7,8,11,13]]\n"
   ]
  },
  {
   "cell_type": "markdown",
   "id": "72896038",
   "metadata": {},
   "source": [
    "We reuse StandardScaler from sklear to fit and transform the data in testing "
   ]
  },
  {
   "cell_type": "code",
   "execution_count": 15,
   "id": "86caa688",
   "metadata": {},
   "outputs": [
    {
     "name": "stderr",
     "output_type": "stream",
     "text": [
      "/Users/harveykoay/anaconda3/envs/Rp_Env/lib/python3.10/site-packages/sklearn/base.py:457: UserWarning: X has feature names, but StandardScaler was fitted without feature names\n",
      "  warnings.warn(\n"
     ]
    }
   ],
   "source": [
    "X_test = sc.transform(X_value)"
   ]
  },
  {
   "cell_type": "markdown",
   "id": "b06ab64a",
   "metadata": {},
   "source": [
    "We use our svm model to predict to get the final score respectively and place it in a csv file after"
   ]
  },
  {
   "cell_type": "code",
   "execution_count": 16,
   "id": "e7c68c27",
   "metadata": {},
   "outputs": [
    {
     "data": {
      "text/plain": [
       "array([4, 3, 3, 4, 4, 3, 3, 4, 3, 3, 3, 4, 4, 3, 4, 4, 4, 4, 3, 4, 3, 3,\n",
       "       4, 4, 4, 4, 4, 4, 4, 3, 3, 4, 3, 3, 4, 3, 4, 4, 3, 3, 3, 4, 3, 3,\n",
       "       2, 3, 3, 4, 4, 3, 3, 4, 4, 4, 3, 4, 3, 4, 4, 4, 2, 3, 3, 3, 3, 4,\n",
       "       3, 4, 4, 4, 3, 4, 3, 3, 3, 3, 3, 3, 4, 4, 4, 4, 4, 3, 4, 3, 4, 4,\n",
       "       2, 3, 4, 3, 3, 3, 4, 4, 3, 4, 3, 3, 3, 4, 2, 4, 3, 4, 3, 3, 4, 4,\n",
       "       4, 4, 4, 4, 4, 3, 3, 4, 3, 3, 4, 4, 4, 3, 3, 4, 4, 4, 4, 3, 4, 4,\n",
       "       2, 3, 4, 4, 3, 4, 2, 4, 4, 4, 4, 3, 3, 4, 4, 3, 4, 4, 4, 4, 3, 3,\n",
       "       4, 3, 3, 4, 4, 4, 4, 3, 3, 3, 4, 4, 3, 3, 2, 4, 3, 4, 4, 3, 4, 4,\n",
       "       4, 3, 3, 4, 4, 2, 4, 4, 4, 4, 3, 4, 3, 3, 3, 4, 3, 4, 3, 4, 4, 3,\n",
       "       3])"
      ]
     },
     "execution_count": 16,
     "metadata": {},
     "output_type": "execute_result"
    }
   ],
   "source": [
    "y_pred_sub = clf.predict(X_test)\n",
    "y_pred_sub"
   ]
  },
  {
   "cell_type": "markdown",
   "id": "7d3d5222",
   "metadata": {},
   "source": [
    "### Question 2a"
   ]
  },
  {
   "cell_type": "code",
   "execution_count": 17,
   "id": "c5ee018d",
   "metadata": {},
   "outputs": [],
   "source": [
    "dataset['score'] = y_pred_sub\n",
    "final_score = dataset[['essayid','score']]"
   ]
  },
  {
   "cell_type": "code",
   "execution_count": 18,
   "id": "cf6978f3",
   "metadata": {},
   "outputs": [
    {
     "data": {
      "text/html": [
       "<div>\n",
       "<style scoped>\n",
       "    .dataframe tbody tr th:only-of-type {\n",
       "        vertical-align: middle;\n",
       "    }\n",
       "\n",
       "    .dataframe tbody tr th {\n",
       "        vertical-align: top;\n",
       "    }\n",
       "\n",
       "    .dataframe thead th {\n",
       "        text-align: right;\n",
       "    }\n",
       "</style>\n",
       "<table border=\"1\" class=\"dataframe\">\n",
       "  <thead>\n",
       "    <tr style=\"text-align: right;\">\n",
       "      <th></th>\n",
       "      <th>essayid</th>\n",
       "      <th>score</th>\n",
       "    </tr>\n",
       "  </thead>\n",
       "  <tbody>\n",
       "    <tr>\n",
       "      <th>0</th>\n",
       "      <td>1623</td>\n",
       "      <td>4</td>\n",
       "    </tr>\n",
       "    <tr>\n",
       "      <th>1</th>\n",
       "      <td>1143</td>\n",
       "      <td>3</td>\n",
       "    </tr>\n",
       "    <tr>\n",
       "      <th>2</th>\n",
       "      <td>660</td>\n",
       "      <td>3</td>\n",
       "    </tr>\n",
       "    <tr>\n",
       "      <th>3</th>\n",
       "      <td>1596</td>\n",
       "      <td>4</td>\n",
       "    </tr>\n",
       "    <tr>\n",
       "      <th>4</th>\n",
       "      <td>846</td>\n",
       "      <td>4</td>\n",
       "    </tr>\n",
       "    <tr>\n",
       "      <th>...</th>\n",
       "      <td>...</td>\n",
       "      <td>...</td>\n",
       "    </tr>\n",
       "    <tr>\n",
       "      <th>194</th>\n",
       "      <td>1226</td>\n",
       "      <td>3</td>\n",
       "    </tr>\n",
       "    <tr>\n",
       "      <th>195</th>\n",
       "      <td>862</td>\n",
       "      <td>4</td>\n",
       "    </tr>\n",
       "    <tr>\n",
       "      <th>196</th>\n",
       "      <td>1562</td>\n",
       "      <td>4</td>\n",
       "    </tr>\n",
       "    <tr>\n",
       "      <th>197</th>\n",
       "      <td>1336</td>\n",
       "      <td>3</td>\n",
       "    </tr>\n",
       "    <tr>\n",
       "      <th>198</th>\n",
       "      <td>1171</td>\n",
       "      <td>3</td>\n",
       "    </tr>\n",
       "  </tbody>\n",
       "</table>\n",
       "<p>199 rows × 2 columns</p>\n",
       "</div>"
      ],
      "text/plain": [
       "     essayid  score\n",
       "0       1623      4\n",
       "1       1143      3\n",
       "2        660      3\n",
       "3       1596      4\n",
       "4        846      4\n",
       "..       ...    ...\n",
       "194     1226      3\n",
       "195      862      4\n",
       "196     1562      4\n",
       "197     1336      3\n",
       "198     1171      3\n",
       "\n",
       "[199 rows x 2 columns]"
      ]
     },
     "execution_count": 18,
     "metadata": {},
     "output_type": "execute_result"
    }
   ],
   "source": [
    "final_score"
   ]
  },
  {
   "cell_type": "code",
   "execution_count": 19,
   "id": "d96fd522",
   "metadata": {},
   "outputs": [],
   "source": [
    "final_score.to_csv('predicted_score.csv', index = False)"
   ]
  },
  {
   "cell_type": "markdown",
   "id": "b1e66ec7",
   "metadata": {},
   "source": [
    "# Part B : Selection of Dataset, Clustering and Video Preparation"
   ]
  },
  {
   "cell_type": "markdown",
   "id": "b191974b",
   "metadata": {},
   "source": [
    "## B1. Selection of a Dataset with missing data, Clustering"
   ]
  },
  {
   "cell_type": "markdown",
   "id": "fba487d5",
   "metadata": {},
   "source": [
    "### Question 1"
   ]
  },
  {
   "cell_type": "markdown",
   "id": "0a9f5291",
   "metadata": {},
   "source": [
    "The data set i am going to use from kaggle.com is https://www.kaggle.com/datasets/rohitudageri/credit-card-details\n",
    "\n"
   ]
  },
  {
   "cell_type": "code",
   "execution_count": 20,
   "id": "1e4fb82f",
   "metadata": {
    "scrolled": true
   },
   "outputs": [
    {
     "data": {
      "text/html": [
       "<div>\n",
       "<style scoped>\n",
       "    .dataframe tbody tr th:only-of-type {\n",
       "        vertical-align: middle;\n",
       "    }\n",
       "\n",
       "    .dataframe tbody tr th {\n",
       "        vertical-align: top;\n",
       "    }\n",
       "\n",
       "    .dataframe thead th {\n",
       "        text-align: right;\n",
       "    }\n",
       "</style>\n",
       "<table border=\"1\" class=\"dataframe\">\n",
       "  <thead>\n",
       "    <tr style=\"text-align: right;\">\n",
       "      <th></th>\n",
       "      <th>Ind_ID</th>\n",
       "      <th>GENDER</th>\n",
       "      <th>Car_Owner</th>\n",
       "      <th>Propert_Owner</th>\n",
       "      <th>CHILDREN</th>\n",
       "      <th>Annual_income</th>\n",
       "      <th>Type_Income</th>\n",
       "      <th>EDUCATION</th>\n",
       "      <th>Marital_status</th>\n",
       "      <th>Housing_type</th>\n",
       "      <th>Birthday_count</th>\n",
       "      <th>Employed_days</th>\n",
       "      <th>Mobile_phone</th>\n",
       "      <th>Work_Phone</th>\n",
       "      <th>Phone</th>\n",
       "      <th>EMAIL_ID</th>\n",
       "      <th>Type_Occupation</th>\n",
       "      <th>Family_Members</th>\n",
       "    </tr>\n",
       "  </thead>\n",
       "  <tbody>\n",
       "    <tr>\n",
       "      <th>0</th>\n",
       "      <td>5008827</td>\n",
       "      <td>M</td>\n",
       "      <td>Y</td>\n",
       "      <td>Y</td>\n",
       "      <td>0</td>\n",
       "      <td>180000.0</td>\n",
       "      <td>Pensioner</td>\n",
       "      <td>Higher education</td>\n",
       "      <td>Married</td>\n",
       "      <td>House / apartment</td>\n",
       "      <td>-18772.0</td>\n",
       "      <td>365243</td>\n",
       "      <td>1</td>\n",
       "      <td>0</td>\n",
       "      <td>0</td>\n",
       "      <td>0</td>\n",
       "      <td>NaN</td>\n",
       "      <td>2</td>\n",
       "    </tr>\n",
       "    <tr>\n",
       "      <th>1</th>\n",
       "      <td>5009744</td>\n",
       "      <td>F</td>\n",
       "      <td>Y</td>\n",
       "      <td>N</td>\n",
       "      <td>0</td>\n",
       "      <td>315000.0</td>\n",
       "      <td>Commercial associate</td>\n",
       "      <td>Higher education</td>\n",
       "      <td>Married</td>\n",
       "      <td>House / apartment</td>\n",
       "      <td>-13557.0</td>\n",
       "      <td>-586</td>\n",
       "      <td>1</td>\n",
       "      <td>1</td>\n",
       "      <td>1</td>\n",
       "      <td>0</td>\n",
       "      <td>NaN</td>\n",
       "      <td>2</td>\n",
       "    </tr>\n",
       "    <tr>\n",
       "      <th>2</th>\n",
       "      <td>5009746</td>\n",
       "      <td>F</td>\n",
       "      <td>Y</td>\n",
       "      <td>N</td>\n",
       "      <td>0</td>\n",
       "      <td>315000.0</td>\n",
       "      <td>Commercial associate</td>\n",
       "      <td>Higher education</td>\n",
       "      <td>Married</td>\n",
       "      <td>House / apartment</td>\n",
       "      <td>NaN</td>\n",
       "      <td>-586</td>\n",
       "      <td>1</td>\n",
       "      <td>1</td>\n",
       "      <td>1</td>\n",
       "      <td>0</td>\n",
       "      <td>NaN</td>\n",
       "      <td>2</td>\n",
       "    </tr>\n",
       "    <tr>\n",
       "      <th>3</th>\n",
       "      <td>5009749</td>\n",
       "      <td>F</td>\n",
       "      <td>Y</td>\n",
       "      <td>N</td>\n",
       "      <td>0</td>\n",
       "      <td>NaN</td>\n",
       "      <td>Commercial associate</td>\n",
       "      <td>Higher education</td>\n",
       "      <td>Married</td>\n",
       "      <td>House / apartment</td>\n",
       "      <td>-13557.0</td>\n",
       "      <td>-586</td>\n",
       "      <td>1</td>\n",
       "      <td>1</td>\n",
       "      <td>1</td>\n",
       "      <td>0</td>\n",
       "      <td>NaN</td>\n",
       "      <td>2</td>\n",
       "    </tr>\n",
       "    <tr>\n",
       "      <th>4</th>\n",
       "      <td>5009752</td>\n",
       "      <td>F</td>\n",
       "      <td>Y</td>\n",
       "      <td>N</td>\n",
       "      <td>0</td>\n",
       "      <td>315000.0</td>\n",
       "      <td>Commercial associate</td>\n",
       "      <td>Higher education</td>\n",
       "      <td>Married</td>\n",
       "      <td>House / apartment</td>\n",
       "      <td>-13557.0</td>\n",
       "      <td>-586</td>\n",
       "      <td>1</td>\n",
       "      <td>1</td>\n",
       "      <td>1</td>\n",
       "      <td>0</td>\n",
       "      <td>NaN</td>\n",
       "      <td>2</td>\n",
       "    </tr>\n",
       "    <tr>\n",
       "      <th>...</th>\n",
       "      <td>...</td>\n",
       "      <td>...</td>\n",
       "      <td>...</td>\n",
       "      <td>...</td>\n",
       "      <td>...</td>\n",
       "      <td>...</td>\n",
       "      <td>...</td>\n",
       "      <td>...</td>\n",
       "      <td>...</td>\n",
       "      <td>...</td>\n",
       "      <td>...</td>\n",
       "      <td>...</td>\n",
       "      <td>...</td>\n",
       "      <td>...</td>\n",
       "      <td>...</td>\n",
       "      <td>...</td>\n",
       "      <td>...</td>\n",
       "      <td>...</td>\n",
       "    </tr>\n",
       "    <tr>\n",
       "      <th>1543</th>\n",
       "      <td>5028645</td>\n",
       "      <td>F</td>\n",
       "      <td>N</td>\n",
       "      <td>Y</td>\n",
       "      <td>0</td>\n",
       "      <td>NaN</td>\n",
       "      <td>Commercial associate</td>\n",
       "      <td>Higher education</td>\n",
       "      <td>Married</td>\n",
       "      <td>House / apartment</td>\n",
       "      <td>-11957.0</td>\n",
       "      <td>-2182</td>\n",
       "      <td>1</td>\n",
       "      <td>0</td>\n",
       "      <td>0</td>\n",
       "      <td>0</td>\n",
       "      <td>Managers</td>\n",
       "      <td>2</td>\n",
       "    </tr>\n",
       "    <tr>\n",
       "      <th>1544</th>\n",
       "      <td>5023655</td>\n",
       "      <td>F</td>\n",
       "      <td>N</td>\n",
       "      <td>N</td>\n",
       "      <td>0</td>\n",
       "      <td>225000.0</td>\n",
       "      <td>Commercial associate</td>\n",
       "      <td>Incomplete higher</td>\n",
       "      <td>Single / not married</td>\n",
       "      <td>House / apartment</td>\n",
       "      <td>-10229.0</td>\n",
       "      <td>-1209</td>\n",
       "      <td>1</td>\n",
       "      <td>0</td>\n",
       "      <td>0</td>\n",
       "      <td>0</td>\n",
       "      <td>Accountants</td>\n",
       "      <td>1</td>\n",
       "    </tr>\n",
       "    <tr>\n",
       "      <th>1545</th>\n",
       "      <td>5115992</td>\n",
       "      <td>M</td>\n",
       "      <td>Y</td>\n",
       "      <td>Y</td>\n",
       "      <td>2</td>\n",
       "      <td>180000.0</td>\n",
       "      <td>Working</td>\n",
       "      <td>Higher education</td>\n",
       "      <td>Married</td>\n",
       "      <td>House / apartment</td>\n",
       "      <td>-13174.0</td>\n",
       "      <td>-2477</td>\n",
       "      <td>1</td>\n",
       "      <td>0</td>\n",
       "      <td>0</td>\n",
       "      <td>0</td>\n",
       "      <td>Managers</td>\n",
       "      <td>4</td>\n",
       "    </tr>\n",
       "    <tr>\n",
       "      <th>1546</th>\n",
       "      <td>5118219</td>\n",
       "      <td>M</td>\n",
       "      <td>Y</td>\n",
       "      <td>N</td>\n",
       "      <td>0</td>\n",
       "      <td>270000.0</td>\n",
       "      <td>Working</td>\n",
       "      <td>Secondary / secondary special</td>\n",
       "      <td>Civil marriage</td>\n",
       "      <td>House / apartment</td>\n",
       "      <td>-15292.0</td>\n",
       "      <td>-645</td>\n",
       "      <td>1</td>\n",
       "      <td>1</td>\n",
       "      <td>1</td>\n",
       "      <td>0</td>\n",
       "      <td>Drivers</td>\n",
       "      <td>2</td>\n",
       "    </tr>\n",
       "    <tr>\n",
       "      <th>1547</th>\n",
       "      <td>5053790</td>\n",
       "      <td>F</td>\n",
       "      <td>Y</td>\n",
       "      <td>Y</td>\n",
       "      <td>0</td>\n",
       "      <td>225000.0</td>\n",
       "      <td>Working</td>\n",
       "      <td>Higher education</td>\n",
       "      <td>Married</td>\n",
       "      <td>House / apartment</td>\n",
       "      <td>-16601.0</td>\n",
       "      <td>-2859</td>\n",
       "      <td>1</td>\n",
       "      <td>0</td>\n",
       "      <td>0</td>\n",
       "      <td>0</td>\n",
       "      <td>NaN</td>\n",
       "      <td>2</td>\n",
       "    </tr>\n",
       "  </tbody>\n",
       "</table>\n",
       "<p>1548 rows × 18 columns</p>\n",
       "</div>"
      ],
      "text/plain": [
       "       Ind_ID GENDER Car_Owner Propert_Owner  CHILDREN  Annual_income  \\\n",
       "0     5008827      M         Y             Y         0       180000.0   \n",
       "1     5009744      F         Y             N         0       315000.0   \n",
       "2     5009746      F         Y             N         0       315000.0   \n",
       "3     5009749      F         Y             N         0            NaN   \n",
       "4     5009752      F         Y             N         0       315000.0   \n",
       "...       ...    ...       ...           ...       ...            ...   \n",
       "1543  5028645      F         N             Y         0            NaN   \n",
       "1544  5023655      F         N             N         0       225000.0   \n",
       "1545  5115992      M         Y             Y         2       180000.0   \n",
       "1546  5118219      M         Y             N         0       270000.0   \n",
       "1547  5053790      F         Y             Y         0       225000.0   \n",
       "\n",
       "               Type_Income                      EDUCATION  \\\n",
       "0                Pensioner               Higher education   \n",
       "1     Commercial associate               Higher education   \n",
       "2     Commercial associate               Higher education   \n",
       "3     Commercial associate               Higher education   \n",
       "4     Commercial associate               Higher education   \n",
       "...                    ...                            ...   \n",
       "1543  Commercial associate               Higher education   \n",
       "1544  Commercial associate              Incomplete higher   \n",
       "1545               Working               Higher education   \n",
       "1546               Working  Secondary / secondary special   \n",
       "1547               Working               Higher education   \n",
       "\n",
       "            Marital_status       Housing_type  Birthday_count  Employed_days  \\\n",
       "0                  Married  House / apartment        -18772.0         365243   \n",
       "1                  Married  House / apartment        -13557.0           -586   \n",
       "2                  Married  House / apartment             NaN           -586   \n",
       "3                  Married  House / apartment        -13557.0           -586   \n",
       "4                  Married  House / apartment        -13557.0           -586   \n",
       "...                    ...                ...             ...            ...   \n",
       "1543               Married  House / apartment        -11957.0          -2182   \n",
       "1544  Single / not married  House / apartment        -10229.0          -1209   \n",
       "1545               Married  House / apartment        -13174.0          -2477   \n",
       "1546        Civil marriage  House / apartment        -15292.0           -645   \n",
       "1547               Married  House / apartment        -16601.0          -2859   \n",
       "\n",
       "      Mobile_phone  Work_Phone  Phone  EMAIL_ID Type_Occupation  \\\n",
       "0                1           0      0         0             NaN   \n",
       "1                1           1      1         0             NaN   \n",
       "2                1           1      1         0             NaN   \n",
       "3                1           1      1         0             NaN   \n",
       "4                1           1      1         0             NaN   \n",
       "...            ...         ...    ...       ...             ...   \n",
       "1543             1           0      0         0        Managers   \n",
       "1544             1           0      0         0     Accountants   \n",
       "1545             1           0      0         0        Managers   \n",
       "1546             1           1      1         0         Drivers   \n",
       "1547             1           0      0         0             NaN   \n",
       "\n",
       "      Family_Members  \n",
       "0                  2  \n",
       "1                  2  \n",
       "2                  2  \n",
       "3                  2  \n",
       "4                  2  \n",
       "...              ...  \n",
       "1543               2  \n",
       "1544               1  \n",
       "1545               4  \n",
       "1546               2  \n",
       "1547               2  \n",
       "\n",
       "[1548 rows x 18 columns]"
      ]
     },
     "execution_count": 20,
     "metadata": {},
     "output_type": "execute_result"
    }
   ],
   "source": [
    "df = pd.read_csv('Credit_card.csv')\n",
    "df"
   ]
  },
  {
   "cell_type": "markdown",
   "id": "653a8686",
   "metadata": {},
   "source": [
    "### Question 2"
   ]
  },
  {
   "cell_type": "markdown",
   "id": "d90f2c32",
   "metadata": {},
   "source": [
    "From the dataframe above, i am going to wrangle on the dataset to handle the missing data for the Family_Members and annual income as we are going to use these two numerical features for k-means clustering"
   ]
  },
  {
   "cell_type": "code",
   "execution_count": 21,
   "id": "62ab1052",
   "metadata": {},
   "outputs": [
    {
     "name": "stdout",
     "output_type": "stream",
     "text": [
      "[180000.0, 315000.0, 315000.0, nan, 315000.0, 315000.0, 315000.0, 180000.0, 450000.0, 450000.0, 450000.0, 90000.0, nan, 90000.0, 472500.0, 270000.0, 270000.0, 126000.0, 126000.0, 90000.0, 202500.0, 202500.0, 157500.0, 112500.0, 180000.0, 540000.0, 112500.0, nan, 292500.0, 540000.0, 90000.0, 112500.0, 135000.0, 135000.0, 180000.0, 112500.0, 292500.0, 76500.0, 215100.0, 450000.0, 270000.0, 225000.0, 225000.0, 225000.0, 157500.0, 157500.0, 67500.0, 180000.0, 180000.0, 157500.0, 157500.0, 171000.0, 135000.0, 135000.0, 103500.0, 103500.0, 225000.0, 225000.0, 225000.0, 180000.0, 157500.0, 157500.0, 180000.0, 180000.0, 99000.0, nan, 99000.0, 99000.0, 391500.0, 391500.0, 391500.0, 65250.0, 72900.0, 225000.0, 67500.0, 180000.0, nan, 202500.0, 157500.0, 202500.0, 270000.0, 135000.0, 360000.0, 256500.0, 256500.0, 157500.0, 225000.0, 180000.0, 180000.0, 202500.0, 202500.0, 202500.0, 315000.0, 225000.0, 126000.0, 675000.0, 135000.0, 135000.0, 247500.0, 103500.0, 85500.0, 135000.0, 135000.0, 180000.0, 121500.0, 180000.0, 225000.0, nan, 135000.0, 225000.0, 67500.0, 135000.0, 130500.0, 130500.0, 202500.0, 202500.0, 202500.0, 202500.0, 202500.0, 126000.0, 126000.0, 180000.0, 180000.0, 180000.0, 180000.0, nan, 211500.0, 157500.0, 81000.0, 81000.0, 112500.0, 112500.0, 112500.0, 112500.0, 112500.0, 72000.0, 202500.0, 148500.0, 135000.0, 135000.0, 270000.0, 135000.0, 135000.0, 162000.0, 112500.0, 112500.0, 112500.0, 135000.0, 135000.0, 195750.0, 585000.0, 585000.0, nan, 450000.0, 450000.0, 112500.0, 112500.0, 67500.0, 67500.0, 67500.0, 216000.0, 306000.0, 90000.0, 225000.0, 108000.0, 135000.0, 135000.0, 108000.0, 108000.0, 450000.0, 450000.0, 450000.0, 315000.0, 157500.0, 157500.0, 81000.0, 225000.0, 180000.0, 135000.0, 135000.0, 63000.0, 135000.0, 112500.0, 112500.0, 45000.0, nan, 202500.0, 180000.0, 450000.0, 256500.0, 90000.0, 180000.0, 90000.0, 135000.0, 126000.0, 126000.0, 337500.0, 90000.0, 131400.0, 180000.0, 247500.0, 121500.0, 117000.0, 90000.0, 445500.0, 157500.0, 112500.0, 180000.0, 157500.0, 117000.0, 234000.0, 1575000.0, 247500.0, 144000.0, 180000.0, nan, 216000.0, 90000.0, 171000.0, 180000.0, 225000.0, 225000.0, 270000.0, 67050.0, 270000.0, 73350.0, 112500.0, 144000.0, 225000.0, 112500.0, 292500.0, 135000.0, 157500.0, 1575000.0, 157500.0, 157500.0, 135000.0, 112500.0, 202500.0, 193500.0, 225000.0, 108000.0, 900000.0, 292500.0, 270000.0, 270000.0, 292500.0, 292500.0, 157500.0, 76500.0, 157500.0, 180000.0, 135000.0, 112500.0, 360000.0, 157500.0, 225000.0, 112500.0, 121500.0, 202500.0, 112500.0, 135000.0, 103500.0, 157500.0, 337500.0, 180000.0, 112500.0, 157500.0, 360000.0, 135000.0, 337500.0, 135000.0, 360000.0, nan, 450000.0, 270000.0, 270000.0, 270000.0, 450000.0, 157500.0, 112500.0, 292500.0, 112500.0, 247500.0, 157500.0, 225000.0, 94500.0, 81000.0, 180000.0, 198000.0, 180000.0, 315000.0, 67500.0, 180000.0, 202500.0, 112500.0, 306000.0, 90000.0, 270000.0, 270000.0, 234000.0, 171000.0, 225000.0, 94500.0, 117000.0, 180000.0, 202500.0, 54000.0, 112500.0, 85500.0, 135000.0, 166500.0, 157500.0, 247500.0, 180000.0, 72000.0, 202500.0, 180000.0, 270000.0, 202500.0, 360000.0, 270000.0, 270000.0, 112500.0, nan, 157500.0, 202500.0, 99000.0, 162000.0, 225000.0, 225000.0, 72000.0, 135000.0, 315000.0, 167400.0, 180000.0, 135000.0, 99000.0, 225000.0, 153000.0, 423000.0, 90000.0, 360000.0, 247500.0, 225000.0, 67500.0, 112500.0, 157500.0, 90000.0, 90000.0, 225000.0, 112500.0, 112500.0, 315000.0, 135000.0, 450000.0, 90000.0, 270000.0, 180000.0, 135000.0, 243000.0, 225000.0, 112500.0, 234000.0, 180000.0, 121500.0, 121500.0, 270000.0, 180000.0, 90000.0, 135000.0, 247500.0, 76500.0, 85500.0, 202500.0, 157500.0, 225000.0, 225000.0, 540000.0, 283500.0, 90000.0, nan, 252000.0, 135000.0, 315000.0, 450000.0, 180000.0, 270000.0, 495000.0, 180000.0, 306000.0, 157500.0, 180000.0, 612000.0, 36000.0, 112500.0, 292500.0, 180000.0, 202500.0, 292500.0, 315000.0, 135000.0, 337500.0, 157500.0, 360000.0, 135000.0, 270000.0, 157500.0, 157500.0, 139500.0, 135000.0, 133650.0, 427500.0, 81000.0, 225000.0, 126000.0, 135000.0, 94500.0, 180000.0, 157500.0, 252000.0, 202500.0, 117000.0, 247500.0, 180000.0, 180000.0, 180000.0, 157500.0, 135000.0, nan, 202500.0, 90000.0, 247500.0, 99000.0, 247500.0, 202500.0, 90000.0, 121500.0, 157500.0, 121500.0, 135000.0, 180000.0, 144000.0, 126000.0, 225000.0, 157500.0, 157500.0, 270000.0, 261000.0, 135000.0, 202500.0, 157500.0, 103500.0, 135000.0, 135000.0, 112500.0, 231750.0, 202500.0, 247500.0, 135000.0, 135000.0, 112500.0, 117000.0, 112500.0, 135000.0, 103500.0, 315000.0, 180000.0, 247500.0, 135000.0, 157500.0, 315000.0, 247500.0, 157500.0, nan, 247500.0, 166500.0, 112500.0, 90900.0, 112500.0, 45900.0, 126000.0, 103500.0, 119250.0, 202500.0, 157500.0, 112500.0, 315000.0, 270000.0, 162000.0, 270000.0, 112500.0, 58500.0, 94500.0, 270000.0, 270000.0, 99000.0, 315000.0, 157500.0, 180000.0, 211500.0, 202500.0, 180000.0, 144000.0, 144000.0, 270000.0, 148500.0, 157500.0, 90000.0, 148500.0, 99000.0, 315000.0, 162000.0, 202500.0, 225000.0, 612000.0, 292500.0, 67500.0, 157500.0, 135000.0, 67500.0, 144000.0, 90000.0, 112500.0, 112500.0, 135000.0, 360000.0, 112500.0, 225000.0, 112500.0, 202500.0, 202500.0, 225000.0, 112500.0, 202500.0, 328500.0, 112500.0, 202500.0, 135000.0, 157500.0, 270000.0, 157500.0, 193500.0, 103500.0, 90000.0, 198000.0, 202500.0, 225000.0, 72000.0, 202500.0, 247500.0, 157500.0, 225000.0, 112500.0, 450000.0, 180000.0, 108000.0, 787500.0, 202500.0, 157500.0, 90000.0, nan, 225000.0, 90000.0, 72000.0, 225000.0, 157500.0, 360000.0, 450000.0, 216000.0, 157500.0, 315000.0, 315000.0, 594000.0, 135000.0, 180000.0, 157500.0, 234000.0, 99000.0, 225000.0, 292500.0, 198000.0, 90000.0, 247500.0, 112500.0, 157500.0, 112500.0, 585000.0, 180000.0, 225000.0, 225000.0, 135000.0, 112500.0, 112500.0, 180000.0, 112500.0, 117000.0, 135000.0, 270000.0, 135000.0, 157500.0, 243000.0, 121500.0, 135000.0, 225000.0, 225000.0, 112500.0, 157500.0, 202500.0, 337500.0, 103500.0, 99000.0, 67500.0, 112500.0, 270000.0, 315000.0, 135000.0, 180000.0, 225000.0, 85500.0, 135000.0, 119700.0, 495000.0, 112500.0, 153000.0, 216000.0, 202500.0, 90000.0, 108000.0, 270000.0, 76500.0, 69372.0, 135000.0, 117000.0, 202500.0, 126000.0, 135000.0, 180000.0, 225000.0, 81000.0, 157500.0, 90000.0, 225000.0, 157500.0, 103500.0, 202500.0, 37800.0, 135000.0, 157500.0, 180000.0, 135000.0, 225000.0, 157500.0, 387000.0, 225000.0, 225000.0, 126000.0, 135000.0, 202500.0, 225000.0, 157500.0, 202500.0, 247500.0, 225000.0, 112500.0, 112500.0, 135000.0, 207000.0, 270000.0, 315000.0, 315000.0, 112500.0, 121500.0, 225000.0, 225000.0, 157500.0, 225000.0, 135000.0, 225000.0, 270000.0, 202500.0, 135000.0, 112500.0, 157500.0, 450000.0, 202500.0, 900000.0, 135000.0, 337500.0, 94500.0, 90000.0, 157500.0, 270000.0, 112500.0, 135000.0, 270000.0, 112500.0, 225000.0, 54000.0, 189000.0, 135000.0, 157500.0, 121500.0, 180000.0, 121500.0, 225000.0, 180000.0, 315000.0, 112500.0, 90000.0, 90000.0, 45000.0, 180000.0, 112500.0, 135000.0, 360000.0, 135000.0, 99000.0, 270000.0, 157500.0, nan, 180000.0, 315000.0, 112500.0, 108000.0, 180000.0, 225000.0, 90000.0, 292500.0, 157500.0, 135000.0, 315000.0, 225000.0, 333000.0, 171000.0, 130500.0, 112500.0, 202500.0, 126000.0, 225000.0, 135000.0, 112500.0, 105750.0, 135000.0, 180000.0, 360000.0, 157500.0, 90000.0, 112500.0, 180000.0, 225000.0, 67500.0, 270000.0, 202500.0, 144000.0, 207000.0, 180000.0, 202500.0, 202500.0, 180000.0, 126000.0, 157500.0, 225000.0, 202500.0, 103500.0, 90000.0, 135000.0, 67500.0, 135000.0, 382500.0, 270000.0, 202500.0, 292500.0, 225000.0, 135000.0, 76500.0, 180000.0, 450000.0, 90000.0, 157500.0, 306000.0, 90000.0, 135000.0, 193500.0, 180000.0, 270000.0, 112500.0, 202500.0, 180000.0, 139500.0, 135000.0, 202500.0, 112500.0, 126000.0, 193500.0, 112500.0, 337500.0, 157500.0, 193500.0, 180000.0, 315000.0, 180000.0, 90000.0, 180000.0, 112500.0, 157500.0, 135000.0, 315000.0, 112500.0, 135000.0, 99000.0, 900000.0, 270000.0, 112500.0, 180000.0, 141750.0, 180000.0, 112500.0, 225000.0, 270000.0, 202500.0, 135000.0, 292500.0, 202500.0, 99000.0, 202500.0, 306000.0, 148500.0, 135000.0, 180000.0, 180000.0, 157500.0, 247500.0, 112500.0, 180000.0, 103500.0, 198000.0, 135000.0, 67500.0, 202500.0, 315000.0, 292500.0, 148500.0, 202500.0, 180000.0, 90000.0, 135000.0, 135000.0, 261000.0, 135000.0, 112500.0, 135000.0, 135000.0, 360000.0, 171000.0, 40500.0, 130500.0, 306000.0, 202500.0, 112500.0, 112500.0, 90000.0, 153000.0, 135000.0, 180000.0, 112500.0, 90000.0, 157500.0, 247500.0, 112500.0, 67500.0, 360000.0, 360000.0, 315000.0, 157500.0, 135000.0, 166500.0, 180000.0, 225000.0, 135000.0, 135000.0, 193500.0, 247500.0, 315000.0, 405000.0, 405000.0, 90000.0, 270000.0, 243000.0, 180000.0, 112500.0, 337500.0, 135000.0, 117000.0, 202500.0, 270000.0, 202500.0, 135000.0, 216000.0, 135000.0, 225000.0, 81000.0, 180000.0, 292500.0, 225000.0, 157500.0, 157500.0, 166500.0, 445500.0, 180000.0, 45000.0, 315000.0, 450000.0, 180000.0, 90000.0, nan, 148500.0, 135000.0, 144000.0, 135000.0, 360000.0, 90000.0, 157500.0, 135000.0, 292500.0, 112500.0, 216000.0, 126000.0, 135000.0, 189000.0, 337500.0, 44550.0, 112500.0, 157500.0, 112500.0, 135000.0, 135000.0, 301500.0, 112500.0, 90000.0, 67500.0, 292500.0, 315000.0, 117000.0, 157500.0, 67500.0, 189000.0, 202500.0, 157500.0, 225000.0, 112500.0, 202500.0, 180000.0, 225000.0, 157500.0, 180000.0, 112500.0, 81000.0, 90000.0, 180000.0, 94500.0, 180000.0, 450000.0, 315000.0, 54000.0, 112500.0, 157500.0, 180000.0, 225000.0, 360000.0, 112500.0, 292500.0, 360000.0, 225000.0, 126000.0, 135000.0, 270000.0, 157500.0, 216000.0, 337500.0, 225000.0, 108000.0, 225000.0, 180000.0, 180000.0, 135000.0, 180000.0, 112500.0, 270000.0, 270000.0, 270000.0, 135000.0, 351000.0, 202500.0, 189000.0, 270000.0, 144000.0, 67500.0, 247500.0, 157500.0, 157500.0, 157500.0, 180000.0, 315000.0, 99000.0, 351000.0, 175500.0, 306000.0, 157500.0, 58500.0, 292500.0, nan, 225000.0, 247500.0, 189000.0, 247500.0, 90000.0, 148500.0, 180000.0, 180000.0, 121900.5, 112500.0, 180000.0, 225000.0, 450000.0, 225000.0, 135000.0, 157500.0, 238500.0, 261000.0, 180000.0, 225000.0, 135000.0, 112500.0, 180000.0, 171000.0, 135000.0, 202500.0, 33750.0, 135000.0, 135000.0, 157500.0, 67500.0, 135000.0, 153000.0, 180000.0, 180000.0, 121500.0, 112500.0, 270000.0, 360000.0, 116100.0, 225000.0, 450000.0, 225000.0, 405000.0, 112500.0, 157500.0, 202500.0, 297000.0, 315000.0, 202500.0, 180000.0, 202500.0, 360000.0, 112500.0, 121500.0, 112500.0, 900000.0, 112500.0, 135000.0, 261000.0, 121500.0, 202500.0, 94500.0, 225000.0, 630000.0, 202500.0, 360000.0, 157500.0, 247500.0, 81000.0, 360000.0, 315000.0, 126000.0, 225000.0, 135000.0, 225000.0, 112500.0, 40500.0, 157500.0, 67500.0, 315000.0, 270000.0, 180000.0, 157500.0, 252000.0, 270000.0, 157500.0, 270000.0, 162000.0, 315000.0, 202500.0, 180000.0, 112500.0, 135000.0, 225000.0, 157500.0, 112500.0, 202500.0, 162000.0, 450000.0, 157500.0, 270000.0, 90000.0, 67500.0, 225000.0, 135000.0, 135000.0, 157500.0, 180000.0, 418500.0, 225000.0, 135000.0, 360000.0, 135000.0, 112500.0, 225000.0, 180000.0, 202500.0, 315000.0, 315000.0, 112500.0, 83250.0, 261000.0, 247500.0, 360000.0, 135000.0, 225000.0, 270000.0, 112500.0, 112500.0, 225000.0, 173250.0, 148500.0, 315000.0, 135000.0, 157500.0, 76500.0, 225000.0, 157500.0, 216000.0, 90000.0, 211500.0, 202500.0, 112500.0, 112500.0, 166500.0, 72000.0, 135000.0, 157500.0, 67500.0, 135000.0, 207000.0, 148500.0, 112500.0, 112500.0, 202500.0, 67500.0, 67500.0, 306000.0, 90000.0, 360000.0, 112500.0, 270000.0, 450000.0, 67500.0, 180000.0, 270000.0, 315000.0, 247500.0, 72000.0, 81000.0, 171000.0, 135000.0, 135000.0, 202500.0, 292500.0, 360000.0, 315000.0, 405000.0, 225000.0, 198000.0, 202500.0, 90000.0, 166500.0, 73350.0, 135000.0, 103500.0, 202500.0, 76500.0, 225000.0, 126000.0, 211500.0, 157500.0, 112500.0, 225000.0, 135000.0, 405000.0, 135000.0, 112500.0, 247500.0, 270000.0, 225000.0, 90000.0, 135000.0, 67500.0, 135000.0, 193500.0, 135000.0, 202500.0, 135000.0, 180000.0, 112500.0, 247500.0, 360000.0, 193500.0, 67500.0, 306000.0, 153000.0, 171000.0, 112500.0, 360000.0, 157500.0, 112500.0, 292500.0, 315000.0, 135000.0, 180000.0, 180000.0, 292500.0, 135000.0, 225000.0, 225000.0, 135000.0, 292500.0, 180000.0, 274500.0, 225000.0, 180000.0, 225000.0, 360000.0, 126000.0, 180000.0, 54000.0, 76500.0, 247500.0, 112500.0, 81000.0, 135000.0, 135000.0, 99000.0, 67500.0, nan, 202500.0, 58500.0, 135000.0, 135000.0, 180000.0, 112500.0, 144000.0, 112500.0, 135000.0, 81000.0, 193500.0, 144000.0, 292500.0, 157500.0, 315000.0, 135000.0, 202500.0, 180000.0, 112500.0, 112500.0, 270000.0, 76500.0, 292500.0, 405000.0, 193500.0, 180000.0, 115200.0, 56250.0, 180000.0, 157500.0, 202500.0, 135000.0, 202500.0, 157500.0, 225000.0, nan, 202500.0, 85500.0, 157500.0, 270000.0, 157500.0, 360000.0, 90000.0, 90000.0, 135000.0, 112500.0, 225000.0, 225000.0, 202500.0, 202500.0, 225000.0, 108000.0, 225000.0, 180000.0, 135000.0, 112500.0, 90000.0, 90000.0, 103500.0, 72000.0, 135000.0, 495000.0, 135000.0, 360000.0, 135000.0, 225000.0, 135000.0, 81000.0, 90000.0, 450000.0, 360000.0, 225000.0, 202500.0, 202500.0, 95850.0, 112500.0, 126000.0, 99000.0, 112500.0, 180000.0, 225000.0, 225000.0, 202500.0, 180000.0, 135000.0, 315000.0, 387000.0, 45000.0, 185400.0, 76500.0, 225000.0, 810000.0, 126000.0, 135000.0, 90000.0, 157500.0, 180000.0, 112500.0, 270000.0, 135000.0, 103500.0, 130500.0, 90000.0, 112500.0, 157500.0, 202500.0, 67500.0, 189000.0, 180000.0, 135000.0, 135000.0, 166500.0, 90000.0, 337500.0, 90000.0, 157500.0, 112500.0, 180000.0, 112500.0, 135000.0, 135000.0, 135000.0, nan, 126000.0, 247500.0, 184500.0, 165600.0, 315000.0, 112500.0, 112500.0, 202500.0, 72000.0, 202500.0, 391500.0, 112500.0, 157500.0, 112500.0, 270000.0, 270000.0, 247500.0, 360000.0, 189000.0, 157500.0, 405000.0, 157500.0, 130500.0, 135000.0, 90000.0, 67500.0, 135000.0, 247500.0, 157500.0, 135000.0, 126000.0, 180000.0, 112500.0, 247500.0, 112500.0, 315000.0, 67500.0, 337500.0, 337500.0, 112500.0, 157500.0, 292500.0, 135000.0, 450000.0, 180000.0, 135000.0, 180000.0, 202500.0, 180000.0, 112500.0, 135000.0, 81000.0, 135000.0, 270000.0, 247500.0, 202500.0, 225000.0, 157500.0, 216000.0, 202500.0, 135000.0, 247500.0, 180000.0, 67500.0, 130500.0, 99000.0, 112500.0, 247500.0, 180000.0, 225000.0, 405000.0, 247500.0, 171000.0, 180000.0, 337500.0, 315000.0, 247500.0, 180000.0, 83250.0, 202500.0, 450000.0, 135000.0, 225000.0, 157500.0, 270000.0, 216000.0, 114750.0, 99000.0, 47250.0, 49500.0, 135000.0, 225000.0, 450000.0, 225000.0, 90000.0, 180000.0, 103500.0, 135000.0, 225000.0, 112500.0, 270000.0, 270000.0, 202500.0, 180000.0, 180000.0, 108000.0, 225000.0, 157500.0, 405000.0, 225000.0, 216000.0, 135000.0, 112500.0, 135000.0, 157500.0, 45000.0, 157500.0, 198000.0, 234000.0, 157500.0, 207000.0, 198000.0, 157500.0, 180000.0, 216000.0, 112500.0, 94500.0, 69750.0, 103500.0, 157500.0, 112500.0, 67500.0, 112500.0, 157500.0, 270000.0, 135000.0, 112500.0, 126000.0, 175500.0, 148500.0, 126000.0, 180000.0, 225000.0, 126000.0, 157500.0, 157500.0, 270000.0, 180000.0, 144000.0, 112500.0, 225000.0, 450000.0, 180000.0, 144000.0, 225000.0, 360000.0, nan, 225000.0, 180000.0, 270000.0, 225000.0]\n"
     ]
    }
   ],
   "source": [
    "# First we check the Annual_income of the list\n",
    "print(df['Annual_income'].tolist())\n"
   ]
  },
  {
   "cell_type": "markdown",
   "id": "03b5882c",
   "metadata": {},
   "source": [
    "After seeing the above values we can see that some of the annual income are nan or none values. Thus, I am going to have to clean this data to prepare for the clustering"
   ]
  },
  {
   "cell_type": "code",
   "execution_count": 22,
   "id": "38fc9767",
   "metadata": {},
   "outputs": [],
   "source": [
    "# Removing rows with NaN values in 'Annual_income'\n",
    "df = df.dropna(subset=['Annual_income'])\n"
   ]
  },
  {
   "cell_type": "code",
   "execution_count": 23,
   "id": "b45701af",
   "metadata": {
    "scrolled": true
   },
   "outputs": [
    {
     "name": "stdout",
     "output_type": "stream",
     "text": [
      "[180000.0, 315000.0, 315000.0, 315000.0, 315000.0, 315000.0, 180000.0, 450000.0, 450000.0, 450000.0, 90000.0, 90000.0, 472500.0, 270000.0, 270000.0, 126000.0, 126000.0, 90000.0, 202500.0, 202500.0, 157500.0, 112500.0, 180000.0, 540000.0, 112500.0, 292500.0, 540000.0, 90000.0, 112500.0, 135000.0, 135000.0, 180000.0, 112500.0, 292500.0, 76500.0, 215100.0, 450000.0, 270000.0, 225000.0, 225000.0, 225000.0, 157500.0, 157500.0, 67500.0, 180000.0, 180000.0, 157500.0, 157500.0, 171000.0, 135000.0, 135000.0, 103500.0, 103500.0, 225000.0, 225000.0, 225000.0, 180000.0, 157500.0, 157500.0, 180000.0, 180000.0, 99000.0, 99000.0, 99000.0, 391500.0, 391500.0, 391500.0, 65250.0, 72900.0, 225000.0, 67500.0, 180000.0, 202500.0, 157500.0, 202500.0, 270000.0, 135000.0, 360000.0, 256500.0, 256500.0, 157500.0, 225000.0, 180000.0, 180000.0, 202500.0, 202500.0, 202500.0, 315000.0, 225000.0, 126000.0, 675000.0, 135000.0, 135000.0, 247500.0, 103500.0, 85500.0, 135000.0, 135000.0, 180000.0, 121500.0, 180000.0, 225000.0, 135000.0, 225000.0, 67500.0, 135000.0, 130500.0, 130500.0, 202500.0, 202500.0, 202500.0, 202500.0, 202500.0, 126000.0, 126000.0, 180000.0, 180000.0, 180000.0, 180000.0, 211500.0, 157500.0, 81000.0, 81000.0, 112500.0, 112500.0, 112500.0, 112500.0, 112500.0, 72000.0, 202500.0, 148500.0, 135000.0, 135000.0, 270000.0, 135000.0, 135000.0, 162000.0, 112500.0, 112500.0, 112500.0, 135000.0, 135000.0, 195750.0, 585000.0, 585000.0, 450000.0, 450000.0, 112500.0, 112500.0, 67500.0, 67500.0, 67500.0, 216000.0, 306000.0, 90000.0, 225000.0, 108000.0, 135000.0, 135000.0, 108000.0, 108000.0, 450000.0, 450000.0, 450000.0, 315000.0, 157500.0, 157500.0, 81000.0, 225000.0, 180000.0, 135000.0, 135000.0, 63000.0, 135000.0, 112500.0, 112500.0, 45000.0, 202500.0, 180000.0, 450000.0, 256500.0, 90000.0, 180000.0, 90000.0, 135000.0, 126000.0, 126000.0, 337500.0, 90000.0, 131400.0, 180000.0, 247500.0, 121500.0, 117000.0, 90000.0, 445500.0, 157500.0, 112500.0, 180000.0, 157500.0, 117000.0, 234000.0, 1575000.0, 247500.0, 144000.0, 180000.0, 216000.0, 90000.0, 171000.0, 180000.0, 225000.0, 225000.0, 270000.0, 67050.0, 270000.0, 73350.0, 112500.0, 144000.0, 225000.0, 112500.0, 292500.0, 135000.0, 157500.0, 1575000.0, 157500.0, 157500.0, 135000.0, 112500.0, 202500.0, 193500.0, 225000.0, 108000.0, 900000.0, 292500.0, 270000.0, 270000.0, 292500.0, 292500.0, 157500.0, 76500.0, 157500.0, 180000.0, 135000.0, 112500.0, 360000.0, 157500.0, 225000.0, 112500.0, 121500.0, 202500.0, 112500.0, 135000.0, 103500.0, 157500.0, 337500.0, 180000.0, 112500.0, 157500.0, 360000.0, 135000.0, 337500.0, 135000.0, 360000.0, 450000.0, 270000.0, 270000.0, 270000.0, 450000.0, 157500.0, 112500.0, 292500.0, 112500.0, 247500.0, 157500.0, 225000.0, 94500.0, 81000.0, 180000.0, 198000.0, 180000.0, 315000.0, 67500.0, 180000.0, 202500.0, 112500.0, 306000.0, 90000.0, 270000.0, 270000.0, 234000.0, 171000.0, 225000.0, 94500.0, 117000.0, 180000.0, 202500.0, 54000.0, 112500.0, 85500.0, 135000.0, 166500.0, 157500.0, 247500.0, 180000.0, 72000.0, 202500.0, 180000.0, 270000.0, 202500.0, 360000.0, 270000.0, 270000.0, 112500.0, 157500.0, 202500.0, 99000.0, 162000.0, 225000.0, 225000.0, 72000.0, 135000.0, 315000.0, 167400.0, 180000.0, 135000.0, 99000.0, 225000.0, 153000.0, 423000.0, 90000.0, 360000.0, 247500.0, 225000.0, 67500.0, 112500.0, 157500.0, 90000.0, 90000.0, 225000.0, 112500.0, 112500.0, 315000.0, 135000.0, 450000.0, 90000.0, 270000.0, 180000.0, 135000.0, 243000.0, 225000.0, 112500.0, 234000.0, 180000.0, 121500.0, 121500.0, 270000.0, 180000.0, 90000.0, 135000.0, 247500.0, 76500.0, 85500.0, 202500.0, 157500.0, 225000.0, 225000.0, 540000.0, 283500.0, 90000.0, 252000.0, 135000.0, 315000.0, 450000.0, 180000.0, 270000.0, 495000.0, 180000.0, 306000.0, 157500.0, 180000.0, 612000.0, 36000.0, 112500.0, 292500.0, 180000.0, 202500.0, 292500.0, 315000.0, 135000.0, 337500.0, 157500.0, 360000.0, 135000.0, 270000.0, 157500.0, 157500.0, 139500.0, 135000.0, 133650.0, 427500.0, 81000.0, 225000.0, 126000.0, 135000.0, 94500.0, 180000.0, 157500.0, 252000.0, 202500.0, 117000.0, 247500.0, 180000.0, 180000.0, 180000.0, 157500.0, 135000.0, 202500.0, 90000.0, 247500.0, 99000.0, 247500.0, 202500.0, 90000.0, 121500.0, 157500.0, 121500.0, 135000.0, 180000.0, 144000.0, 126000.0, 225000.0, 157500.0, 157500.0, 270000.0, 261000.0, 135000.0, 202500.0, 157500.0, 103500.0, 135000.0, 135000.0, 112500.0, 231750.0, 202500.0, 247500.0, 135000.0, 135000.0, 112500.0, 117000.0, 112500.0, 135000.0, 103500.0, 315000.0, 180000.0, 247500.0, 135000.0, 157500.0, 315000.0, 247500.0, 157500.0, 247500.0, 166500.0, 112500.0, 90900.0, 112500.0, 45900.0, 126000.0, 103500.0, 119250.0, 202500.0, 157500.0, 112500.0, 315000.0, 270000.0, 162000.0, 270000.0, 112500.0, 58500.0, 94500.0, 270000.0, 270000.0, 99000.0, 315000.0, 157500.0, 180000.0, 211500.0, 202500.0, 180000.0, 144000.0, 144000.0, 270000.0, 148500.0, 157500.0, 90000.0, 148500.0, 99000.0, 315000.0, 162000.0, 202500.0, 225000.0, 612000.0, 292500.0, 67500.0, 157500.0, 135000.0, 67500.0, 144000.0, 90000.0, 112500.0, 112500.0, 135000.0, 360000.0, 112500.0, 225000.0, 112500.0, 202500.0, 202500.0, 225000.0, 112500.0, 202500.0, 328500.0, 112500.0, 202500.0, 135000.0, 157500.0, 270000.0, 157500.0, 193500.0, 103500.0, 90000.0, 198000.0, 202500.0, 225000.0, 72000.0, 202500.0, 247500.0, 157500.0, 225000.0, 112500.0, 450000.0, 180000.0, 108000.0, 787500.0, 202500.0, 157500.0, 90000.0, 225000.0, 90000.0, 72000.0, 225000.0, 157500.0, 360000.0, 450000.0, 216000.0, 157500.0, 315000.0, 315000.0, 594000.0, 135000.0, 180000.0, 157500.0, 234000.0, 99000.0, 225000.0, 292500.0, 198000.0, 90000.0, 247500.0, 112500.0, 157500.0, 112500.0, 585000.0, 180000.0, 225000.0, 225000.0, 135000.0, 112500.0, 112500.0, 180000.0, 112500.0, 117000.0, 135000.0, 270000.0, 135000.0, 157500.0, 243000.0, 121500.0, 135000.0, 225000.0, 225000.0, 112500.0, 157500.0, 202500.0, 337500.0, 103500.0, 99000.0, 67500.0, 112500.0, 270000.0, 315000.0, 135000.0, 180000.0, 225000.0, 85500.0, 135000.0, 119700.0, 495000.0, 112500.0, 153000.0, 216000.0, 202500.0, 90000.0, 108000.0, 270000.0, 76500.0, 69372.0, 135000.0, 117000.0, 202500.0, 126000.0, 135000.0, 180000.0, 225000.0, 81000.0, 157500.0, 90000.0, 225000.0, 157500.0, 103500.0, 202500.0, 37800.0, 135000.0, 157500.0, 180000.0, 135000.0, 225000.0, 157500.0, 387000.0, 225000.0, 225000.0, 126000.0, 135000.0, 202500.0, 225000.0, 157500.0, 202500.0, 247500.0, 225000.0, 112500.0, 112500.0, 135000.0, 207000.0, 270000.0, 315000.0, 315000.0, 112500.0, 121500.0, 225000.0, 225000.0, 157500.0, 225000.0, 135000.0, 225000.0, 270000.0, 202500.0, 135000.0, 112500.0, 157500.0, 450000.0, 202500.0, 900000.0, 135000.0, 337500.0, 94500.0, 90000.0, 157500.0, 270000.0, 112500.0, 135000.0, 270000.0, 112500.0, 225000.0, 54000.0, 189000.0, 135000.0, 157500.0, 121500.0, 180000.0, 121500.0, 225000.0, 180000.0, 315000.0, 112500.0, 90000.0, 90000.0, 45000.0, 180000.0, 112500.0, 135000.0, 360000.0, 135000.0, 99000.0, 270000.0, 157500.0, 180000.0, 315000.0, 112500.0, 108000.0, 180000.0, 225000.0, 90000.0, 292500.0, 157500.0, 135000.0, 315000.0, 225000.0, 333000.0, 171000.0, 130500.0, 112500.0, 202500.0, 126000.0, 225000.0, 135000.0, 112500.0, 105750.0, 135000.0, 180000.0, 360000.0, 157500.0, 90000.0, 112500.0, 180000.0, 225000.0, 67500.0, 270000.0, 202500.0, 144000.0, 207000.0, 180000.0, 202500.0, 202500.0, 180000.0, 126000.0, 157500.0, 225000.0, 202500.0, 103500.0, 90000.0, 135000.0, 67500.0, 135000.0, 382500.0, 270000.0, 202500.0, 292500.0, 225000.0, 135000.0, 76500.0, 180000.0, 450000.0, 90000.0, 157500.0, 306000.0, 90000.0, 135000.0, 193500.0, 180000.0, 270000.0, 112500.0, 202500.0, 180000.0, 139500.0, 135000.0, 202500.0, 112500.0, 126000.0, 193500.0, 112500.0, 337500.0, 157500.0, 193500.0, 180000.0, 315000.0, 180000.0, 90000.0, 180000.0, 112500.0, 157500.0, 135000.0, 315000.0, 112500.0, 135000.0, 99000.0, 900000.0, 270000.0, 112500.0, 180000.0, 141750.0, 180000.0, 112500.0, 225000.0, 270000.0, 202500.0, 135000.0, 292500.0, 202500.0, 99000.0, 202500.0, 306000.0, 148500.0, 135000.0, 180000.0, 180000.0, 157500.0, 247500.0, 112500.0, 180000.0, 103500.0, 198000.0, 135000.0, 67500.0, 202500.0, 315000.0, 292500.0, 148500.0, 202500.0, 180000.0, 90000.0, 135000.0, 135000.0, 261000.0, 135000.0, 112500.0, 135000.0, 135000.0, 360000.0, 171000.0, 40500.0, 130500.0, 306000.0, 202500.0, 112500.0, 112500.0, 90000.0, 153000.0, 135000.0, 180000.0, 112500.0, 90000.0, 157500.0, 247500.0, 112500.0, 67500.0, 360000.0, 360000.0, 315000.0, 157500.0, 135000.0, 166500.0, 180000.0, 225000.0, 135000.0, 135000.0, 193500.0, 247500.0, 315000.0, 405000.0, 405000.0, 90000.0, 270000.0, 243000.0, 180000.0, 112500.0, 337500.0, 135000.0, 117000.0, 202500.0, 270000.0, 202500.0, 135000.0, 216000.0, 135000.0, 225000.0, 81000.0, 180000.0, 292500.0, 225000.0, 157500.0, 157500.0, 166500.0, 445500.0, 180000.0, 45000.0, 315000.0, 450000.0, 180000.0, 90000.0, 148500.0, 135000.0, 144000.0, 135000.0, 360000.0, 90000.0, 157500.0, 135000.0, 292500.0, 112500.0, 216000.0, 126000.0, 135000.0, 189000.0, 337500.0, 44550.0, 112500.0, 157500.0, 112500.0, 135000.0, 135000.0, 301500.0, 112500.0, 90000.0, 67500.0, 292500.0, 315000.0, 117000.0, 157500.0, 67500.0, 189000.0, 202500.0, 157500.0, 225000.0, 112500.0, 202500.0, 180000.0, 225000.0, 157500.0, 180000.0, 112500.0, 81000.0, 90000.0, 180000.0, 94500.0, 180000.0, 450000.0, 315000.0, 54000.0, 112500.0, 157500.0, 180000.0, 225000.0, 360000.0, 112500.0, 292500.0, 360000.0, 225000.0, 126000.0, 135000.0, 270000.0, 157500.0, 216000.0, 337500.0, 225000.0, 108000.0, 225000.0, 180000.0, 180000.0, 135000.0, 180000.0, 112500.0, 270000.0, 270000.0, 270000.0, 135000.0, 351000.0, 202500.0, 189000.0, 270000.0, 144000.0, 67500.0, 247500.0, 157500.0, 157500.0, 157500.0, 180000.0, 315000.0, 99000.0, 351000.0, 175500.0, 306000.0, 157500.0, 58500.0, 292500.0, 225000.0, 247500.0, 189000.0, 247500.0, 90000.0, 148500.0, 180000.0, 180000.0, 121900.5, 112500.0, 180000.0, 225000.0, 450000.0, 225000.0, 135000.0, 157500.0, 238500.0, 261000.0, 180000.0, 225000.0, 135000.0, 112500.0, 180000.0, 171000.0, 135000.0, 202500.0, 33750.0, 135000.0, 135000.0, 157500.0, 67500.0, 135000.0, 153000.0, 180000.0, 180000.0, 121500.0, 112500.0, 270000.0, 360000.0, 116100.0, 225000.0, 450000.0, 225000.0, 405000.0, 112500.0, 157500.0, 202500.0, 297000.0, 315000.0, 202500.0, 180000.0, 202500.0, 360000.0, 112500.0, 121500.0, 112500.0, 900000.0, 112500.0, 135000.0, 261000.0, 121500.0, 202500.0, 94500.0, 225000.0, 630000.0, 202500.0, 360000.0, 157500.0, 247500.0, 81000.0, 360000.0, 315000.0, 126000.0, 225000.0, 135000.0, 225000.0, 112500.0, 40500.0, 157500.0, 67500.0, 315000.0, 270000.0, 180000.0, 157500.0, 252000.0, 270000.0, 157500.0, 270000.0, 162000.0, 315000.0, 202500.0, 180000.0, 112500.0, 135000.0, 225000.0, 157500.0, 112500.0, 202500.0, 162000.0, 450000.0, 157500.0, 270000.0, 90000.0, 67500.0, 225000.0, 135000.0, 135000.0, 157500.0, 180000.0, 418500.0, 225000.0, 135000.0, 360000.0, 135000.0, 112500.0, 225000.0, 180000.0, 202500.0, 315000.0, 315000.0, 112500.0, 83250.0, 261000.0, 247500.0, 360000.0, 135000.0, 225000.0, 270000.0, 112500.0, 112500.0, 225000.0, 173250.0, 148500.0, 315000.0, 135000.0, 157500.0, 76500.0, 225000.0, 157500.0, 216000.0, 90000.0, 211500.0, 202500.0, 112500.0, 112500.0, 166500.0, 72000.0, 135000.0, 157500.0, 67500.0, 135000.0, 207000.0, 148500.0, 112500.0, 112500.0, 202500.0, 67500.0, 67500.0, 306000.0, 90000.0, 360000.0, 112500.0, 270000.0, 450000.0, 67500.0, 180000.0, 270000.0, 315000.0, 247500.0, 72000.0, 81000.0, 171000.0, 135000.0, 135000.0, 202500.0, 292500.0, 360000.0, 315000.0, 405000.0, 225000.0, 198000.0, 202500.0, 90000.0, 166500.0, 73350.0, 135000.0, 103500.0, 202500.0, 76500.0, 225000.0, 126000.0, 211500.0, 157500.0, 112500.0, 225000.0, 135000.0, 405000.0, 135000.0, 112500.0, 247500.0, 270000.0, 225000.0, 90000.0, 135000.0, 67500.0, 135000.0, 193500.0, 135000.0, 202500.0, 135000.0, 180000.0, 112500.0, 247500.0, 360000.0, 193500.0, 67500.0, 306000.0, 153000.0, 171000.0, 112500.0, 360000.0, 157500.0, 112500.0, 292500.0, 315000.0, 135000.0, 180000.0, 180000.0, 292500.0, 135000.0, 225000.0, 225000.0, 135000.0, 292500.0, 180000.0, 274500.0, 225000.0, 180000.0, 225000.0, 360000.0, 126000.0, 180000.0, 54000.0, 76500.0, 247500.0, 112500.0, 81000.0, 135000.0, 135000.0, 99000.0, 67500.0, 202500.0, 58500.0, 135000.0, 135000.0, 180000.0, 112500.0, 144000.0, 112500.0, 135000.0, 81000.0, 193500.0, 144000.0, 292500.0, 157500.0, 315000.0, 135000.0, 202500.0, 180000.0, 112500.0, 112500.0, 270000.0, 76500.0, 292500.0, 405000.0, 193500.0, 180000.0, 115200.0, 56250.0, 180000.0, 157500.0, 202500.0, 135000.0, 202500.0, 157500.0, 225000.0, 202500.0, 85500.0, 157500.0, 270000.0, 157500.0, 360000.0, 90000.0, 90000.0, 135000.0, 112500.0, 225000.0, 225000.0, 202500.0, 202500.0, 225000.0, 108000.0, 225000.0, 180000.0, 135000.0, 112500.0, 90000.0, 90000.0, 103500.0, 72000.0, 135000.0, 495000.0, 135000.0, 360000.0, 135000.0, 225000.0, 135000.0, 81000.0, 90000.0, 450000.0, 360000.0, 225000.0, 202500.0, 202500.0, 95850.0, 112500.0, 126000.0, 99000.0, 112500.0, 180000.0, 225000.0, 225000.0, 202500.0, 180000.0, 135000.0, 315000.0, 387000.0, 45000.0, 185400.0, 76500.0, 225000.0, 810000.0, 126000.0, 135000.0, 90000.0, 157500.0, 180000.0, 112500.0, 270000.0, 135000.0, 103500.0, 130500.0, 90000.0, 112500.0, 157500.0, 202500.0, 67500.0, 189000.0, 180000.0, 135000.0, 135000.0, 166500.0, 90000.0, 337500.0, 90000.0, 157500.0, 112500.0, 180000.0, 112500.0, 135000.0, 135000.0, 135000.0, 126000.0, 247500.0, 184500.0, 165600.0, 315000.0, 112500.0, 112500.0, 202500.0, 72000.0, 202500.0, 391500.0, 112500.0, 157500.0, 112500.0, 270000.0, 270000.0, 247500.0, 360000.0, 189000.0, 157500.0, 405000.0, 157500.0, 130500.0, 135000.0, 90000.0, 67500.0, 135000.0, 247500.0, 157500.0, 135000.0, 126000.0, 180000.0, 112500.0, 247500.0, 112500.0, 315000.0, 67500.0, 337500.0, 337500.0, 112500.0, 157500.0, 292500.0, 135000.0, 450000.0, 180000.0, 135000.0, 180000.0, 202500.0, 180000.0, 112500.0, 135000.0, 81000.0, 135000.0, 270000.0, 247500.0, 202500.0, 225000.0, 157500.0, 216000.0, 202500.0, 135000.0, 247500.0, 180000.0, 67500.0, 130500.0, 99000.0, 112500.0, 247500.0, 180000.0, 225000.0, 405000.0, 247500.0, 171000.0, 180000.0, 337500.0, 315000.0, 247500.0, 180000.0, 83250.0, 202500.0, 450000.0, 135000.0, 225000.0, 157500.0, 270000.0, 216000.0, 114750.0, 99000.0, 47250.0, 49500.0, 135000.0, 225000.0, 450000.0, 225000.0, 90000.0, 180000.0, 103500.0, 135000.0, 225000.0, 112500.0, 270000.0, 270000.0, 202500.0, 180000.0, 180000.0, 108000.0, 225000.0, 157500.0, 405000.0, 225000.0, 216000.0, 135000.0, 112500.0, 135000.0, 157500.0, 45000.0, 157500.0, 198000.0, 234000.0, 157500.0, 207000.0, 198000.0, 157500.0, 180000.0, 216000.0, 112500.0, 94500.0, 69750.0, 103500.0, 157500.0, 112500.0, 67500.0, 112500.0, 157500.0, 270000.0, 135000.0, 112500.0, 126000.0, 175500.0, 148500.0, 126000.0, 180000.0, 225000.0, 126000.0, 157500.0, 157500.0, 270000.0, 180000.0, 144000.0, 112500.0, 225000.0, 450000.0, 180000.0, 144000.0, 225000.0, 360000.0, 225000.0, 180000.0, 270000.0, 225000.0]\n"
     ]
    }
   ],
   "source": [
    "print(df['Annual_income'].tolist())\n"
   ]
  },
  {
   "cell_type": "markdown",
   "id": "af204fff",
   "metadata": {},
   "source": [
    "Thus we can see that in the above values after wrangling on the data, we have solved the missing data for Annual_income. For the Family_Members column there is no missing data thus i will wrangle it to check for family members less or equal to 6 to prevent outliers"
   ]
  },
  {
   "cell_type": "code",
   "execution_count": 24,
   "id": "f8cf46b2",
   "metadata": {},
   "outputs": [
    {
     "name": "stdout",
     "output_type": "stream",
     "text": [
      "[2, 2, 2, 2, 2, 2, 2, 3, 3, 1, 2, 2, 3, 2, 2, 1, 1, 2, 1, 2, 2, 4, 2, 2, 2, 2, 2, 2, 2, 1, 3, 2, 2, 2, 2, 2, 1, 4, 1, 1, 1, 3, 3, 3, 3, 3, 2, 2, 1, 3, 3, 2, 2, 2, 2, 2, 2, 3, 1, 4, 4, 1, 1, 1, 1, 1, 1, 2, 2, 2, 3, 2, 2, 2, 3, 2, 2, 1, 2, 2, 2, 4, 3, 3, 2, 2, 2, 2, 2, 3, 2, 2, 2, 4, 2, 3, 1, 1, 1, 2, 1, 1, 2, 1, 1, 2, 3, 3, 2, 2, 2, 2, 2, 1, 1, 6, 2, 2, 2, 2, 3, 1, 1, 2, 2, 2, 2, 2, 2, 2, 2, 2, 2, 1, 3, 4, 2, 2, 2, 2, 1, 1, 2, 2, 2, 4, 4, 3, 3, 1, 1, 1, 3, 2, 2, 1, 3, 2, 1, 2, 2, 3, 3, 3, 2, 2, 2, 3, 2, 2, 2, 3, 3, 2, 1, 2, 2, 2, 3, 3, 2, 1, 1, 1, 2, 2, 2, 2, 2, 2, 2, 1, 2, 2, 4, 1, 2, 2, 2, 4, 2, 3, 2, 2, 4, 4, 2, 2, 2, 2, 1, 4, 1, 2, 2, 4, 2, 1, 2, 2, 3, 2, 1, 2, 1, 2, 3, 4, 2, 1, 1, 1, 3, 2, 2, 2, 3, 2, 4, 2, 1, 1, 2, 2, 4, 2, 2, 2, 1, 2, 1, 4, 2, 2, 1, 2, 2, 2, 2, 3, 1, 2, 3, 3, 1, 2, 1, 1, 2, 1, 2, 2, 2, 1, 1, 2, 2, 2, 3, 5, 2, 2, 3, 2, 3, 2, 3, 4, 3, 3, 4, 2, 2, 1, 2, 2, 1, 2, 2, 2, 2, 1, 1, 2, 2, 1, 1, 2, 2, 4, 2, 2, 2, 1, 2, 2, 2, 1, 2, 1, 2, 3, 2, 1, 2, 2, 3, 1, 1, 2, 2, 1, 2, 1, 1, 2, 1, 3, 2, 3, 2, 4, 3, 3, 2, 3, 3, 3, 2, 1, 2, 2, 2, 4, 2, 3, 2, 2, 3, 2, 3, 1, 2, 1, 3, 2, 3, 2, 1, 2, 2, 1, 3, 2, 1, 3, 2, 2, 1, 4, 2, 3, 3, 2, 2, 4, 1, 3, 2, 4, 2, 2, 3, 2, 2, 2, 2, 1, 3, 3, 3, 3, 2, 4, 2, 2, 2, 2, 3, 2, 2, 1, 3, 4, 2, 2, 2, 3, 2, 2, 2, 3, 4, 4, 2, 4, 1, 1, 1, 2, 3, 4, 2, 5, 3, 4, 2, 2, 3, 2, 3, 1, 3, 1, 2, 1, 2, 1, 2, 2, 1, 1, 1, 2, 5, 2, 2, 2, 2, 2, 1, 3, 3, 2, 5, 1, 3, 2, 3, 4, 3, 2, 3, 3, 1, 2, 4, 1, 1, 2, 2, 2, 2, 3, 2, 2, 1, 1, 2, 4, 1, 1, 4, 2, 2, 2, 1, 3, 1, 1, 2, 2, 1, 1, 2, 2, 2, 2, 1, 1, 2, 2, 2, 2, 2, 2, 2, 3, 4, 3, 2, 4, 2, 2, 3, 4, 2, 2, 2, 2, 2, 2, 2, 2, 4, 3, 2, 2, 1, 3, 3, 2, 2, 2, 2, 2, 4, 1, 1, 15, 2, 2, 1, 2, 2, 2, 4, 1, 2, 2, 1, 2, 2, 2, 3, 1, 2, 2, 4, 3, 3, 2, 2, 2, 2, 2, 2, 2, 2, 4, 2, 2, 4, 2, 3, 1, 1, 3, 1, 4, 2, 2, 2, 3, 3, 2, 3, 2, 1, 3, 2, 3, 2, 3, 2, 3, 3, 2, 4, 4, 2, 2, 3, 2, 2, 2, 3, 2, 2, 4, 2, 1, 1, 1, 3, 1, 3, 2, 1, 4, 5, 2, 2, 1, 1, 3, 2, 2, 4, 1, 1, 4, 3, 4, 1, 3, 2, 2, 3, 3, 1, 1, 2, 4, 2, 2, 2, 2, 2, 3, 2, 2, 2, 1, 1, 3, 2, 2, 1, 1, 4, 2, 2, 2, 2, 2, 1, 3, 1, 1, 1, 2, 2, 2, 3, 1, 2, 3, 1, 2, 1, 2, 2, 2, 2, 1, 2, 1, 3, 2, 2, 2, 1, 2, 2, 2, 2, 2, 2, 4, 2, 2, 4, 1, 2, 2, 3, 1, 4, 2, 3, 3, 2, 2, 3, 3, 2, 1, 2, 2, 1, 1, 3, 2, 1, 1, 2, 2, 2, 2, 5, 2, 2, 2, 2, 3, 1, 1, 1, 2, 2, 2, 2, 1, 1, 2, 1, 3, 2, 2, 3, 2, 2, 2, 1, 1, 2, 5, 2, 2, 2, 1, 2, 4, 2, 2, 1, 1, 2, 2, 1, 3, 4, 3, 2, 1, 2, 2, 4, 2, 2, 1, 2, 3, 4, 1, 3, 3, 2, 2, 2, 3, 2, 2, 2, 4, 2, 2, 2, 2, 1, 3, 2, 3, 1, 1, 1, 2, 4, 1, 3, 2, 2, 2, 2, 2, 1, 2, 2, 3, 1, 2, 3, 2, 2, 1, 2, 4, 3, 2, 2, 2, 2, 4, 2, 1, 3, 1, 2, 1, 4, 2, 2, 3, 4, 5, 4, 2, 2, 2, 2, 2, 1, 2, 1, 2, 2, 2, 3, 3, 4, 1, 3, 4, 2, 2, 2, 2, 2, 2, 1, 2, 1, 3, 2, 3, 2, 2, 2, 1, 4, 1, 1, 2, 3, 4, 1, 4, 3, 2, 2, 2, 3, 2, 2, 4, 3, 1, 1, 2, 3, 1, 1, 2, 2, 3, 4, 4, 2, 2, 2, 1, 1, 2, 4, 2, 1, 2, 1, 2, 3, 3, 3, 2, 2, 3, 4, 2, 3, 2, 3, 2, 1, 2, 2, 2, 4, 2, 4, 2, 2, 3, 1, 3, 2, 1, 3, 1, 2, 1, 2, 4, 2, 3, 2, 2, 2, 3, 2, 2, 1, 2, 3, 2, 3, 2, 1, 1, 2, 2, 2, 2, 1, 1, 3, 2, 2, 2, 1, 2, 3, 2, 2, 1, 3, 3, 1, 2, 2, 3, 3, 2, 2, 3, 2, 4, 2, 5, 2, 2, 2, 3, 2, 3, 1, 2, 3, 1, 4, 2, 1, 1, 2, 5, 2, 1, 2, 1, 2, 2, 3, 2, 2, 2, 2, 2, 3, 2, 1, 2, 2, 2, 1, 2, 2, 3, 2, 2, 1, 3, 2, 3, 2, 2, 1, 2, 2, 1, 1, 2, 3, 1, 1, 2, 2, 1, 1, 4, 2, 2, 2, 1, 4, 2, 4, 2, 1, 2, 2, 2, 1, 2, 2, 3, 2, 4, 2, 1, 2, 2, 3, 1, 2, 1, 1, 3, 1, 1, 2, 1, 2, 4, 2, 2, 2, 2, 2, 2, 2, 2, 2, 2, 3, 2, 2, 2, 2, 2, 2, 1, 2, 2, 1, 3, 2, 1, 2, 3, 1, 4, 2, 2, 4, 1, 1, 4, 2, 2, 1, 4, 2, 2, 3, 1, 2, 3, 2, 4, 1, 2, 3, 2, 3, 3, 2, 4, 1, 2, 2, 2, 1, 2, 2, 3, 2, 3, 2, 2, 3, 4, 1, 3, 3, 2, 3, 1, 3, 4, 3, 2, 2, 2, 4, 2, 2, 3, 1, 1, 1, 3, 1, 2, 2, 1, 2, 2, 1, 2, 2, 1, 2, 2, 4, 3, 2, 2, 4, 3, 3, 2, 1, 5, 1, 2, 4, 2, 2, 1, 1, 5, 2, 2, 1, 3, 2, 2, 1, 4, 2, 1, 2, 4, 2, 1, 2, 4, 3, 2, 3, 2, 2, 2, 2, 2, 2, 4, 2, 1, 2, 2, 2, 2, 2, 1, 4, 3, 1, 3, 2, 2, 2, 2, 2, 3, 3, 2, 1, 3, 2, 2, 4, 2, 3, 2, 3, 3, 2, 1, 3, 1, 1, 1, 2, 2, 2, 2, 2, 2, 1, 1, 1, 1, 2, 4, 2, 1, 2, 3, 2, 1, 2, 2, 2, 2, 1, 2, 3, 2, 3, 1, 2, 2, 1, 1, 2, 2, 1, 2, 2, 2, 2, 2, 3, 1, 1, 1, 2, 3, 4, 3, 2, 2, 2, 3, 3, 2, 2, 3, 3, 2, 1, 3, 2, 2, 2, 2, 4, 2, 3, 1, 3, 2, 2, 2, 2, 2, 2, 3, 4, 2, 4, 3, 2, 2, 2, 2, 2, 4, 1, 2, 1, 2, 1, 2, 2, 2, 3, 2, 2, 3, 1, 4, 2, 1, 3, 2, 2, 2, 3, 2, 2, 2, 2, 1, 2, 2, 1, 1, 2, 1, 2, 1, 2, 3, 1, 3, 2, 4, 2, 2, 3, 1, 2, 2, 2, 2, 1, 2, 2, 2, 5, 2, 4, 1, 2, 1, 3, 2, 2, 4, 1, 3, 1, 3, 2, 2, 2, 2, 4, 2, 2, 2, 2, 2, 3, 1, 2, 1, 3, 3, 4, 1, 4, 2, 2, 1, 3, 2, 2, 2, 1, 1, 2, 2, 3, 2, 3, 2, 2, 2, 3, 2, 2, 2, 1, 2, 3, 2, 3, 1, 2, 2, 2, 2, 2, 4, 1, 1, 2, 1, 2, 2, 1, 3, 3, 2, 2, 5, 2, 2, 3, 1, 3, 2, 3, 1, 5, 1, 3, 1, 2, 4, 2, 2, 2, 2, 2, 2, 3, 4, 3, 1, 4, 2, 2]\n"
     ]
    }
   ],
   "source": [
    "print(df['Family_Members'].tolist())"
   ]
  },
  {
   "cell_type": "code",
   "execution_count": 25,
   "id": "c001d9c9",
   "metadata": {},
   "outputs": [],
   "source": [
    "df = df[df['Family_Members'] <= 5]"
   ]
  },
  {
   "cell_type": "code",
   "execution_count": 26,
   "id": "02a6ce41",
   "metadata": {},
   "outputs": [
    {
     "name": "stdout",
     "output_type": "stream",
     "text": [
      "[2, 2, 2, 2, 2, 2, 2, 3, 3, 1, 2, 2, 3, 2, 2, 1, 1, 2, 1, 2, 2, 4, 2, 2, 2, 2, 2, 2, 2, 1, 3, 2, 2, 2, 2, 2, 1, 4, 1, 1, 1, 3, 3, 3, 3, 3, 2, 2, 1, 3, 3, 2, 2, 2, 2, 2, 2, 3, 1, 4, 4, 1, 1, 1, 1, 1, 1, 2, 2, 2, 3, 2, 2, 2, 3, 2, 2, 1, 2, 2, 2, 4, 3, 3, 2, 2, 2, 2, 2, 3, 2, 2, 2, 4, 2, 3, 1, 1, 1, 2, 1, 1, 2, 1, 1, 2, 3, 3, 2, 2, 2, 2, 2, 1, 1, 2, 2, 2, 2, 3, 1, 1, 2, 2, 2, 2, 2, 2, 2, 2, 2, 2, 1, 3, 4, 2, 2, 2, 2, 1, 1, 2, 2, 2, 4, 4, 3, 3, 1, 1, 1, 3, 2, 2, 1, 3, 2, 1, 2, 2, 3, 3, 3, 2, 2, 2, 3, 2, 2, 2, 3, 3, 2, 1, 2, 2, 2, 3, 3, 2, 1, 1, 1, 2, 2, 2, 2, 2, 2, 2, 1, 2, 2, 4, 1, 2, 2, 2, 4, 2, 3, 2, 2, 4, 4, 2, 2, 2, 2, 1, 4, 1, 2, 2, 4, 2, 1, 2, 2, 3, 2, 1, 2, 1, 2, 3, 4, 2, 1, 1, 1, 3, 2, 2, 2, 3, 2, 4, 2, 1, 1, 2, 2, 4, 2, 2, 2, 1, 2, 1, 4, 2, 2, 1, 2, 2, 2, 2, 3, 1, 2, 3, 3, 1, 2, 1, 1, 2, 1, 2, 2, 2, 1, 1, 2, 2, 2, 3, 5, 2, 2, 3, 2, 3, 2, 3, 4, 3, 3, 4, 2, 2, 1, 2, 2, 1, 2, 2, 2, 2, 1, 1, 2, 2, 1, 1, 2, 2, 4, 2, 2, 2, 1, 2, 2, 2, 1, 2, 1, 2, 3, 2, 1, 2, 2, 3, 1, 1, 2, 2, 1, 2, 1, 1, 2, 1, 3, 2, 3, 2, 4, 3, 3, 2, 3, 3, 3, 2, 1, 2, 2, 2, 4, 2, 3, 2, 2, 3, 2, 3, 1, 2, 1, 3, 2, 3, 2, 1, 2, 2, 1, 3, 2, 1, 3, 2, 2, 1, 4, 2, 3, 3, 2, 2, 4, 1, 3, 2, 4, 2, 2, 3, 2, 2, 2, 2, 1, 3, 3, 3, 3, 2, 4, 2, 2, 2, 2, 3, 2, 2, 1, 3, 4, 2, 2, 2, 3, 2, 2, 2, 3, 4, 4, 2, 4, 1, 1, 1, 2, 3, 4, 2, 5, 3, 4, 2, 2, 3, 2, 3, 1, 3, 1, 2, 1, 2, 1, 2, 2, 1, 1, 1, 2, 5, 2, 2, 2, 2, 2, 1, 3, 3, 2, 5, 1, 3, 2, 3, 4, 3, 2, 3, 3, 1, 2, 4, 1, 1, 2, 2, 2, 2, 3, 2, 2, 1, 1, 2, 4, 1, 1, 4, 2, 2, 2, 1, 3, 1, 1, 2, 2, 1, 1, 2, 2, 2, 2, 1, 1, 2, 2, 2, 2, 2, 2, 2, 3, 4, 3, 2, 4, 2, 2, 3, 4, 2, 2, 2, 2, 2, 2, 2, 2, 4, 3, 2, 2, 1, 3, 3, 2, 2, 2, 2, 2, 4, 1, 1, 2, 2, 1, 2, 2, 2, 4, 1, 2, 2, 1, 2, 2, 2, 3, 1, 2, 2, 4, 3, 3, 2, 2, 2, 2, 2, 2, 2, 2, 4, 2, 2, 4, 2, 3, 1, 1, 3, 1, 4, 2, 2, 2, 3, 3, 2, 3, 2, 1, 3, 2, 3, 2, 3, 2, 3, 3, 2, 4, 4, 2, 2, 3, 2, 2, 2, 3, 2, 2, 4, 2, 1, 1, 1, 3, 1, 3, 2, 1, 4, 5, 2, 2, 1, 1, 3, 2, 2, 4, 1, 1, 4, 3, 4, 1, 3, 2, 2, 3, 3, 1, 1, 2, 4, 2, 2, 2, 2, 2, 3, 2, 2, 2, 1, 1, 3, 2, 2, 1, 1, 4, 2, 2, 2, 2, 2, 1, 3, 1, 1, 1, 2, 2, 2, 3, 1, 2, 3, 1, 2, 1, 2, 2, 2, 2, 1, 2, 1, 3, 2, 2, 2, 1, 2, 2, 2, 2, 2, 2, 4, 2, 2, 4, 1, 2, 2, 3, 1, 4, 2, 3, 3, 2, 2, 3, 3, 2, 1, 2, 2, 1, 1, 3, 2, 1, 1, 2, 2, 2, 2, 5, 2, 2, 2, 2, 3, 1, 1, 1, 2, 2, 2, 2, 1, 1, 2, 1, 3, 2, 2, 3, 2, 2, 2, 1, 1, 2, 5, 2, 2, 2, 1, 2, 4, 2, 2, 1, 1, 2, 2, 1, 3, 4, 3, 2, 1, 2, 2, 4, 2, 2, 1, 2, 3, 4, 1, 3, 3, 2, 2, 2, 3, 2, 2, 2, 4, 2, 2, 2, 2, 1, 3, 2, 3, 1, 1, 1, 2, 4, 1, 3, 2, 2, 2, 2, 2, 1, 2, 2, 3, 1, 2, 3, 2, 2, 1, 2, 4, 3, 2, 2, 2, 2, 4, 2, 1, 3, 1, 2, 1, 4, 2, 2, 3, 4, 5, 4, 2, 2, 2, 2, 2, 1, 2, 1, 2, 2, 2, 3, 3, 4, 1, 3, 4, 2, 2, 2, 2, 2, 2, 1, 2, 1, 3, 2, 3, 2, 2, 2, 1, 4, 1, 1, 2, 3, 4, 1, 4, 3, 2, 2, 2, 3, 2, 2, 4, 3, 1, 1, 2, 3, 1, 1, 2, 2, 3, 4, 4, 2, 2, 2, 1, 1, 2, 4, 2, 1, 2, 1, 2, 3, 3, 3, 2, 2, 3, 4, 2, 3, 2, 3, 2, 1, 2, 2, 2, 4, 2, 4, 2, 2, 3, 1, 3, 2, 1, 3, 1, 2, 1, 2, 4, 2, 3, 2, 2, 2, 3, 2, 2, 1, 2, 3, 2, 3, 2, 1, 1, 2, 2, 2, 2, 1, 1, 3, 2, 2, 2, 1, 2, 3, 2, 2, 1, 3, 3, 1, 2, 2, 3, 3, 2, 2, 3, 2, 4, 2, 5, 2, 2, 2, 3, 2, 3, 1, 2, 3, 1, 4, 2, 1, 1, 2, 5, 2, 1, 2, 1, 2, 2, 3, 2, 2, 2, 2, 2, 3, 2, 1, 2, 2, 2, 1, 2, 2, 3, 2, 2, 1, 3, 2, 3, 2, 2, 1, 2, 2, 1, 1, 2, 3, 1, 1, 2, 2, 1, 1, 4, 2, 2, 2, 1, 4, 2, 4, 2, 1, 2, 2, 2, 1, 2, 2, 3, 2, 4, 2, 1, 2, 2, 3, 1, 2, 1, 1, 3, 1, 1, 2, 1, 2, 4, 2, 2, 2, 2, 2, 2, 2, 2, 2, 2, 3, 2, 2, 2, 2, 2, 2, 1, 2, 2, 1, 3, 2, 1, 2, 3, 1, 4, 2, 2, 4, 1, 1, 4, 2, 2, 1, 4, 2, 2, 3, 1, 2, 3, 2, 4, 1, 2, 3, 2, 3, 3, 2, 4, 1, 2, 2, 2, 1, 2, 2, 3, 2, 3, 2, 2, 3, 4, 1, 3, 3, 2, 3, 1, 3, 4, 3, 2, 2, 2, 4, 2, 2, 3, 1, 1, 1, 3, 1, 2, 2, 1, 2, 2, 1, 2, 2, 1, 2, 2, 4, 3, 2, 2, 4, 3, 3, 2, 1, 5, 1, 2, 4, 2, 2, 1, 1, 5, 2, 2, 1, 3, 2, 2, 1, 4, 2, 1, 2, 4, 2, 1, 2, 4, 3, 2, 3, 2, 2, 2, 2, 2, 2, 4, 2, 1, 2, 2, 2, 2, 2, 1, 4, 3, 1, 3, 2, 2, 2, 2, 2, 3, 3, 2, 1, 3, 2, 2, 4, 2, 3, 2, 3, 3, 2, 1, 3, 1, 1, 1, 2, 2, 2, 2, 2, 2, 1, 1, 1, 1, 2, 4, 2, 1, 2, 3, 2, 1, 2, 2, 2, 2, 1, 2, 3, 2, 3, 1, 2, 2, 1, 1, 2, 2, 1, 2, 2, 2, 2, 2, 3, 1, 1, 1, 2, 3, 4, 3, 2, 2, 2, 3, 3, 2, 2, 3, 3, 2, 1, 3, 2, 2, 2, 2, 4, 2, 3, 1, 3, 2, 2, 2, 2, 2, 2, 3, 4, 2, 4, 3, 2, 2, 2, 2, 2, 4, 1, 2, 1, 2, 1, 2, 2, 2, 3, 2, 2, 3, 1, 4, 2, 1, 3, 2, 2, 2, 3, 2, 2, 2, 2, 1, 2, 2, 1, 1, 2, 1, 2, 1, 2, 3, 1, 3, 2, 4, 2, 2, 3, 1, 2, 2, 2, 2, 1, 2, 2, 2, 5, 2, 4, 1, 2, 1, 3, 2, 2, 4, 1, 3, 1, 3, 2, 2, 2, 2, 4, 2, 2, 2, 2, 2, 3, 1, 2, 1, 3, 3, 4, 1, 4, 2, 2, 1, 3, 2, 2, 2, 1, 1, 2, 2, 3, 2, 3, 2, 2, 2, 3, 2, 2, 2, 1, 2, 3, 2, 3, 1, 2, 2, 2, 2, 2, 4, 1, 1, 2, 1, 2, 2, 1, 3, 3, 2, 2, 5, 2, 2, 3, 1, 3, 2, 3, 1, 5, 1, 3, 1, 2, 4, 2, 2, 2, 2, 2, 2, 3, 4, 3, 1, 4, 2, 2]\n"
     ]
    }
   ],
   "source": [
    "print(df['Family_Members'].tolist())\n"
   ]
  },
  {
   "cell_type": "markdown",
   "id": "44cbfc2b",
   "metadata": {},
   "source": [
    "Finally, we have successfully done data wrangling and we can proceed to K-means clustering"
   ]
  },
  {
   "cell_type": "markdown",
   "id": "4ba113a2",
   "metadata": {},
   "source": [
    "### Question 3"
   ]
  },
  {
   "cell_type": "code",
   "execution_count": 27,
   "id": "0b6a372b",
   "metadata": {},
   "outputs": [],
   "source": [
    "# Run the K-means clustering over the dataset using only \n",
    "# Annual_income and Family_Members column. Set K=4: we only want \n",
    "# to cluster the dataset into four subgroups"
   ]
  },
  {
   "cell_type": "code",
   "execution_count": 28,
   "id": "138be881",
   "metadata": {},
   "outputs": [
    {
     "name": "stderr",
     "output_type": "stream",
     "text": [
      "/Users/harveykoay/anaconda3/envs/Rp_Env/lib/python3.10/site-packages/sklearn/cluster/_kmeans.py:1412: FutureWarning: The default value of `n_init` will change from 10 to 'auto' in 1.4. Set the value of `n_init` explicitly to suppress the warning\n",
      "  super()._check_params_vs_input(X, default_n_init=10)\n"
     ]
    }
   ],
   "source": [
    "from sklearn.cluster import KMeans\n",
    "kmeans = KMeans(n_clusters=4).fit(\n",
    "    df[['Annual_income','Family_Members']])"
   ]
  },
  {
   "cell_type": "code",
   "execution_count": 29,
   "id": "dd483e4a",
   "metadata": {},
   "outputs": [
    {
     "data": {
      "text/plain": [
       "array([[2.03196114e+05, 2.13929619e+00],\n",
       "       [1.04343750e+06, 2.87500000e+00],\n",
       "       [1.10897179e+05, 2.12698413e+00],\n",
       "       [3.67913793e+05, 2.26108374e+00]])"
      ]
     },
     "execution_count": 29,
     "metadata": {},
     "output_type": "execute_result"
    }
   ],
   "source": [
    "# Checking the Two cluster centers\n",
    "kmeans.cluster_centers_"
   ]
  },
  {
   "cell_type": "code",
   "execution_count": 30,
   "id": "820ae90f",
   "metadata": {},
   "outputs": [
    {
     "data": {
      "text/plain": [
       "array([0, 3, 3, ..., 0, 0, 0], dtype=int32)"
      ]
     },
     "execution_count": 30,
     "metadata": {},
     "output_type": "execute_result"
    }
   ],
   "source": [
    "# Checking the Cluster labels\n",
    "kmeans.labels_"
   ]
  },
  {
   "cell_type": "markdown",
   "id": "879ed754",
   "metadata": {},
   "source": [
    "### Question 4"
   ]
  },
  {
   "cell_type": "code",
   "execution_count": 31,
   "id": "94e01c4a",
   "metadata": {},
   "outputs": [
    {
     "data": {
      "image/png": "[encoded data removed]",
      "text/plain": [
       "<Figure size 640x480 with 1 Axes>"
      ]
     },
     "metadata": {},
     "output_type": "display_data"
    }
   ],
   "source": [
    "# Visualise the output labels\n",
    "plt.scatter(\n",
    "    x=df['Annual_income'],\n",
    "    y=df['Family_Members'],\n",
    "    c=kmeans.labels_)\n",
    "# Visualising the cluster centers (black stars) \n",
    "plt.plot(\n",
    "    kmeans.cluster_centers_[:,0],\n",
    "    kmeans.cluster_centers_[:,1],\n",
    "    'k*',\n",
    "    markersize=20\n",
    ")\n",
    "plt.xlabel('Annual_income')\n",
    "plt.ylabel('Family_Members')\n",
    "plt.show()"
   ]
  },
  {
   "cell_type": "markdown",
   "id": "30439999",
   "metadata": {},
   "source": [
    "We can see that from the graph We have four different clusters where the first cluster is about 0.05 to 0.18 million annual income with a center of about 0.13 million annual income, second cluter which is the green cluster with about 0.18 to 0.32 million annual income with a centre of about 0.23 million annual income, third cluster which is in between 0.32 to 0.7 million annual income with a centre of about 0.42 million annual income and finally the last cluster which is more spread out having about 0.8 to about 1.6million annual income having a centre at 1.02 million annual income"
   ]
  },
  {
   "cell_type": "markdown",
   "id": "9b4993b2",
   "metadata": {},
   "source": [
    "## Conclusion"
   ]
  },
  {
   "cell_type": "markdown",
   "id": "138be595",
   "metadata": {},
   "source": [
    "In this assignment we have discovered more on data wrangling, classification and clustering and perform it on a variety of data to learn the processes accordingly."
   ]
  }
 ],
 "metadata": {
  "kernelspec": {
   "display_name": "Python 3 (ipykernel)",
   "language": "python",
   "name": "python3"
  },
  "language_info": {
   "codemirror_mode": {
    "name": "ipython",
    "version": 3
   },
   "file_extension": ".py",
   "mimetype": "text/x-python",
   "name": "python",
   "nbconvert_exporter": "python",
   "pygments_lexer": "ipython3",
   "version": "3.10.12"
  }
 },
 "nbformat": 4,
 "nbformat_minor": 5
}
