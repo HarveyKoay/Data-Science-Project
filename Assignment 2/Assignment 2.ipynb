{
 "cells": [
  {
   "cell_type": "markdown",
   "id": "370a2b63",
   "metadata": {},
   "source": [
    "# FIT 1043 Introduction to Data Science\n",
    "\n",
    "## Assignment 2\n",
    "\n",
    "### Harvey Koay Wern Shern\n",
    "\n",
    "### 34046917\n",
    "\n"
   ]
  },
  {
   "cell_type": "markdown",
   "id": "4e61078f",
   "metadata": {},
   "source": [
    "The main objective of this Assignment is to conduct predictive analytics by building predictive models on a dataset using Python in Jupyter Notebook. Thus, we will explore the following Data sets:\n",
    "\n",
    "1. FIT1043-Essay-Features.csv\n",
    "2. FIT1043-Essay-Features-Submission.csv"
   ]
  },
  {
   "cell_type": "markdown",
   "id": "df771719",
   "metadata": {},
   "source": [
    "# Part A: Classification"
   ]
  },
  {
   "cell_type": "markdown",
   "id": "33a1c1c7",
   "metadata": {},
   "source": [
    "# A1. Supervised learning"
   ]
  },
  {
   "cell_type": "markdown",
   "id": "f31e0370",
   "metadata": {},
   "source": [
    "### Question 1"
   ]
  },
  {
   "cell_type": "markdown",
   "id": "3f15d862",
   "metadata": {},
   "source": [
    "Supervised machine learning is where the algorithms learn to predict the output from the input data and all data is labelled where the goal is to estimate the mapping function to a point where you can predict the output variable when new input data is given for that data.\n",
    "\n",
    "The notion of labelled data are data tagged by one or more categories to train and test models which are vital for supervised learning, and aiding in quality model training\n",
    "\n",
    "Training Set: In data science, the training set is the chunk of data specifically reserved for teaching a machine learning model how to recognize patterns, relationships, or trends in the data. It is like a driving instructor teaching a new student how to drive.\n",
    "\n",
    "Testing Set: The testing set, on the other hand, is another portion of data used to evaluate the model's performance. It's like testing the skills of a student after he learn to drive. "
   ]
  },
  {
   "cell_type": "markdown",
   "id": "4357502e",
   "metadata": {},
   "source": [
    "### Question 2"
   ]
  },
  {
   "cell_type": "code",
   "execution_count": 1,
   "id": "4a85c6fc",
   "metadata": {},
   "outputs": [],
   "source": [
    "import numpy as np\n",
    "import pandas as pd\n",
    "import matplotlib.pyplot as plt\n",
    "dataset = pd.read_csv('FIT1043-Essay-Features.csv')"
   ]
  },
  {
   "cell_type": "code",
   "execution_count": 2,
   "id": "d508356b",
   "metadata": {},
   "outputs": [
    {
     "data": {
      "text/plain": [
       "array([[1.45700000e+03, 2.15300000e+03, 4.26000000e+02, ...,\n",
       "        2.46478873e-01, 4.24000000e+02, 4.12000000e+02],\n",
       "       [5.03000000e+02, 1.48000000e+03, 2.92000000e+02, ...,\n",
       "        2.63698630e-01, 3.56000000e+02, 3.45000000e+02],\n",
       "       [2.53000000e+02, 3.96400000e+03, 8.49000000e+02, ...,\n",
       "        1.53121319e-01, 7.50000000e+02, 7.50000000e+02],\n",
       "       ...,\n",
       "       [1.34500000e+03, 1.81400000e+03, 3.63000000e+02, ...,\n",
       "        2.94765840e-01, 4.27000000e+02, 4.15000000e+02],\n",
       "       [3.44000000e+02, 1.42700000e+03, 2.87000000e+02, ...,\n",
       "        2.89198606e-01, 3.23000000e+02, 3.12000000e+02],\n",
       "       [1.07700000e+03, 2.80600000e+03, 5.42000000e+02, ...,\n",
       "        2.85977860e-01, 5.96000000e+02, 5.75000000e+02]])"
      ]
     },
     "execution_count": 2,
     "metadata": {},
     "output_type": "execute_result"
    }
   ],
   "source": [
    "x = dataset.iloc[:, :-1].values\n",
    "y = dataset.iloc[:, -1:].values\n",
    "x"
   ]
  },
  {
   "cell_type": "code",
   "execution_count": 3,
   "id": "ed9f9085",
   "metadata": {},
   "outputs": [
    {
     "data": {
      "text/plain": [
       "array([[4],\n",
       "       [4],\n",
       "       [4],\n",
       "       ...,\n",
       "       [3],\n",
       "       [3],\n",
       "       [4]])"
      ]
     },
     "execution_count": 3,
     "metadata": {},
     "output_type": "execute_result"
    }
   ],
   "source": [
    "y"
   ]
  },
  {
   "cell_type": "markdown",
   "id": "15d652a7",
   "metadata": {},
   "source": [
    "### Question 3"
   ]
  },
  {
   "cell_type": "code",
   "execution_count": 4,
   "id": "4b52e58d",
   "metadata": {},
   "outputs": [],
   "source": [
    "from sklearn.model_selection import train_test_split \n",
    "X_train, X_test, y_train, y_test = train_test_split(x, y, test_size = 0.25, random_state = 0)"
   ]
  },
  {
   "cell_type": "markdown",
   "id": "81aa0be5",
   "metadata": {},
   "source": [
    "# A2. Classification(training)"
   ]
  },
  {
   "cell_type": "markdown",
   "id": "91a25da2",
   "metadata": {},
   "source": [
    "### Question 1"
   ]
  },
  {
   "cell_type": "markdown",
   "id": "dcfd144b",
   "metadata": {},
   "source": [
    "Binary classification is a type of supervised machine learning task where the objective is to sort data into two distinct and exclusive categories. These categories can be denoted as 0 and 1, positive and negative, or true and false. In binary classification, models are trained using a labeled dataset, which means the data is already categorized into the desired outcomes.\n",
    "\n",
    "Multiclass classification is also a type of supervised machine learning and involves categorizing data into three or more distinct groups or categories. Unlike binary classification, where the model makes a choice between just two classes for each data point, a multiclass classifier is trained to make predictions among three or more classes for each data point.\n",
    "\n"
   ]
  },
  {
   "cell_type": "markdown",
   "id": "ee723cfe",
   "metadata": {},
   "source": [
    "### Question 2a"
   ]
  },
  {
   "cell_type": "markdown",
   "id": "bb7bf2f0",
   "metadata": {},
   "source": [
    "Objective functions may not work properly in some machine learning algorithms without feature scaling as the range of values of raw data varies widely. The range of all the features should be normalised or scaled in order for each of them to contribute to the final distance uniformly."
   ]
  },
  {
   "cell_type": "markdown",
   "id": "7167ccf7",
   "metadata": {},
   "source": [
    "### Question 2b"
   ]
  },
  {
   "cell_type": "markdown",
   "id": "daffea9d",
   "metadata": {},
   "source": [
    "We fit_transform the training set but not the test set to scale to have a mean of 0 and a certain standard deviation which will be stored in the StandardScaler() and applied to the testing dataset using transform() function"
   ]
  },
  {
   "cell_type": "code",
   "execution_count": 5,
   "id": "7c4f083a",
   "metadata": {},
   "outputs": [],
   "source": [
    "from sklearn.preprocessing import StandardScaler\n",
    "sc = StandardScaler()\n",
    "X_train = sc.fit_transform(X_train)\n",
    "X_test = sc.transform(X_test)"
   ]
  },
  {
   "cell_type": "markdown",
   "id": "1bbb6228",
   "metadata": {},
   "source": [
    "### Question 3a"
   ]
  },
  {
   "cell_type": "markdown",
   "id": "4071573c",
   "metadata": {},
   "source": [
    "Support Vector Machines (SVMs) represent a versatile set of supervised learning techniques. They find applications in tasks like classification, regression, and identifying outliers. SVMs excel at drawing decision boundaries in data, making them valuable in various data analysis scenarios."
   ]
  },
  {
   "cell_type": "markdown",
   "id": "d71e3666",
   "metadata": {},
   "source": [
    "### Question 3b"
   ]
  },
  {
   "cell_type": "markdown",
   "id": "03596024",
   "metadata": {},
   "source": [
    "In SVMs, kernels are mathematical tools that transform data into a higher-dimensional space to find more complex decision boundaries, making it useful for nonlinear classification problems. Common kernels include linear, polynomial, Gaussian (RBF), and sigmoid. The choice of kernel depends on the data and problem."
   ]
  },
  {
   "cell_type": "markdown",
   "id": "7a166288",
   "metadata": {},
   "source": [
    "### Question 3c"
   ]
  },
  {
   "cell_type": "markdown",
   "id": "43ec9790",
   "metadata": {},
   "source": [
    "#### Support Vector Machine algorithm"
   ]
  },
  {
   "cell_type": "code",
   "execution_count": 6,
   "id": "4e41250c",
   "metadata": {},
   "outputs": [
    {
     "data": {
      "text/html": [
       "<style>#sk-container-id-1 {color: black;}#sk-container-id-1 pre{padding: 0;}#sk-container-id-1 div.sk-toggleable {background-color: white;}#sk-container-id-1 label.sk-toggleable__label {cursor: pointer;display: block;width: 100%;margin-bottom: 0;padding: 0.3em;box-sizing: border-box;text-align: center;}#sk-container-id-1 label.sk-toggleable__label-arrow:before {content: \"▸\";float: left;margin-right: 0.25em;color: #696969;}#sk-container-id-1 label.sk-toggleable__label-arrow:hover:before {color: black;}#sk-container-id-1 div.sk-estimator:hover label.sk-toggleable__label-arrow:before {color: black;}#sk-container-id-1 div.sk-toggleable__content {max-height: 0;max-width: 0;overflow: hidden;text-align: left;background-color: #f0f8ff;}#sk-container-id-1 div.sk-toggleable__content pre {margin: 0.2em;color: black;border-radius: 0.25em;background-color: #f0f8ff;}#sk-container-id-1 input.sk-toggleable__control:checked~div.sk-toggleable__content {max-height: 200px;max-width: 100%;overflow: auto;}#sk-container-id-1 input.sk-toggleable__control:checked~label.sk-toggleable__label-arrow:before {content: \"▾\";}#sk-container-id-1 div.sk-estimator input.sk-toggleable__control:checked~label.sk-toggleable__label {background-color: #d4ebff;}#sk-container-id-1 div.sk-label input.sk-toggleable__control:checked~label.sk-toggleable__label {background-color: #d4ebff;}#sk-container-id-1 input.sk-hidden--visually {border: 0;clip: rect(1px 1px 1px 1px);clip: rect(1px, 1px, 1px, 1px);height: 1px;margin: -1px;overflow: hidden;padding: 0;position: absolute;width: 1px;}#sk-container-id-1 div.sk-estimator {font-family: monospace;background-color: #f0f8ff;border: 1px dotted black;border-radius: 0.25em;box-sizing: border-box;margin-bottom: 0.5em;}#sk-container-id-1 div.sk-estimator:hover {background-color: #d4ebff;}#sk-container-id-1 div.sk-parallel-item::after {content: \"\";width: 100%;border-bottom: 1px solid gray;flex-grow: 1;}#sk-container-id-1 div.sk-label:hover label.sk-toggleable__label {background-color: #d4ebff;}#sk-container-id-1 div.sk-serial::before {content: \"\";position: absolute;border-left: 1px solid gray;box-sizing: border-box;top: 0;bottom: 0;left: 50%;z-index: 0;}#sk-container-id-1 div.sk-serial {display: flex;flex-direction: column;align-items: center;background-color: white;padding-right: 0.2em;padding-left: 0.2em;position: relative;}#sk-container-id-1 div.sk-item {position: relative;z-index: 1;}#sk-container-id-1 div.sk-parallel {display: flex;align-items: stretch;justify-content: center;background-color: white;position: relative;}#sk-container-id-1 div.sk-item::before, #sk-container-id-1 div.sk-parallel-item::before {content: \"\";position: absolute;border-left: 1px solid gray;box-sizing: border-box;top: 0;bottom: 0;left: 50%;z-index: -1;}#sk-container-id-1 div.sk-parallel-item {display: flex;flex-direction: column;z-index: 1;position: relative;background-color: white;}#sk-container-id-1 div.sk-parallel-item:first-child::after {align-self: flex-end;width: 50%;}#sk-container-id-1 div.sk-parallel-item:last-child::after {align-self: flex-start;width: 50%;}#sk-container-id-1 div.sk-parallel-item:only-child::after {width: 0;}#sk-container-id-1 div.sk-dashed-wrapped {border: 1px dashed gray;margin: 0 0.4em 0.5em 0.4em;box-sizing: border-box;padding-bottom: 0.4em;background-color: white;}#sk-container-id-1 div.sk-label label {font-family: monospace;font-weight: bold;display: inline-block;line-height: 1.2em;}#sk-container-id-1 div.sk-label-container {text-align: center;}#sk-container-id-1 div.sk-container {/* jupyter's `normalize.less` sets `[hidden] { display: none; }` but bootstrap.min.css set `[hidden] { display: none !important; }` so we also need the `!important` here to be able to override the default hidden behavior on the sphinx rendered scikit-learn.org. See: https://github.com/scikit-learn/scikit-learn/issues/21755 */display: inline-block !important;position: relative;}#sk-container-id-1 div.sk-text-repr-fallback {display: none;}</style><div id=\"sk-container-id-1\" class=\"sk-top-container\"><div class=\"sk-text-repr-fallback\"><pre>SVC()</pre><b>In a Jupyter environment, please rerun this cell to show the HTML representation or trust the notebook. <br />On GitHub, the HTML representation is unable to render, please try loading this page with nbviewer.org.</b></div><div class=\"sk-container\" hidden><div class=\"sk-item\"><div class=\"sk-estimator sk-toggleable\"><input class=\"sk-toggleable__control sk-hidden--visually\" id=\"sk-estimator-id-1\" type=\"checkbox\" checked><label for=\"sk-estimator-id-1\" class=\"sk-toggleable__label sk-toggleable__label-arrow\">SVC</label><div class=\"sk-toggleable__content\"><pre>SVC()</pre></div></div></div></div></div>"
      ],
      "text/plain": [
       "SVC()"
      ]
     },
     "execution_count": 6,
     "metadata": {},
     "output_type": "execute_result"
    }
   ],
   "source": [
    "from sklearn import svm\n",
    "y_train = np.ravel(y_train)\n",
    "clf = svm.SVC()\n",
    "clf.fit(X_train, y_train)"
   ]
  },
  {
   "cell_type": "markdown",
   "id": "63c5791c",
   "metadata": {},
   "source": [
    "### Question 4"
   ]
  },
  {
   "cell_type": "markdown",
   "id": "17601f20",
   "metadata": {},
   "source": [
    "#### Decision Tree Classification "
   ]
  },
  {
   "cell_type": "code",
   "execution_count": 7,
   "id": "2e9d4ed0",
   "metadata": {
    "scrolled": true
   },
   "outputs": [
    {
     "data": {
      "text/html": [
       "<style>#sk-container-id-2 {color: black;}#sk-container-id-2 pre{padding: 0;}#sk-container-id-2 div.sk-toggleable {background-color: white;}#sk-container-id-2 label.sk-toggleable__label {cursor: pointer;display: block;width: 100%;margin-bottom: 0;padding: 0.3em;box-sizing: border-box;text-align: center;}#sk-container-id-2 label.sk-toggleable__label-arrow:before {content: \"▸\";float: left;margin-right: 0.25em;color: #696969;}#sk-container-id-2 label.sk-toggleable__label-arrow:hover:before {color: black;}#sk-container-id-2 div.sk-estimator:hover label.sk-toggleable__label-arrow:before {color: black;}#sk-container-id-2 div.sk-toggleable__content {max-height: 0;max-width: 0;overflow: hidden;text-align: left;background-color: #f0f8ff;}#sk-container-id-2 div.sk-toggleable__content pre {margin: 0.2em;color: black;border-radius: 0.25em;background-color: #f0f8ff;}#sk-container-id-2 input.sk-toggleable__control:checked~div.sk-toggleable__content {max-height: 200px;max-width: 100%;overflow: auto;}#sk-container-id-2 input.sk-toggleable__control:checked~label.sk-toggleable__label-arrow:before {content: \"▾\";}#sk-container-id-2 div.sk-estimator input.sk-toggleable__control:checked~label.sk-toggleable__label {background-color: #d4ebff;}#sk-container-id-2 div.sk-label input.sk-toggleable__control:checked~label.sk-toggleable__label {background-color: #d4ebff;}#sk-container-id-2 input.sk-hidden--visually {border: 0;clip: rect(1px 1px 1px 1px);clip: rect(1px, 1px, 1px, 1px);height: 1px;margin: -1px;overflow: hidden;padding: 0;position: absolute;width: 1px;}#sk-container-id-2 div.sk-estimator {font-family: monospace;background-color: #f0f8ff;border: 1px dotted black;border-radius: 0.25em;box-sizing: border-box;margin-bottom: 0.5em;}#sk-container-id-2 div.sk-estimator:hover {background-color: #d4ebff;}#sk-container-id-2 div.sk-parallel-item::after {content: \"\";width: 100%;border-bottom: 1px solid gray;flex-grow: 1;}#sk-container-id-2 div.sk-label:hover label.sk-toggleable__label {background-color: #d4ebff;}#sk-container-id-2 div.sk-serial::before {content: \"\";position: absolute;border-left: 1px solid gray;box-sizing: border-box;top: 0;bottom: 0;left: 50%;z-index: 0;}#sk-container-id-2 div.sk-serial {display: flex;flex-direction: column;align-items: center;background-color: white;padding-right: 0.2em;padding-left: 0.2em;position: relative;}#sk-container-id-2 div.sk-item {position: relative;z-index: 1;}#sk-container-id-2 div.sk-parallel {display: flex;align-items: stretch;justify-content: center;background-color: white;position: relative;}#sk-container-id-2 div.sk-item::before, #sk-container-id-2 div.sk-parallel-item::before {content: \"\";position: absolute;border-left: 1px solid gray;box-sizing: border-box;top: 0;bottom: 0;left: 50%;z-index: -1;}#sk-container-id-2 div.sk-parallel-item {display: flex;flex-direction: column;z-index: 1;position: relative;background-color: white;}#sk-container-id-2 div.sk-parallel-item:first-child::after {align-self: flex-end;width: 50%;}#sk-container-id-2 div.sk-parallel-item:last-child::after {align-self: flex-start;width: 50%;}#sk-container-id-2 div.sk-parallel-item:only-child::after {width: 0;}#sk-container-id-2 div.sk-dashed-wrapped {border: 1px dashed gray;margin: 0 0.4em 0.5em 0.4em;box-sizing: border-box;padding-bottom: 0.4em;background-color: white;}#sk-container-id-2 div.sk-label label {font-family: monospace;font-weight: bold;display: inline-block;line-height: 1.2em;}#sk-container-id-2 div.sk-label-container {text-align: center;}#sk-container-id-2 div.sk-container {/* jupyter's `normalize.less` sets `[hidden] { display: none; }` but bootstrap.min.css set `[hidden] { display: none !important; }` so we also need the `!important` here to be able to override the default hidden behavior on the sphinx rendered scikit-learn.org. See: https://github.com/scikit-learn/scikit-learn/issues/21755 */display: inline-block !important;position: relative;}#sk-container-id-2 div.sk-text-repr-fallback {display: none;}</style><div id=\"sk-container-id-2\" class=\"sk-top-container\"><div class=\"sk-text-repr-fallback\"><pre>DecisionTreeClassifier(criterion=&#x27;entropy&#x27;, random_state=0)</pre><b>In a Jupyter environment, please rerun this cell to show the HTML representation or trust the notebook. <br />On GitHub, the HTML representation is unable to render, please try loading this page with nbviewer.org.</b></div><div class=\"sk-container\" hidden><div class=\"sk-item\"><div class=\"sk-estimator sk-toggleable\"><input class=\"sk-toggleable__control sk-hidden--visually\" id=\"sk-estimator-id-2\" type=\"checkbox\" checked><label for=\"sk-estimator-id-2\" class=\"sk-toggleable__label sk-toggleable__label-arrow\">DecisionTreeClassifier</label><div class=\"sk-toggleable__content\"><pre>DecisionTreeClassifier(criterion=&#x27;entropy&#x27;, random_state=0)</pre></div></div></div></div></div>"
      ],
      "text/plain": [
       "DecisionTreeClassifier(criterion='entropy', random_state=0)"
      ]
     },
     "execution_count": 7,
     "metadata": {},
     "output_type": "execute_result"
    }
   ],
   "source": [
    "from sklearn.tree import DecisionTreeClassifier\n",
    "classifier = DecisionTreeClassifier(\n",
    "    criterion = 'entropy', random_state = 0\n",
    ")\n",
    "classifier.fit(X_train, y_train)"
   ]
  },
  {
   "cell_type": "markdown",
   "id": "6bca4e70",
   "metadata": {},
   "source": [
    "# A3. Classification (prediction)"
   ]
  },
  {
   "cell_type": "markdown",
   "id": "e8f0c70c",
   "metadata": {},
   "source": [
    "### Question 1"
   ]
  },
  {
   "cell_type": "markdown",
   "id": "03ff0200",
   "metadata": {},
   "source": [
    "#### Support Vector Machine algorithm"
   ]
  },
  {
   "cell_type": "code",
   "execution_count": 8,
   "id": "3908d71d",
   "metadata": {},
   "outputs": [
    {
     "data": {
      "text/plain": [
       "array([4, 3, 3, 3, 3, 4, 4, 4, 2, 4, 4, 3, 4, 3, 3, 4, 3, 4, 4, 4, 3, 4,\n",
       "       3, 3, 3, 4, 4, 4, 3, 3, 4, 3, 3, 4, 4, 3, 4, 4, 3, 3, 4, 2, 3, 3,\n",
       "       3, 3, 3, 3, 2, 3, 4, 3, 4, 4, 4, 4, 4, 3, 3, 4, 3, 4, 3, 3, 4, 4,\n",
       "       4, 4, 3, 4, 3, 3, 4, 5, 4, 3, 3, 4, 4, 3, 4, 3, 4, 3, 3, 4, 4, 3,\n",
       "       4, 4, 3, 4, 4, 3, 4, 4, 3, 3, 3, 2, 4, 4, 3, 4, 4, 2, 4, 4, 3, 4,\n",
       "       2, 3, 3, 4, 3, 4, 3, 4, 3, 3, 3, 3, 4, 4, 4, 3, 3, 4, 4, 4, 4, 4,\n",
       "       4, 3, 4, 3, 3, 4, 4, 3, 4, 4, 4, 3, 3, 3, 3, 3, 4, 4, 4, 3, 4, 4,\n",
       "       4, 3, 3, 3, 4, 3, 4, 4, 3, 3, 4, 4, 4, 4, 3, 3, 3, 3, 3, 2, 4, 3,\n",
       "       4, 4, 4, 2, 3, 4, 4, 3, 3, 4, 3, 3, 3, 3, 3, 4, 3, 3, 2, 3, 4, 4,\n",
       "       3, 4, 3, 4, 4, 3, 3, 4, 3, 3, 3, 3, 4, 4, 3, 3, 3, 3, 4, 4, 3, 3,\n",
       "       4, 4, 4, 4, 4, 3, 3, 4, 3, 3, 3, 3, 4, 3, 3, 4, 4, 4, 4, 4, 4, 4,\n",
       "       3, 3, 3, 4, 4, 3, 4, 4, 3, 4, 3, 4, 4, 4, 3, 2, 2, 3, 3, 3, 4, 3,\n",
       "       3, 3, 4, 4, 4, 3, 3, 4, 3, 4, 4, 3, 3, 3, 4, 3, 4, 4, 2, 3, 4, 3,\n",
       "       3, 3, 4, 4, 4, 4, 3, 4, 3, 3, 4, 4, 4, 3, 3, 3, 3, 4, 4, 4, 3, 4,\n",
       "       4, 4, 3, 4, 4, 4, 4, 3, 3, 3, 4, 3, 4, 4, 4, 3, 3, 4, 4, 4, 4, 3,\n",
       "       4, 4, 4])"
      ]
     },
     "execution_count": 8,
     "metadata": {},
     "output_type": "execute_result"
    }
   ],
   "source": [
    "y_pred1 = clf.predict(X_test)\n",
    "y_pred1"
   ]
  },
  {
   "cell_type": "markdown",
   "id": "0c481057",
   "metadata": {},
   "source": [
    "#### Decision Tree Classification "
   ]
  },
  {
   "cell_type": "code",
   "execution_count": 9,
   "id": "834eee02",
   "metadata": {
    "scrolled": true
   },
   "outputs": [
    {
     "data": {
      "text/plain": [
       "array([4, 3, 2, 3, 4, 4, 4, 4, 3, 4, 4, 2, 4, 3, 3, 4, 3, 4, 4, 4, 3, 3,\n",
       "       3, 3, 3, 4, 4, 4, 3, 3, 3, 3, 3, 4, 4, 2, 4, 4, 3, 3, 4, 2, 3, 3,\n",
       "       3, 3, 3, 3, 2, 3, 4, 4, 4, 3, 4, 4, 3, 3, 3, 4, 3, 4, 3, 3, 5, 4,\n",
       "       3, 4, 4, 4, 4, 4, 4, 5, 4, 3, 3, 4, 4, 3, 4, 3, 4, 3, 4, 4, 4, 3,\n",
       "       4, 3, 3, 4, 4, 3, 4, 4, 3, 3, 3, 2, 4, 3, 3, 5, 4, 1, 4, 5, 4, 4,\n",
       "       3, 3, 3, 4, 2, 4, 3, 4, 3, 4, 3, 3, 4, 4, 3, 2, 3, 3, 4, 3, 4, 4,\n",
       "       4, 4, 4, 3, 3, 4, 4, 2, 4, 4, 4, 3, 3, 3, 3, 3, 4, 4, 4, 2, 4, 4,\n",
       "       4, 3, 2, 3, 4, 3, 3, 4, 3, 3, 4, 4, 3, 4, 4, 3, 3, 3, 3, 2, 4, 3,\n",
       "       4, 3, 4, 2, 3, 4, 3, 3, 3, 4, 3, 3, 3, 3, 3, 4, 4, 3, 2, 3, 4, 4,\n",
       "       3, 4, 4, 3, 3, 3, 3, 4, 4, 3, 2, 3, 3, 4, 4, 3, 3, 4, 3, 5, 3, 3,\n",
       "       3, 4, 4, 4, 4, 3, 3, 4, 3, 3, 4, 2, 4, 3, 3, 4, 4, 4, 4, 3, 3, 3,\n",
       "       3, 3, 2, 3, 4, 4, 4, 4, 3, 4, 3, 3, 4, 4, 3, 2, 2, 3, 3, 3, 4, 3,\n",
       "       3, 3, 4, 3, 5, 3, 3, 4, 3, 4, 4, 3, 3, 4, 4, 4, 4, 4, 2, 3, 4, 3,\n",
       "       2, 3, 4, 4, 3, 4, 2, 5, 3, 3, 4, 4, 4, 3, 3, 2, 4, 3, 4, 3, 4, 4,\n",
       "       5, 4, 3, 4, 3, 4, 4, 3, 3, 4, 3, 3, 4, 4, 5, 3, 3, 3, 5, 4, 4, 3,\n",
       "       3, 4, 5])"
      ]
     },
     "execution_count": 9,
     "metadata": {},
     "output_type": "execute_result"
    }
   ],
   "source": [
    "y_pred2 = classifier.predict(X_test)\n",
    "y_pred2"
   ]
  },
  {
   "cell_type": "markdown",
   "id": "c98c3bf7",
   "metadata": {},
   "source": [
    "### Question 2"
   ]
  },
  {
   "cell_type": "markdown",
   "id": "b309b740",
   "metadata": {},
   "source": [
    "#### Support Vector Machine algorithm"
   ]
  },
  {
   "cell_type": "code",
   "execution_count": 10,
   "id": "1c35274a",
   "metadata": {},
   "outputs": [
    {
     "data": {
      "text/plain": [
       "array([[  0,   2,   0,   0,   0,   0],\n",
       "       [  0,   8,  14,   1,   0,   0],\n",
       "       [  0,   2, 102,  43,   0,   0],\n",
       "       [  0,   0,  37, 106,   1,   0],\n",
       "       [  0,   0,   1,  15,   0,   0],\n",
       "       [  0,   0,   0,   1,   0,   0]])"
      ]
     },
     "execution_count": 10,
     "metadata": {},
     "output_type": "execute_result"
    }
   ],
   "source": [
    "from sklearn.metrics import confusion_matrix\n",
    "cm = confusion_matrix(y_test, y_pred1)\n",
    "cm"
   ]
  },
  {
   "cell_type": "code",
   "execution_count": 11,
   "id": "5fe1a94b",
   "metadata": {},
   "outputs": [
    {
     "data": {
      "text/plain": [
       "<sklearn.metrics._plot.confusion_matrix.ConfusionMatrixDisplay at 0x137da8940>"
      ]
     },
     "execution_count": 11,
     "metadata": {},
     "output_type": "execute_result"
    },
    {
     "data": {
      "image/png": "[encoded data removed]",
      "text/plain": [
       "<Figure size 640x480 with 2 Axes>"
      ]
     },
     "metadata": {},
     "output_type": "display_data"
    }
   ],
   "source": [
    "from sklearn.metrics import ConfusionMatrixDisplay\n",
    "disp = ConfusionMatrixDisplay(confusion_matrix=cm, display_labels = [0,1,2,3,4,5])\n",
    "disp.plot()"
   ]
  },
  {
   "cell_type": "markdown",
   "id": "3d6109e6",
   "metadata": {},
   "source": [
    "#### Decision Tree Classification "
   ]
  },
  {
   "cell_type": "code",
   "execution_count": 12,
   "id": "c8f833ad",
   "metadata": {},
   "outputs": [
    {
     "data": {
      "text/plain": [
       "array([[ 0,  2,  0,  0,  0,  0],\n",
       "       [ 0,  7, 14,  2,  0,  0],\n",
       "       [ 1, 11, 90, 42,  3,  0],\n",
       "       [ 0,  3, 46, 89,  6,  0],\n",
       "       [ 0,  0,  2, 12,  2,  0],\n",
       "       [ 0,  0,  0,  1,  0,  0]])"
      ]
     },
     "execution_count": 12,
     "metadata": {},
     "output_type": "execute_result"
    }
   ],
   "source": [
    "cm = confusion_matrix(y_test, y_pred2)\n",
    "cm"
   ]
  },
  {
   "cell_type": "code",
   "execution_count": 13,
   "id": "82bcaf4f",
   "metadata": {
    "scrolled": true
   },
   "outputs": [
    {
     "data": {
      "text/plain": [
       "<sklearn.metrics._plot.confusion_matrix.ConfusionMatrixDisplay at 0x1460790c0>"
      ]
     },
     "execution_count": 13,
     "metadata": {},
     "output_type": "execute_result"
    },
    {
     "data": {
      "image/png": "[encoded data removed]",
      "text/plain": [
       "<Figure size 640x480 with 2 Axes>"
      ]
     },
     "metadata": {},
     "output_type": "display_data"
    }
   ],
   "source": [
    "from sklearn.metrics import ConfusionMatrixDisplay\n",
    "disp = ConfusionMatrixDisplay(confusion_matrix=cm, display_labels = [0,1,2,3,4,5])\n",
    "disp.plot()"
   ]
  },
  {
   "cell_type": "markdown",
   "id": "aface7bb",
   "metadata": {},
   "source": [
    "### Question 3"
   ]
  },
  {
   "cell_type": "markdown",
   "id": "68afc000",
   "metadata": {},
   "source": [
    "#### Support Vector Machine algorithm"
   ]
  },
  {
   "cell_type": "markdown",
   "id": "c06f093a",
   "metadata": {},
   "source": [
    "Micro F1-Score\n",
    "\n",
    "Net TP = 8+102+106 = 216\n",
    "\n",
    "Net FP = 2 + (14+1) + (2+43) + (37+1) + (1+15) + 1 = 117\n",
    "Net FN = FP\n",
    "\n",
    "Micro Precision = Net TP/(Net TP + Net FP) = 216/(216+117) = 64.86%\n",
    "\n",
    "Macro F1-Score\n",
    "Precision = TP/ (TP + FP)\n",
    "- For class 0: Precision = 0 / (0+2) = 0% \n",
    "- For class 1: Precision = 8 / (8+14+1) = 34.78% \n",
    "- For class 2: Precision = 102 / (102+2+43) = 69.39% \n",
    "- For class 3: Precision = 106 / (37+106+1) = 73.61% \n",
    "- For class 4: Precision = 0/ (1+15) = 0% \n",
    "- For class 5: Precision = 0/ (0+1) = 0% \n",
    "\n",
    "Macro Precision: (0 + 34.78 + 69.39 + 73.61 + 0 + 0) / 6 = 29.63% (approximately)\n"
   ]
  },
  {
   "cell_type": "markdown",
   "id": "92601a8b",
   "metadata": {},
   "source": [
    "#### Decision Tree Classification "
   ]
  },
  {
   "cell_type": "markdown",
   "id": "7bc1d57f",
   "metadata": {},
   "source": [
    "Micro F1-Score\n",
    "\n",
    "Net TP = 7+90+89+2 = 188\n",
    "\n",
    "Net FP = 2 + (14+2) + (1+11+42+3) + (3+46+6) + (2+12) + 1 = 145\n",
    "\n",
    "Net FN = FP\n",
    "\n",
    "Micro precision = Net TP/(Net TP + Net FP) = 188/(188+145) = 56.46%\n",
    "\n",
    "Macro F1-Score\n",
    "Precision = TP/ (TP + FP)\n",
    "- For class 0: Precision = 0 / (0+2) = 0% \n",
    "- For class 1: Precision = 7 / (7+14+2) = 30.43% \n",
    "- For class 2: Precision = 90 / (90+1+11+42+3) = 61.22% \n",
    "- For class 3: Precision = 89 / (89+3+46+6) = 61.81% \n",
    "- For class 4: Precision = 2/ (2+12+2) = 12.5% \n",
    "- For class 5: Precision = 0/ (0+1) = 0% \n",
    "\n",
    "Macro Precision: (0 + 30.43 + 61.22 + 61.81 + 12.5 + 0) / 6 = 27.66% (approximately)\n"
   ]
  },
  {
   "cell_type": "markdown",
   "id": "0714dd94",
   "metadata": {},
   "source": [
    "Based on my above calculation of both micro and macro precision, i have concluded that the precision of the Support Vector machine is better in both scenarios and thus it performed better overall. This is also due to thehigher TP to FP ratio as we can see from the above calculation.\n"
   ]
  },
  {
   "cell_type": "code",
   "execution_count": 14,
   "id": "ae957dd9",
   "metadata": {},
   "outputs": [
    {
     "data": {
      "text/html": [
       "<div>\n",
       "<style scoped>\n",
       "    .dataframe tbody tr th:only-of-type {\n",
       "        vertical-align: middle;\n",
       "    }\n",
       "\n",
       "    .dataframe tbody tr th {\n",
       "        vertical-align: top;\n",
       "    }\n",
       "\n",
       "    .dataframe thead th {\n",
       "        text-align: right;\n",
       "    }\n",
       "</style>\n",
       "<table border=\"1\" class=\"dataframe\">\n",
       "  <thead>\n",
       "    <tr style=\"text-align: right;\">\n",
       "      <th></th>\n",
       "      <th>essayid</th>\n",
       "      <th>chars</th>\n",
       "      <th>words</th>\n",
       "      <th>commas</th>\n",
       "      <th>apostrophes</th>\n",
       "      <th>punctuations</th>\n",
       "      <th>avg_word_length</th>\n",
       "      <th>sentences</th>\n",
       "      <th>questions</th>\n",
       "      <th>avg_word_sentence</th>\n",
       "      <th>POS</th>\n",
       "      <th>POS/total_words</th>\n",
       "      <th>prompt_words</th>\n",
       "      <th>prompt_words/total_words</th>\n",
       "      <th>synonym_words</th>\n",
       "      <th>synonym_words/total_words</th>\n",
       "      <th>unstemmed</th>\n",
       "      <th>stemmed</th>\n",
       "    </tr>\n",
       "  </thead>\n",
       "  <tbody>\n",
       "    <tr>\n",
       "      <th>0</th>\n",
       "      <td>1623</td>\n",
       "      <td>4332</td>\n",
       "      <td>900</td>\n",
       "      <td>28</td>\n",
       "      <td>13</td>\n",
       "      <td>0</td>\n",
       "      <td>4.813333</td>\n",
       "      <td>39</td>\n",
       "      <td>1</td>\n",
       "      <td>23.076923</td>\n",
       "      <td>893.988852</td>\n",
       "      <td>0.993321</td>\n",
       "      <td>392</td>\n",
       "      <td>0.435556</td>\n",
       "      <td>196</td>\n",
       "      <td>0.217778</td>\n",
       "      <td>750</td>\n",
       "      <td>750</td>\n",
       "    </tr>\n",
       "    <tr>\n",
       "      <th>1</th>\n",
       "      <td>1143</td>\n",
       "      <td>1465</td>\n",
       "      <td>280</td>\n",
       "      <td>11</td>\n",
       "      <td>3</td>\n",
       "      <td>1</td>\n",
       "      <td>5.232143</td>\n",
       "      <td>14</td>\n",
       "      <td>3</td>\n",
       "      <td>20.000000</td>\n",
       "      <td>278.321343</td>\n",
       "      <td>0.994005</td>\n",
       "      <td>131</td>\n",
       "      <td>0.467857</td>\n",
       "      <td>51</td>\n",
       "      <td>0.182143</td>\n",
       "      <td>339</td>\n",
       "      <td>316</td>\n",
       "    </tr>\n",
       "    <tr>\n",
       "      <th>2</th>\n",
       "      <td>660</td>\n",
       "      <td>1696</td>\n",
       "      <td>325</td>\n",
       "      <td>17</td>\n",
       "      <td>2</td>\n",
       "      <td>0</td>\n",
       "      <td>5.218462</td>\n",
       "      <td>19</td>\n",
       "      <td>1</td>\n",
       "      <td>17.105263</td>\n",
       "      <td>321.316770</td>\n",
       "      <td>0.988667</td>\n",
       "      <td>178</td>\n",
       "      <td>0.547692</td>\n",
       "      <td>92</td>\n",
       "      <td>0.283077</td>\n",
       "      <td>352</td>\n",
       "      <td>337</td>\n",
       "    </tr>\n",
       "    <tr>\n",
       "      <th>3</th>\n",
       "      <td>1596</td>\n",
       "      <td>2640</td>\n",
       "      <td>555</td>\n",
       "      <td>20</td>\n",
       "      <td>17</td>\n",
       "      <td>0</td>\n",
       "      <td>4.756757</td>\n",
       "      <td>28</td>\n",
       "      <td>0</td>\n",
       "      <td>19.821429</td>\n",
       "      <td>551.989150</td>\n",
       "      <td>0.994575</td>\n",
       "      <td>228</td>\n",
       "      <td>0.410811</td>\n",
       "      <td>107</td>\n",
       "      <td>0.192793</td>\n",
       "      <td>632</td>\n",
       "      <td>605</td>\n",
       "    </tr>\n",
       "    <tr>\n",
       "      <th>4</th>\n",
       "      <td>846</td>\n",
       "      <td>2844</td>\n",
       "      <td>596</td>\n",
       "      <td>33</td>\n",
       "      <td>4</td>\n",
       "      <td>1</td>\n",
       "      <td>4.771812</td>\n",
       "      <td>24</td>\n",
       "      <td>9</td>\n",
       "      <td>24.833333</td>\n",
       "      <td>593.658810</td>\n",
       "      <td>0.996072</td>\n",
       "      <td>279</td>\n",
       "      <td>0.468121</td>\n",
       "      <td>138</td>\n",
       "      <td>0.231544</td>\n",
       "      <td>626</td>\n",
       "      <td>607</td>\n",
       "    </tr>\n",
       "    <tr>\n",
       "      <th>...</th>\n",
       "      <td>...</td>\n",
       "      <td>...</td>\n",
       "      <td>...</td>\n",
       "      <td>...</td>\n",
       "      <td>...</td>\n",
       "      <td>...</td>\n",
       "      <td>...</td>\n",
       "      <td>...</td>\n",
       "      <td>...</td>\n",
       "      <td>...</td>\n",
       "      <td>...</td>\n",
       "      <td>...</td>\n",
       "      <td>...</td>\n",
       "      <td>...</td>\n",
       "      <td>...</td>\n",
       "      <td>...</td>\n",
       "      <td>...</td>\n",
       "      <td>...</td>\n",
       "    </tr>\n",
       "    <tr>\n",
       "      <th>194</th>\n",
       "      <td>1226</td>\n",
       "      <td>1208</td>\n",
       "      <td>242</td>\n",
       "      <td>8</td>\n",
       "      <td>8</td>\n",
       "      <td>0</td>\n",
       "      <td>4.991736</td>\n",
       "      <td>13</td>\n",
       "      <td>0</td>\n",
       "      <td>18.615385</td>\n",
       "      <td>237.327684</td>\n",
       "      <td>0.980693</td>\n",
       "      <td>135</td>\n",
       "      <td>0.557851</td>\n",
       "      <td>58</td>\n",
       "      <td>0.239669</td>\n",
       "      <td>244</td>\n",
       "      <td>242</td>\n",
       "    </tr>\n",
       "    <tr>\n",
       "      <th>195</th>\n",
       "      <td>862</td>\n",
       "      <td>4039</td>\n",
       "      <td>817</td>\n",
       "      <td>24</td>\n",
       "      <td>11</td>\n",
       "      <td>1</td>\n",
       "      <td>4.943696</td>\n",
       "      <td>47</td>\n",
       "      <td>2</td>\n",
       "      <td>17.382979</td>\n",
       "      <td>812.656033</td>\n",
       "      <td>0.994683</td>\n",
       "      <td>386</td>\n",
       "      <td>0.472460</td>\n",
       "      <td>210</td>\n",
       "      <td>0.257038</td>\n",
       "      <td>750</td>\n",
       "      <td>750</td>\n",
       "    </tr>\n",
       "    <tr>\n",
       "      <th>196</th>\n",
       "      <td>1562</td>\n",
       "      <td>2448</td>\n",
       "      <td>468</td>\n",
       "      <td>22</td>\n",
       "      <td>7</td>\n",
       "      <td>0</td>\n",
       "      <td>5.230769</td>\n",
       "      <td>22</td>\n",
       "      <td>0</td>\n",
       "      <td>21.272727</td>\n",
       "      <td>465.656652</td>\n",
       "      <td>0.994993</td>\n",
       "      <td>224</td>\n",
       "      <td>0.478632</td>\n",
       "      <td>101</td>\n",
       "      <td>0.215812</td>\n",
       "      <td>540</td>\n",
       "      <td>526</td>\n",
       "    </tr>\n",
       "    <tr>\n",
       "      <th>197</th>\n",
       "      <td>1336</td>\n",
       "      <td>1081</td>\n",
       "      <td>214</td>\n",
       "      <td>14</td>\n",
       "      <td>5</td>\n",
       "      <td>0</td>\n",
       "      <td>5.051402</td>\n",
       "      <td>11</td>\n",
       "      <td>0</td>\n",
       "      <td>19.454545</td>\n",
       "      <td>212.990566</td>\n",
       "      <td>0.995283</td>\n",
       "      <td>114</td>\n",
       "      <td>0.532710</td>\n",
       "      <td>63</td>\n",
       "      <td>0.294393</td>\n",
       "      <td>259</td>\n",
       "      <td>256</td>\n",
       "    </tr>\n",
       "    <tr>\n",
       "      <th>198</th>\n",
       "      <td>1171</td>\n",
       "      <td>2094</td>\n",
       "      <td>433</td>\n",
       "      <td>11</td>\n",
       "      <td>12</td>\n",
       "      <td>0</td>\n",
       "      <td>4.836028</td>\n",
       "      <td>19</td>\n",
       "      <td>0</td>\n",
       "      <td>22.789474</td>\n",
       "      <td>426.651090</td>\n",
       "      <td>0.985337</td>\n",
       "      <td>221</td>\n",
       "      <td>0.510393</td>\n",
       "      <td>121</td>\n",
       "      <td>0.279446</td>\n",
       "      <td>501</td>\n",
       "      <td>478</td>\n",
       "    </tr>\n",
       "  </tbody>\n",
       "</table>\n",
       "<p>199 rows × 18 columns</p>\n",
       "</div>"
      ],
      "text/plain": [
       "     essayid  chars  words  commas  apostrophes  punctuations  \\\n",
       "0       1623   4332    900      28           13             0   \n",
       "1       1143   1465    280      11            3             1   \n",
       "2        660   1696    325      17            2             0   \n",
       "3       1596   2640    555      20           17             0   \n",
       "4        846   2844    596      33            4             1   \n",
       "..       ...    ...    ...     ...          ...           ...   \n",
       "194     1226   1208    242       8            8             0   \n",
       "195      862   4039    817      24           11             1   \n",
       "196     1562   2448    468      22            7             0   \n",
       "197     1336   1081    214      14            5             0   \n",
       "198     1171   2094    433      11           12             0   \n",
       "\n",
       "     avg_word_length  sentences  questions  avg_word_sentence         POS  \\\n",
       "0           4.813333         39          1          23.076923  893.988852   \n",
       "1           5.232143         14          3          20.000000  278.321343   \n",
       "2           5.218462         19          1          17.105263  321.316770   \n",
       "3           4.756757         28          0          19.821429  551.989150   \n",
       "4           4.771812         24          9          24.833333  593.658810   \n",
       "..               ...        ...        ...                ...         ...   \n",
       "194         4.991736         13          0          18.615385  237.327684   \n",
       "195         4.943696         47          2          17.382979  812.656033   \n",
       "196         5.230769         22          0          21.272727  465.656652   \n",
       "197         5.051402         11          0          19.454545  212.990566   \n",
       "198         4.836028         19          0          22.789474  426.651090   \n",
       "\n",
       "     POS/total_words  prompt_words  prompt_words/total_words  synonym_words  \\\n",
       "0           0.993321           392                  0.435556            196   \n",
       "1           0.994005           131                  0.467857             51   \n",
       "2           0.988667           178                  0.547692             92   \n",
       "3           0.994575           228                  0.410811            107   \n",
       "4           0.996072           279                  0.468121            138   \n",
       "..               ...           ...                       ...            ...   \n",
       "194         0.980693           135                  0.557851             58   \n",
       "195         0.994683           386                  0.472460            210   \n",
       "196         0.994993           224                  0.478632            101   \n",
       "197         0.995283           114                  0.532710             63   \n",
       "198         0.985337           221                  0.510393            121   \n",
       "\n",
       "     synonym_words/total_words  unstemmed  stemmed  \n",
       "0                     0.217778        750      750  \n",
       "1                     0.182143        339      316  \n",
       "2                     0.283077        352      337  \n",
       "3                     0.192793        632      605  \n",
       "4                     0.231544        626      607  \n",
       "..                         ...        ...      ...  \n",
       "194                   0.239669        244      242  \n",
       "195                   0.257038        750      750  \n",
       "196                   0.215812        540      526  \n",
       "197                   0.294393        259      256  \n",
       "198                   0.279446        501      478  \n",
       "\n",
       "[199 rows x 18 columns]"
      ]
     },
     "execution_count": 14,
     "metadata": {},
     "output_type": "execute_result"
    }
   ],
   "source": [
    "dataset = pd.read_csv('FIT1043-Essay-Features-Submission.csv')\n",
    "dataset\n"
   ]
  },
  {
   "cell_type": "code",
   "execution_count": 15,
   "id": "86caa688",
   "metadata": {},
   "outputs": [],
   "source": [
    "from sklearn.preprocessing import StandardScaler\n",
    "sc = StandardScaler()\n",
    "X_test = sc.fit_transform(dataset)"
   ]
  },
  {
   "cell_type": "code",
   "execution_count": 16,
   "id": "e7c68c27",
   "metadata": {},
   "outputs": [
    {
     "data": {
      "text/plain": [
       "array([4, 3, 3, 4, 4, 3, 3, 3, 3, 3, 3, 4, 4, 3, 4, 3, 4, 4, 3, 3, 3, 3,\n",
       "       4, 4, 4, 4, 4, 4, 4, 3, 3, 4, 3, 3, 4, 3, 4, 4, 3, 3, 3, 3, 3, 3,\n",
       "       2, 3, 3, 4, 4, 3, 3, 4, 4, 4, 3, 4, 3, 4, 4, 4, 2, 4, 3, 4, 3, 3,\n",
       "       4, 4, 3, 4, 3, 4, 4, 3, 3, 3, 3, 3, 4, 4, 4, 4, 4, 3, 4, 2, 4, 4,\n",
       "       2, 3, 3, 3, 4, 3, 4, 4, 4, 4, 3, 3, 3, 4, 2, 3, 3, 4, 3, 3, 4, 4,\n",
       "       4, 3, 4, 4, 4, 3, 3, 4, 2, 3, 4, 4, 4, 3, 3, 4, 3, 4, 4, 3, 4, 4,\n",
       "       2, 3, 4, 4, 3, 4, 2, 4, 4, 4, 4, 3, 3, 4, 4, 3, 4, 4, 4, 3, 4, 3,\n",
       "       4, 3, 3, 3, 3, 4, 4, 3, 2, 2, 4, 4, 3, 3, 2, 4, 3, 4, 3, 3, 4, 4,\n",
       "       4, 3, 3, 4, 4, 2, 4, 4, 4, 4, 3, 3, 3, 3, 3, 4, 3, 4, 3, 4, 4, 3,\n",
       "       3])"
      ]
     },
     "execution_count": 16,
     "metadata": {},
     "output_type": "execute_result"
    }
   ],
   "source": [
    "y_pred_sub = clf.predict(X_test)\n",
    "y_pred_sub"
   ]
  },
  {
   "cell_type": "markdown",
   "id": "b1e66ec7",
   "metadata": {},
   "source": [
    "# Part B : Selection of Dataset, Clustering and Video Preparation"
   ]
  },
  {
   "cell_type": "markdown",
   "id": "b191974b",
   "metadata": {},
   "source": [
    "## B1. Selection of a Dataset with missing data, Clustering"
   ]
  },
  {
   "cell_type": "markdown",
   "id": "fba487d5",
   "metadata": {},
   "source": [
    "### Question 1"
   ]
  },
  {
   "cell_type": "markdown",
   "id": "0a9f5291",
   "metadata": {},
   "source": [
    "The data set i am going to use from kaggle.com is https://www.kaggle.com/datasets/iamsouravbanerjee/animal-information-dataset\n"
   ]
  },
  {
   "cell_type": "code",
   "execution_count": 57,
   "id": "1e4fb82f",
   "metadata": {
    "scrolled": true
   },
   "outputs": [
    {
     "data": {
      "text/html": [
       "<div>\n",
       "<style scoped>\n",
       "    .dataframe tbody tr th:only-of-type {\n",
       "        vertical-align: middle;\n",
       "    }\n",
       "\n",
       "    .dataframe tbody tr th {\n",
       "        vertical-align: top;\n",
       "    }\n",
       "\n",
       "    .dataframe thead th {\n",
       "        text-align: right;\n",
       "    }\n",
       "</style>\n",
       "<table border=\"1\" class=\"dataframe\">\n",
       "  <thead>\n",
       "    <tr style=\"text-align: right;\">\n",
       "      <th></th>\n",
       "      <th>Animal</th>\n",
       "      <th>Height (cm)</th>\n",
       "      <th>Weight (kg)</th>\n",
       "      <th>Color</th>\n",
       "      <th>Lifespan (years)</th>\n",
       "      <th>Diet</th>\n",
       "      <th>Habitat</th>\n",
       "      <th>Predators</th>\n",
       "      <th>Average Speed (km/h)</th>\n",
       "      <th>Countries Found</th>\n",
       "      <th>Conservation Status</th>\n",
       "      <th>Family</th>\n",
       "      <th>Gestation Period (days)</th>\n",
       "      <th>Top Speed (km/h)</th>\n",
       "      <th>Social Structure</th>\n",
       "      <th>Offspring per Birth</th>\n",
       "    </tr>\n",
       "  </thead>\n",
       "  <tbody>\n",
       "    <tr>\n",
       "      <th>0</th>\n",
       "      <td>Aardvark</td>\n",
       "      <td>105-130</td>\n",
       "      <td>40-65</td>\n",
       "      <td>Grey</td>\n",
       "      <td>20-30</td>\n",
       "      <td>Insectivore</td>\n",
       "      <td>Savannas, Grasslands</td>\n",
       "      <td>Lions, Hyenas</td>\n",
       "      <td>40</td>\n",
       "      <td>Africa</td>\n",
       "      <td>Least Concern</td>\n",
       "      <td>Orycteropodidae</td>\n",
       "      <td>210-240</td>\n",
       "      <td>40</td>\n",
       "      <td>Solitary</td>\n",
       "      <td>1</td>\n",
       "    </tr>\n",
       "    <tr>\n",
       "      <th>1</th>\n",
       "      <td>Aardwolf</td>\n",
       "      <td>40-50</td>\n",
       "      <td>8-14</td>\n",
       "      <td>Yellow-brown</td>\n",
       "      <td>10-12</td>\n",
       "      <td>Insectivore</td>\n",
       "      <td>Grasslands, Savannas</td>\n",
       "      <td>Lions, Leopards</td>\n",
       "      <td>24-30</td>\n",
       "      <td>Eastern and Southern Africa</td>\n",
       "      <td>Least Concern</td>\n",
       "      <td>Hyaenidae</td>\n",
       "      <td>90</td>\n",
       "      <td>40</td>\n",
       "      <td>Solitary</td>\n",
       "      <td>2-5</td>\n",
       "    </tr>\n",
       "    <tr>\n",
       "      <th>2</th>\n",
       "      <td>African Elephant</td>\n",
       "      <td>270-310</td>\n",
       "      <td>2700-6000</td>\n",
       "      <td>Grey</td>\n",
       "      <td>60-70</td>\n",
       "      <td>Herbivore</td>\n",
       "      <td>Savannah, Forest</td>\n",
       "      <td>Lions, Hyenas</td>\n",
       "      <td>25</td>\n",
       "      <td>Africa</td>\n",
       "      <td>Vulnerable</td>\n",
       "      <td>Elephantidae</td>\n",
       "      <td>640-660</td>\n",
       "      <td>40</td>\n",
       "      <td>Herd-based</td>\n",
       "      <td>1</td>\n",
       "    </tr>\n",
       "    <tr>\n",
       "      <th>3</th>\n",
       "      <td>African Lion</td>\n",
       "      <td>80-110</td>\n",
       "      <td>120-250</td>\n",
       "      <td>Tan</td>\n",
       "      <td>10-14</td>\n",
       "      <td>Carnivore</td>\n",
       "      <td>Grasslands, Savannas</td>\n",
       "      <td>Hyenas, Crocodiles</td>\n",
       "      <td>58</td>\n",
       "      <td>Africa</td>\n",
       "      <td>Vulnerable</td>\n",
       "      <td>Felidae</td>\n",
       "      <td>98-105</td>\n",
       "      <td>80</td>\n",
       "      <td>Group-based</td>\n",
       "      <td>2-4 (usually)</td>\n",
       "    </tr>\n",
       "    <tr>\n",
       "      <th>4</th>\n",
       "      <td>African Wild Dog</td>\n",
       "      <td>75-80</td>\n",
       "      <td>18-36</td>\n",
       "      <td>Multicolored</td>\n",
       "      <td>10-12</td>\n",
       "      <td>Carnivore</td>\n",
       "      <td>Savannahs</td>\n",
       "      <td>Lions, Hyenas</td>\n",
       "      <td>56</td>\n",
       "      <td>Sub-Saharan Africa</td>\n",
       "      <td>Endangered</td>\n",
       "      <td>Canidae</td>\n",
       "      <td>70</td>\n",
       "      <td>56</td>\n",
       "      <td>Group-based</td>\n",
       "      <td>10-12</td>\n",
       "    </tr>\n",
       "    <tr>\n",
       "      <th>...</th>\n",
       "      <td>...</td>\n",
       "      <td>...</td>\n",
       "      <td>...</td>\n",
       "      <td>...</td>\n",
       "      <td>...</td>\n",
       "      <td>...</td>\n",
       "      <td>...</td>\n",
       "      <td>...</td>\n",
       "      <td>...</td>\n",
       "      <td>...</td>\n",
       "      <td>...</td>\n",
       "      <td>...</td>\n",
       "      <td>...</td>\n",
       "      <td>...</td>\n",
       "      <td>...</td>\n",
       "      <td>...</td>\n",
       "    </tr>\n",
       "    <tr>\n",
       "      <th>200</th>\n",
       "      <td>Yak</td>\n",
       "      <td>140-160</td>\n",
       "      <td>500-1200</td>\n",
       "      <td>Brown, Black</td>\n",
       "      <td>20-25</td>\n",
       "      <td>Herbivore</td>\n",
       "      <td>Mountains</td>\n",
       "      <td>Snow Leopards, Wolves</td>\n",
       "      <td>24</td>\n",
       "      <td>Himalayas, Central Asia</td>\n",
       "      <td>Least Concern</td>\n",
       "      <td>Bovidae</td>\n",
       "      <td>215-280</td>\n",
       "      <td>24</td>\n",
       "      <td>Group-based</td>\n",
       "      <td>10-50</td>\n",
       "    </tr>\n",
       "    <tr>\n",
       "      <th>201</th>\n",
       "      <td>Yellow-Eyed Penguin</td>\n",
       "      <td>60-65</td>\n",
       "      <td>1-3</td>\n",
       "      <td>Yellow, White</td>\n",
       "      <td>Up to 20</td>\n",
       "      <td>Carnivore</td>\n",
       "      <td>Coastal Areas</td>\n",
       "      <td>Seals, Orcas</td>\n",
       "      <td>25</td>\n",
       "      <td>New Zealand</td>\n",
       "      <td>Endangered</td>\n",
       "      <td>Spheniscidae</td>\n",
       "      <td>80-90</td>\n",
       "      <td>25</td>\n",
       "      <td>Solitary</td>\n",
       "      <td>1</td>\n",
       "    </tr>\n",
       "    <tr>\n",
       "      <th>202</th>\n",
       "      <td>Yeti Crab</td>\n",
       "      <td>Up to 15</td>\n",
       "      <td>Up to 0.5</td>\n",
       "      <td>White, Hairy</td>\n",
       "      <td>Up to 20</td>\n",
       "      <td>Omnivore</td>\n",
       "      <td>Hydrothermal Vents</td>\n",
       "      <td>Not Applicable</td>\n",
       "      <td>Not Applicable</td>\n",
       "      <td>Pacific Ocean</td>\n",
       "      <td>Not Evaluated</td>\n",
       "      <td>Kiwaidae</td>\n",
       "      <td>Not Applicable</td>\n",
       "      <td>Not Applicable</td>\n",
       "      <td>Solitary</td>\n",
       "      <td>Not Applicable</td>\n",
       "    </tr>\n",
       "    <tr>\n",
       "      <th>203</th>\n",
       "      <td>Zebra</td>\n",
       "      <td>220-340</td>\n",
       "      <td>400-900</td>\n",
       "      <td>Black, White</td>\n",
       "      <td>20-25</td>\n",
       "      <td>Herbivore</td>\n",
       "      <td>Grasslands</td>\n",
       "      <td>Lions, Hyenas</td>\n",
       "      <td>25</td>\n",
       "      <td>Africa</td>\n",
       "      <td>Least Concern</td>\n",
       "      <td>Equidae</td>\n",
       "      <td>180-365</td>\n",
       "      <td>25</td>\n",
       "      <td>Group-based</td>\n",
       "      <td>5-20</td>\n",
       "    </tr>\n",
       "    <tr>\n",
       "      <th>204</th>\n",
       "      <td>Zebra Shark</td>\n",
       "      <td>Up to 330</td>\n",
       "      <td>Up to 32</td>\n",
       "      <td>Brown, Yellowish</td>\n",
       "      <td>25-30</td>\n",
       "      <td>Carnivore</td>\n",
       "      <td>Coral Reefs</td>\n",
       "      <td>Larger Fish</td>\n",
       "      <td>20</td>\n",
       "      <td>Indo-Pacific region</td>\n",
       "      <td>Endangered</td>\n",
       "      <td>Stegostomatidae</td>\n",
       "      <td>10-25</td>\n",
       "      <td>20</td>\n",
       "      <td>Solitary</td>\n",
       "      <td>Up to 25</td>\n",
       "    </tr>\n",
       "  </tbody>\n",
       "</table>\n",
       "<p>205 rows × 16 columns</p>\n",
       "</div>"
      ],
      "text/plain": [
       "                  Animal Height (cm) Weight (kg)             Color  \\\n",
       "0               Aardvark     105-130       40-65              Grey   \n",
       "1               Aardwolf       40-50        8-14      Yellow-brown   \n",
       "2       African Elephant     270-310   2700-6000              Grey   \n",
       "3           African Lion      80-110     120-250               Tan   \n",
       "4       African Wild Dog       75-80       18-36      Multicolored   \n",
       "..                   ...         ...         ...               ...   \n",
       "200                  Yak     140-160    500-1200      Brown, Black   \n",
       "201  Yellow-Eyed Penguin       60-65         1-3     Yellow, White   \n",
       "202            Yeti Crab    Up to 15   Up to 0.5      White, Hairy   \n",
       "203                Zebra     220-340     400-900      Black, White   \n",
       "204          Zebra Shark   Up to 330    Up to 32  Brown, Yellowish   \n",
       "\n",
       "    Lifespan (years)         Diet               Habitat  \\\n",
       "0              20-30  Insectivore  Savannas, Grasslands   \n",
       "1              10-12  Insectivore  Grasslands, Savannas   \n",
       "2              60-70    Herbivore      Savannah, Forest   \n",
       "3              10-14    Carnivore  Grasslands, Savannas   \n",
       "4              10-12    Carnivore             Savannahs   \n",
       "..               ...          ...                   ...   \n",
       "200            20-25    Herbivore             Mountains   \n",
       "201         Up to 20    Carnivore         Coastal Areas   \n",
       "202         Up to 20     Omnivore    Hydrothermal Vents   \n",
       "203            20-25    Herbivore            Grasslands   \n",
       "204            25-30    Carnivore           Coral Reefs   \n",
       "\n",
       "                 Predators Average Speed (km/h)              Countries Found  \\\n",
       "0            Lions, Hyenas                   40                       Africa   \n",
       "1          Lions, Leopards                24-30  Eastern and Southern Africa   \n",
       "2            Lions, Hyenas                   25                       Africa   \n",
       "3       Hyenas, Crocodiles                   58                       Africa   \n",
       "4            Lions, Hyenas                   56           Sub-Saharan Africa   \n",
       "..                     ...                  ...                          ...   \n",
       "200  Snow Leopards, Wolves                   24      Himalayas, Central Asia   \n",
       "201           Seals, Orcas                   25                  New Zealand   \n",
       "202         Not Applicable       Not Applicable                Pacific Ocean   \n",
       "203          Lions, Hyenas                   25                       Africa   \n",
       "204            Larger Fish                   20          Indo-Pacific region   \n",
       "\n",
       "    Conservation Status           Family Gestation Period (days)  \\\n",
       "0         Least Concern  Orycteropodidae                 210-240   \n",
       "1         Least Concern        Hyaenidae                      90   \n",
       "2            Vulnerable     Elephantidae                 640-660   \n",
       "3            Vulnerable          Felidae                  98-105   \n",
       "4            Endangered          Canidae                      70   \n",
       "..                  ...              ...                     ...   \n",
       "200       Least Concern          Bovidae                 215-280   \n",
       "201          Endangered     Spheniscidae                   80-90   \n",
       "202       Not Evaluated         Kiwaidae          Not Applicable   \n",
       "203       Least Concern          Equidae                 180-365   \n",
       "204          Endangered  Stegostomatidae                   10-25   \n",
       "\n",
       "    Top Speed (km/h) Social Structure Offspring per Birth  \n",
       "0                 40         Solitary                   1  \n",
       "1                 40         Solitary                 2-5  \n",
       "2                 40       Herd-based                   1  \n",
       "3                 80      Group-based       2-4 (usually)  \n",
       "4                 56      Group-based               10-12  \n",
       "..               ...              ...                 ...  \n",
       "200               24      Group-based               10-50  \n",
       "201               25         Solitary                   1  \n",
       "202   Not Applicable         Solitary      Not Applicable  \n",
       "203               25      Group-based                5-20  \n",
       "204               20         Solitary            Up to 25  \n",
       "\n",
       "[205 rows x 16 columns]"
      ]
     },
     "execution_count": 57,
     "metadata": {},
     "output_type": "execute_result"
    }
   ],
   "source": [
    "df = pd.read_csv('Animal Dataset.csv')\n",
    "df"
   ]
  },
  {
   "cell_type": "markdown",
   "id": "653a8686",
   "metadata": {},
   "source": [
    "### Question 2"
   ]
  },
  {
   "cell_type": "markdown",
   "id": "d90f2c32",
   "metadata": {},
   "source": [
    "From the dataframe above, i am going to wrangle on the dataset to handle the missing data for the average and top speed as we are going to use these two numerical features for k-means clustering"
   ]
  },
  {
   "cell_type": "code",
   "execution_count": 58,
   "id": "62ab1052",
   "metadata": {},
   "outputs": [
    {
     "name": "stdout",
     "output_type": "stream",
     "text": [
      "['40', '24-30', '25', '58', '56', '56-64', '0.1-1', '40-56', '24', '65', '55', '60', '16-32', '40', '30-50', '40-64', '24-40', '0.8', '32', '48', '120', '16', '30', '14-28', '40-64', '40', '65', '56', 'Not Applicable', 'Not Applicable', '32', 'Not Applicable', '40', '25-35', 'Not Applicable', '40-60', '40-64', '37', '64', 'Not Applicable', '48', '1.6-2.4', '30-35', '112', '40', 'Not Applicable', '8', '1.6', '60', 'Not Applicable', '30-45', '40-45', '56', '48-64', '10-15', '40', '16-56', 'Not Applicable', '2-2.5', '32', '4-6', '32', '0.8', '40-50', '45-48', '29', '24-35', '6-7', '0.3-0.5', 'Varies', '30-40', '55', '32', '24', '32', '1-2', '0.8', '1.6-3', 'Not Applicable', '8-13', '0.3', '56', '56', '16-24 (in water)', '1.6-3.2', '35', '64', '0.8', 'Not Applicable', '19-22', '50', '25', '0.8-1.6', '40-80', '24-27', '70-80', '24-27', '40-58', '30', '2.5', '16', '20', '6.4-9.6', '20', '0.8-1', 'Not Applicable', '24-29', '29', '30-40', '0.02-0.03', 'Not Applicable', 'Not Applicable', '8', '30', '56', '30-50', '40-64', '32', 'Varies', '40', '0.03-0.08', '45', 'Not Applicable', '8', '56', '58', '6-12', '32', '30', '72', 'Not Applicable', '0.8', '3-7', '40', '16-24', '0.5-0.7', '24-32', '88.5', '8', '24', '48', '56', '0.2-0.4', 'Not Applicable', '35', '26', '24', '44', '14-16', '45', '50-65', '0.03-0.24', 'Not Applicable', '40-60', '80', '45', '60', '45', '56-64', '30', '1.2', '35', '40', '40-64', '24', '32-56', '48', '40-50', '16', '40-72', 'Varies', '0.16-0.32', '20', '45', '28', '27', '29-42', '30', 'Not Applicable', '0.03', '17', '20', '24-40', 'Not Applicable', 'Varies', '40', '20', '40', '40', '40', '70', '45', '22', '20', '47', '45', '56-70', '20', 'Not Applicable', 'Varies', '24', '25', 'Not Applicable', '25', '20']\n"
     ]
    }
   ],
   "source": [
    "# First we check the average speed of the list\n",
    "print(df['Average Speed (km/h)'].tolist())\n"
   ]
  },
  {
   "cell_type": "markdown",
   "id": "03b5882c",
   "metadata": {},
   "source": [
    "After seeing the above values we can see that some of the average speed are not applicable, varies and one even in water. Thus, I am to clean this data to prepare for the clustering"
   ]
  },
  {
   "cell_type": "code",
   "execution_count": 59,
   "id": "38fc9767",
   "metadata": {},
   "outputs": [],
   "source": [
    "# Removing the 'Not Applicable' and 'Varies' values\n",
    "df = df[df['Average Speed (km/h)'] != 'Not Applicable']\n",
    "df = df[df['Average Speed (km/h)'] != 'Varies']\n",
    "\n",
    "# In this case, I use try and except to handle the (in water)\n",
    "def calculate_average(speed):\n",
    "    try:\n",
    "        if '-' in speed:\n",
    "            values = speed.split('-')\n",
    "            average = (float(values[0]) + float(values[1])) / 2\n",
    "            return average\n",
    "        else:\n",
    "            return float(speed)\n",
    "    except(ValueError):\n",
    "        # When the (in water values) is passed\n",
    "        # only the first two numbers are added back to 24 as it is a string\n",
    "        num2 = (values[1][0]) + (values[1][1])\n",
    "        # Then converted to float and getting the average between these two values\n",
    "        average = (float(values[0]) + float(num2)) /2\n",
    "        return average\n",
    "\n",
    "# Apply the calculate_average function to the 'Average Speed' column\n",
    "df['Average Speed (km/h)'] = df['Average Speed (km/h)'].apply(calculate_average)\n"
   ]
  },
  {
   "cell_type": "code",
   "execution_count": 60,
   "id": "b45701af",
   "metadata": {
    "scrolled": true
   },
   "outputs": [
    {
     "name": "stdout",
     "output_type": "stream",
     "text": [
      "[40.0, 27.0, 25.0, 58.0, 56.0, 60.0, 0.55, 48.0, 24.0, 65.0, 55.0, 60.0, 24.0, 40.0, 40.0, 52.0, 32.0, 0.8, 32.0, 48.0, 120.0, 16.0, 30.0, 21.0, 52.0, 40.0, 65.0, 56.0, 32.0, 40.0, 30.0, 50.0, 52.0, 37.0, 64.0, 48.0, 2.0, 32.5, 112.0, 40.0, 8.0, 1.6, 60.0, 37.5, 42.5, 56.0, 56.0, 12.5, 40.0, 36.0, 2.25, 32.0, 5.0, 32.0, 0.8, 45.0, 46.5, 29.0, 29.5, 6.5, 0.4, 35.0, 55.0, 32.0, 24.0, 32.0, 1.5, 0.8, 2.3, 10.5, 0.3, 56.0, 56.0, 20.0, 2.4000000000000004, 35.0, 64.0, 0.8, 20.5, 50.0, 25.0, 1.2000000000000002, 60.0, 25.5, 75.0, 25.5, 49.0, 30.0, 2.5, 16.0, 20.0, 8.0, 20.0, 0.9, 26.5, 29.0, 35.0, 0.025, 8.0, 30.0, 56.0, 40.0, 52.0, 32.0, 40.0, 0.055, 45.0, 8.0, 56.0, 58.0, 9.0, 32.0, 30.0, 72.0, 0.8, 5.0, 40.0, 20.0, 0.6, 28.0, 88.5, 8.0, 24.0, 48.0, 56.0, 0.30000000000000004, 35.0, 26.0, 24.0, 44.0, 15.0, 45.0, 57.5, 0.135, 50.0, 80.0, 45.0, 60.0, 45.0, 60.0, 30.0, 1.2, 35.0, 40.0, 52.0, 24.0, 44.0, 48.0, 45.0, 16.0, 56.0, 0.24, 20.0, 45.0, 28.0, 27.0, 35.5, 30.0, 0.03, 17.0, 20.0, 32.0, 40.0, 20.0, 40.0, 40.0, 40.0, 70.0, 45.0, 22.0, 20.0, 47.0, 45.0, 63.0, 20.0, 24.0, 25.0, 25.0, 20.0]\n"
     ]
    }
   ],
   "source": [
    "print(df['Average Speed (km/h)'].tolist())\n"
   ]
  },
  {
   "cell_type": "markdown",
   "id": "af204fff",
   "metadata": {},
   "source": [
    "Thus we can see that in the above values after wragling on the data, we have solved the missing data and I am going to do the same for top speed"
   ]
  },
  {
   "cell_type": "code",
   "execution_count": 62,
   "id": "382a9853",
   "metadata": {},
   "outputs": [],
   "source": [
    "df = df[df['Top Speed (km/h)'] != 'Not Applicable']\n",
    "\n",
    "def calculate_average(speed):\n",
    "    if '-' in speed:\n",
    "        values = speed.split('-')\n",
    "        average = (float(values[0]) + float(values[1])) / 2\n",
    "        return average\n",
    "    else:\n",
    "        return float(speed)\n",
    "\n",
    "# Apply the calculate_average function to the 'Average Speed' column\n",
    "df['Top Speed (km/h)'] = df['Top Speed (km/h)'].apply(calculate_average)"
   ]
  },
  {
   "cell_type": "code",
   "execution_count": 63,
   "id": "fcf5ab28",
   "metadata": {},
   "outputs": [
    {
     "name": "stdout",
     "output_type": "stream",
     "text": [
      "[40.0, 40.0, 40.0, 80.0, 56.0, 60.0, 0.8, 56.0, 24.0, 65.0, 55.0, 60.0, 32.0, 40.0, 80.0, 52.0, 32.0, 0.25, 32.0, 48.0, 120.0, 16.0, 30.0, 21.0, 52.0, 40.0, 65.0, 56.0, 32.0, 39.0, 30.0, 50.0, 52.0, 64.0, 64.0, 48.0, 2.0, 35.0, 112.0, 40.0, 1.6, 60.0, 30.0, 37.0, 56.0, 56.0, 27.0, 40.0, 36.0, 9.0, 32.0, 5.0, 32.0, 0.8, 45.0, 46.5, 29.0, 29.5, 35.0, 0.3, 35.0, 95.0, 32.0, 24.0, 32.0, 10.5, 0.3, 56.0, 56.0, 24.0, 35.0, 35.0, 64.0, 28.0, 50.0, 30.0, 80.0, 25.5, 75.0, 25.5, 30.0, 2.4, 16.0, 20.0, 9.0, 20.0, 29.0, 29.0, 35.0, 8.0, 30.0, 56.0, 40.0, 52.0, 32.0, 40.0, 45.0, 8.0, 58.0, 58.0, 40.0, 32.0, 30.0, 72.0, 0.8, 9.0, 40.0, 20.0, 28.0, 88.5, 8.0, 24.0, 48.0, 56.0, 0.30000000000000004, 32.0, 26.0, 32.0, 44.0, 15.0, 45.0, 48.0, 0.135, 50.0, 80.0, 45.0, 60.0, 45.0, 56.0, 30.0, 1.2, 35.0, 40.0, 40.0, 24.0, 44.0, 48.0, 45.0, 16.0, 56.0, 20.0, 45.0, 28.0, 27.0, 60.0, 30.0, 17.0, 20.0, 32.0, 40.0, 20.0, 40.0, 40.0, 40.0, 70.0, 45.0, 22.0, 20.0, 47.0, 45.0, 63.0, 20.0, 24.0, 25.0, 25.0, 20.0]\n"
     ]
    }
   ],
   "source": [
    "print(df['Top Speed (km/h)'].tolist())"
   ]
  },
  {
   "cell_type": "markdown",
   "id": "44cbfc2b",
   "metadata": {},
   "source": [
    "Finally, we have successfully done data wrangling and we can proceed to K-means clustering"
   ]
  },
  {
   "cell_type": "markdown",
   "id": "4ba113a2",
   "metadata": {},
   "source": [
    "### Question 3"
   ]
  },
  {
   "cell_type": "code",
   "execution_count": 64,
   "id": "0b6a372b",
   "metadata": {},
   "outputs": [],
   "source": [
    "# Run the K-means clustering over the dataset using only \n",
    "# Average speed and top speed. Set K=4: we only want \n",
    "# to cluster the dataset into four subgroups"
   ]
  },
  {
   "cell_type": "code",
   "execution_count": 65,
   "id": "138be881",
   "metadata": {},
   "outputs": [
    {
     "name": "stderr",
     "output_type": "stream",
     "text": [
      "/Users/harveykoay/anaconda3/envs/Rp_Env/lib/python3.10/site-packages/sklearn/cluster/_kmeans.py:1412: FutureWarning: The default value of `n_init` will change from 10 to 'auto' in 1.4. Set the value of `n_init` explicitly to suppress the warning\n",
      "  super()._check_params_vs_input(X, default_n_init=10)\n"
     ]
    }
   ],
   "source": [
    "from sklearn.cluster import KMeans\n",
    "kmeans = KMeans(n_clusters=4).fit(\n",
    "    df[['Average Speed (km/h)','Top Speed (km/h)']])"
   ]
  },
  {
   "cell_type": "code",
   "execution_count": 66,
   "id": "dd483e4a",
   "metadata": {},
   "outputs": [
    {
     "data": {
      "text/plain": [
       "array([[ 5.64729167,  5.849375  ],\n",
       "       [26.01384615, 28.5       ],\n",
       "       [71.96875   , 79.59375   ],\n",
       "       [48.2295082 , 48.71311475]])"
      ]
     },
     "execution_count": 66,
     "metadata": {},
     "output_type": "execute_result"
    }
   ],
   "source": [
    "# Checking the Two cluster centers\n",
    "kmeans.cluster_centers_"
   ]
  },
  {
   "cell_type": "code",
   "execution_count": 67,
   "id": "820ae90f",
   "metadata": {},
   "outputs": [
    {
     "data": {
      "text/plain": [
       "array([3, 1, 1, 2, 3, 3, 0, 3, 1, 2, 3, 3, 1, 3, 2, 3, 1, 0, 1, 3, 2, 0,\n",
       "       1, 1, 3, 3, 2, 3, 1, 3, 1, 3, 3, 3, 2, 3, 0, 1, 2, 3, 0, 3, 1, 3,\n",
       "       3, 3, 1, 3, 1, 0, 1, 0, 1, 0, 3, 3, 1, 1, 1, 0, 1, 2, 1, 1, 1, 0,\n",
       "       0, 3, 3, 1, 1, 1, 2, 1, 3, 1, 2, 1, 2, 1, 1, 0, 0, 1, 0, 1, 1, 1,\n",
       "       1, 0, 1, 3, 3, 3, 1, 3, 3, 0, 3, 3, 1, 1, 1, 2, 0, 0, 3, 1, 1, 2,\n",
       "       0, 1, 3, 3, 0, 1, 1, 1, 3, 0, 3, 3, 0, 3, 2, 3, 3, 3, 3, 1, 0, 1,\n",
       "       3, 3, 1, 3, 3, 3, 0, 3, 1, 3, 1, 1, 3, 1, 1, 1, 1, 3, 1, 3, 3, 3,\n",
       "       2, 3, 1, 1, 3, 3, 2, 1, 1, 1, 1, 1], dtype=int32)"
      ]
     },
     "execution_count": 67,
     "metadata": {},
     "output_type": "execute_result"
    }
   ],
   "source": [
    "# Checking the Cluster labels\n",
    "kmeans.labels_"
   ]
  },
  {
   "cell_type": "markdown",
   "id": "879ed754",
   "metadata": {},
   "source": [
    "### Question 4"
   ]
  },
  {
   "cell_type": "code",
   "execution_count": 68,
   "id": "94e01c4a",
   "metadata": {},
   "outputs": [
    {
     "data": {
      "image/png": "[encoded data removed]",
      "text/plain": [
       "<Figure size 640x480 with 1 Axes>"
      ]
     },
     "metadata": {},
     "output_type": "display_data"
    }
   ],
   "source": [
    "# Visualise the output labels\n",
    "plt.scatter(\n",
    "    x=df['Average Speed (km/h)'],\n",
    "    y=df['Top Speed (km/h)'],\n",
    "    c=kmeans.labels_)\n",
    "# Visualising the cluster centers (black stars) \n",
    "plt.plot(\n",
    "    kmeans.cluster_centers_[:,0],\n",
    "    kmeans.cluster_centers_[:,1],\n",
    "    'k*',\n",
    "    markersize=20\n",
    ")\n",
    "plt.xlabel('Average Speed (km/h)')\n",
    "plt.ylabel('Top Speed (km/h)')\n",
    "plt.show()"
   ]
  }
 ],
 "metadata": {
  "kernelspec": {
   "display_name": "Python 3 (ipykernel)",
   "language": "python",
   "name": "python3"
  },
  "language_info": {
   "codemirror_mode": {
    "name": "ipython",
    "version": 3
   },
   "file_extension": ".py",
   "mimetype": "text/x-python",
   "name": "python",
   "nbconvert_exporter": "python",
   "pygments_lexer": "ipython3",
   "version": "3.10.12"
  }
 },
 "nbformat": 4,
 "nbformat_minor": 5
}
